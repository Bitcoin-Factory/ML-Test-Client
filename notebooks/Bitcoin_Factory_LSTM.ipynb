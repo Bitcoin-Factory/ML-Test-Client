{
 "cells": [
  {
   "cell_type": "markdown",
   "metadata": {
    "id": "DweYe9FcbMK_"
   },
   "source": [
    "##### Bitcoin Factory Machine Learning\n"
   ]
  },
  {
   "cell_type": "markdown",
   "metadata": {},
   "source": [
    "# Multivariate Time Series Forecasting with LSTMs in Keras"
   ]
  },
  {
   "cell_type": "markdown",
   "metadata": {
    "id": "sUtoed20cRJJ"
   },
   "source": [
    "## Time Series Forcasting - Multiple Lag Timesteps - Multiple Labels"
   ]
  },
  {
   "cell_type": "markdown",
   "metadata": {},
   "source": [
    "Based on Tutorial from https://machinelearningmastery.com/multivariate-time-series-forecasting-lstms-keras/"
   ]
  },
  {
   "cell_type": "markdown",
   "metadata": {},
   "source": [
    "# Strategy"
   ]
  },
  {
   "cell_type": "markdown",
   "metadata": {},
   "source": [
    "The strategy is to predict the Candle.Max and Candle.Min of a set of Crypto Assets at the highest timeframe possible, in order to use the prediction to pick the one with higher % of predicted increase in price to take a position in it before that happens."
   ]
  },
  {
   "cell_type": "markdown",
   "metadata": {},
   "source": [
    "# Code to Run"
   ]
  },
  {
   "cell_type": "markdown",
   "metadata": {},
   "source": [
    "## Libraries Used"
   ]
  },
  {
   "cell_type": "code",
   "execution_count": 1,
   "metadata": {},
   "outputs": [],
   "source": [
    "\n",
    "from math import sqrt\n",
    "from numpy import concatenate\n",
    "from matplotlib import pyplot\n",
    "from pandas import read_csv\n",
    "from pandas import DataFrame\n",
    "from pandas import concat\n",
    "from sklearn.preprocessing import MinMaxScaler\n",
    "from sklearn.preprocessing import LabelEncoder\n",
    "from sklearn.metrics import mean_squared_error\n",
    "from keras.models import Sequential\n",
    "from keras.layers import Dense\n",
    "from keras.layers import LSTM"
   ]
  },
  {
   "cell_type": "markdown",
   "metadata": {},
   "source": [
    "## Functions Used"
   ]
  },
  {
   "cell_type": "code",
   "execution_count": 2,
   "metadata": {},
   "outputs": [],
   "source": [
    "# convert series to supervised learning\n",
    "def series_to_supervised(data, n_in=1, n_out=1, dropnan=True):\n",
    "\tn_vars = 1 if type(data) is list else data.shape[1]\n",
    "\tdf = DataFrame(data)\n",
    "\tcols, names = list(), list()\n",
    "\t# input sequence (t-n, ... t-1)\n",
    "\tfor i in range(n_in, 0, -1):\n",
    "\t\tcols.append(df.shift(i))\n",
    "\t\tnames += [('var%d(t-%d)' % (j+1, i)) for j in range(n_vars)]\n",
    "\t# forecast sequence (t, t+1, ... t+n)\n",
    "\tfor i in range(0, n_out):\n",
    "\t\tcols.append(df.shift(-i))\n",
    "\t\tif i == 0:\n",
    "\t\t\tnames += [('var%d(t)' % (j+1)) for j in range(n_vars)]\n",
    "\t\telse:\n",
    "\t\t\tnames += [('var%d(t+%d)' % (j+1, i)) for j in range(n_vars)]\n",
    "\t# put it all together\n",
    "\tagg = concat(cols, axis=1)\n",
    "\tagg.columns = names\n",
    "\t# drop rows with NaN values\n",
    "\tif dropnan:\n",
    "\t\tagg.dropna(inplace=True)\n",
    "\treturn agg \n",
    " "
   ]
  },
  {
   "cell_type": "markdown",
   "metadata": {},
   "source": [
    "## Load the Parameters Dataset\n"
   ]
  },
  {
   "cell_type": "code",
   "execution_count": 3,
   "metadata": {},
   "outputs": [
    {
     "data": {
      "text/html": [
       "<div>\n",
       "<style scoped>\n",
       "    .dataframe tbody tr th:only-of-type {\n",
       "        vertical-align: middle;\n",
       "    }\n",
       "\n",
       "    .dataframe tbody tr th {\n",
       "        vertical-align: top;\n",
       "    }\n",
       "\n",
       "    .dataframe thead th {\n",
       "        text-align: right;\n",
       "    }\n",
       "</style>\n",
       "<table border=\"1\" class=\"dataframe\">\n",
       "  <thead>\n",
       "    <tr style=\"text-align: right;\">\n",
       "      <th></th>\n",
       "      <th>PARAMETER</th>\n",
       "      <th>VALUE</th>\n",
       "    </tr>\n",
       "  </thead>\n",
       "  <tbody>\n",
       "    <tr>\n",
       "      <th>0</th>\n",
       "      <td>LIST_OF_ASSETS</td>\n",
       "      <td>UNI</td>\n",
       "    </tr>\n",
       "    <tr>\n",
       "      <th>1</th>\n",
       "      <td>LIST_OF_TIMEFRAMES</td>\n",
       "      <td>04-hs</td>\n",
       "    </tr>\n",
       "    <tr>\n",
       "      <th>2</th>\n",
       "      <td>NUMBER_OF_INDICATORS_PROPERTIES</td>\n",
       "      <td>5</td>\n",
       "    </tr>\n",
       "    <tr>\n",
       "      <th>3</th>\n",
       "      <td>NUMBER_OF_LAG_TIMESTEPS</td>\n",
       "      <td>9</td>\n",
       "    </tr>\n",
       "    <tr>\n",
       "      <th>4</th>\n",
       "      <td>NUMBER_OF_ASSETS</td>\n",
       "      <td>1</td>\n",
       "    </tr>\n",
       "    <tr>\n",
       "      <th>5</th>\n",
       "      <td>NUMBER_OF_LABELS</td>\n",
       "      <td>3</td>\n",
       "    </tr>\n",
       "    <tr>\n",
       "      <th>6</th>\n",
       "      <td>PERCENTAGE_OF_DATASET_FOR_TRAINING</td>\n",
       "      <td>80</td>\n",
       "    </tr>\n",
       "    <tr>\n",
       "      <th>7</th>\n",
       "      <td>NUMBER_OF_FEATURES</td>\n",
       "      <td>5</td>\n",
       "    </tr>\n",
       "    <tr>\n",
       "      <th>8</th>\n",
       "      <td>NUMBER_OF_EPOCHS</td>\n",
       "      <td>1</td>\n",
       "    </tr>\n",
       "    <tr>\n",
       "      <th>9</th>\n",
       "      <td>NUMBER_OF_LSTM_NEURONS</td>\n",
       "      <td>50</td>\n",
       "    </tr>\n",
       "  </tbody>\n",
       "</table>\n",
       "</div>"
      ],
      "text/plain": [
       "                            PARAMETER  VALUE\n",
       "0                      LIST_OF_ASSETS    UNI\n",
       "1                  LIST_OF_TIMEFRAMES  04-hs\n",
       "2     NUMBER_OF_INDICATORS_PROPERTIES      5\n",
       "3             NUMBER_OF_LAG_TIMESTEPS      9\n",
       "4                    NUMBER_OF_ASSETS      1\n",
       "5                    NUMBER_OF_LABELS      3\n",
       "6  PERCENTAGE_OF_DATASET_FOR_TRAINING     80\n",
       "7                  NUMBER_OF_FEATURES      5\n",
       "8                    NUMBER_OF_EPOCHS      1\n",
       "9              NUMBER_OF_LSTM_NEURONS     50"
      ]
     },
     "execution_count": 3,
     "metadata": {},
     "output_type": "execute_result"
    }
   ],
   "source": [
    "parameters_dataset = read_csv(\n",
    "    '/tf/notebooks/parameters.csv', \n",
    "    header=0, \n",
    "    sep=' ', \n",
    "    skipinitialspace=True\n",
    ")\n",
    "\n",
    "parameters_dataset"
   ]
  },
  {
   "cell_type": "code",
   "execution_count": 4,
   "metadata": {},
   "outputs": [],
   "source": [
    "# number of indicator properties that are at the raw dataset. Each set of indicators properties might be at many assets or timeframes.\n",
    "NUMBER_OF_INDICATORS_PROPERTIES = int(parameters_dataset.values[2][1])\n",
    "\n",
    "# number of timesteps in the secuence that we are going to use to feed the model.\n",
    "NUMBER_OF_LAG_TIMESTEPS = int(parameters_dataset.values[3][1])\n",
    "\n",
    "# number of assets included at the raw dataset.\n",
    "NUMBER_OF_ASSETS = int(parameters_dataset.values[4][1])\n",
    "\n",
    "# number of things we are going to predict.\n",
    "NUMBER_OF_LABELS = int(parameters_dataset.values[5][1])\n",
    "\n",
    "# definition of how the raw dataset is going to be divided between a Traing Dataset and a Test Dataset.\n",
    "PERCENTAGE_OF_DATASET_FOR_TRAINING = int(parameters_dataset.values[6][1])\n",
    "\n",
    "NUMBER_OF_FEATURES = int(parameters_dataset.values[7][1])\n",
    "\n",
    "# hyper-parameters\n",
    "NUMBER_OF_EPOCHS = int(parameters_dataset.values[8][1])\n",
    "NUMBER_OF_LSTM_NEURONS = int(parameters_dataset.values[9][1])"
   ]
  },
  {
   "cell_type": "markdown",
   "metadata": {},
   "source": [
    "## Load the Time-Series Dataset"
   ]
  },
  {
   "cell_type": "code",
   "execution_count": 5,
   "metadata": {},
   "outputs": [
    {
     "data": {
      "text/html": [
       "<div>\n",
       "<style scoped>\n",
       "    .dataframe tbody tr th:only-of-type {\n",
       "        vertical-align: middle;\n",
       "    }\n",
       "\n",
       "    .dataframe tbody tr th {\n",
       "        vertical-align: top;\n",
       "    }\n",
       "\n",
       "    .dataframe thead th {\n",
       "        text-align: right;\n",
       "    }\n",
       "</style>\n",
       "<table border=\"1\" class=\"dataframe\">\n",
       "  <thead>\n",
       "    <tr style=\"text-align: right;\">\n",
       "      <th></th>\n",
       "      <th>UNI-candle.max-04-hs-1</th>\n",
       "      <th>UNI-candle.min-04-hs-1</th>\n",
       "      <th>UNI-candle.open-04-hs-1</th>\n",
       "      <th>UNI-candle.close-04-hs-1</th>\n",
       "      <th>UNI-volume.total-04-hs-1</th>\n",
       "    </tr>\n",
       "    <tr>\n",
       "      <th>Timestamp</th>\n",
       "      <th></th>\n",
       "      <th></th>\n",
       "      <th></th>\n",
       "      <th></th>\n",
       "      <th></th>\n",
       "    </tr>\n",
       "  </thead>\n",
       "  <tbody>\n",
       "    <tr>\n",
       "      <th>1600315200000</th>\n",
       "      <td>4.5000</td>\n",
       "      <td>2.3521</td>\n",
       "      <td>3.0001</td>\n",
       "      <td>3.4080</td>\n",
       "      <td>24475691.94</td>\n",
       "    </tr>\n",
       "    <tr>\n",
       "      <th>1600329600000</th>\n",
       "      <td>3.6391</td>\n",
       "      <td>2.7377</td>\n",
       "      <td>3.4047</td>\n",
       "      <td>2.8740</td>\n",
       "      <td>18187071.17</td>\n",
       "    </tr>\n",
       "    <tr>\n",
       "      <th>1600344000000</th>\n",
       "      <td>3.2621</td>\n",
       "      <td>2.4501</td>\n",
       "      <td>2.8711</td>\n",
       "      <td>2.9976</td>\n",
       "      <td>17582661.41</td>\n",
       "    </tr>\n",
       "    <tr>\n",
       "      <th>1600358400000</th>\n",
       "      <td>3.9572</td>\n",
       "      <td>2.9500</td>\n",
       "      <td>2.9975</td>\n",
       "      <td>3.5044</td>\n",
       "      <td>22515131.35</td>\n",
       "    </tr>\n",
       "    <tr>\n",
       "      <th>1600372800000</th>\n",
       "      <td>3.8764</td>\n",
       "      <td>3.0861</td>\n",
       "      <td>3.5040</td>\n",
       "      <td>3.4617</td>\n",
       "      <td>13910658.37</td>\n",
       "    </tr>\n",
       "    <tr>\n",
       "      <th>...</th>\n",
       "      <td>...</td>\n",
       "      <td>...</td>\n",
       "      <td>...</td>\n",
       "      <td>...</td>\n",
       "      <td>...</td>\n",
       "    </tr>\n",
       "    <tr>\n",
       "      <th>1646611200000</th>\n",
       "      <td>8.5000</td>\n",
       "      <td>8.1800</td>\n",
       "      <td>8.4800</td>\n",
       "      <td>8.2200</td>\n",
       "      <td>647122.03</td>\n",
       "    </tr>\n",
       "    <tr>\n",
       "      <th>1646625600000</th>\n",
       "      <td>8.3300</td>\n",
       "      <td>8.1600</td>\n",
       "      <td>8.2300</td>\n",
       "      <td>8.2100</td>\n",
       "      <td>168671.63</td>\n",
       "    </tr>\n",
       "    <tr>\n",
       "      <th>1646640000000</th>\n",
       "      <td>8.3500</td>\n",
       "      <td>8.1400</td>\n",
       "      <td>8.2100</td>\n",
       "      <td>8.3100</td>\n",
       "      <td>257004.01</td>\n",
       "    </tr>\n",
       "    <tr>\n",
       "      <th>1646654400000</th>\n",
       "      <td>8.7900</td>\n",
       "      <td>8.3200</td>\n",
       "      <td>8.3200</td>\n",
       "      <td>8.7100</td>\n",
       "      <td>593587.01</td>\n",
       "    </tr>\n",
       "    <tr>\n",
       "      <th>1646668800000</th>\n",
       "      <td>8.8000</td>\n",
       "      <td>8.3900</td>\n",
       "      <td>8.7200</td>\n",
       "      <td>8.4200</td>\n",
       "      <td>237515.42</td>\n",
       "    </tr>\n",
       "  </tbody>\n",
       "</table>\n",
       "<p>3220 rows × 5 columns</p>\n",
       "</div>"
      ],
      "text/plain": [
       "               UNI-candle.max-04-hs-1  UNI-candle.min-04-hs-1  \\\n",
       "Timestamp                                                       \n",
       "1600315200000                  4.5000                  2.3521   \n",
       "1600329600000                  3.6391                  2.7377   \n",
       "1600344000000                  3.2621                  2.4501   \n",
       "1600358400000                  3.9572                  2.9500   \n",
       "1600372800000                  3.8764                  3.0861   \n",
       "...                               ...                     ...   \n",
       "1646611200000                  8.5000                  8.1800   \n",
       "1646625600000                  8.3300                  8.1600   \n",
       "1646640000000                  8.3500                  8.1400   \n",
       "1646654400000                  8.7900                  8.3200   \n",
       "1646668800000                  8.8000                  8.3900   \n",
       "\n",
       "               UNI-candle.open-04-hs-1  UNI-candle.close-04-hs-1  \\\n",
       "Timestamp                                                          \n",
       "1600315200000                   3.0001                    3.4080   \n",
       "1600329600000                   3.4047                    2.8740   \n",
       "1600344000000                   2.8711                    2.9976   \n",
       "1600358400000                   2.9975                    3.5044   \n",
       "1600372800000                   3.5040                    3.4617   \n",
       "...                                ...                       ...   \n",
       "1646611200000                   8.4800                    8.2200   \n",
       "1646625600000                   8.2300                    8.2100   \n",
       "1646640000000                   8.2100                    8.3100   \n",
       "1646654400000                   8.3200                    8.7100   \n",
       "1646668800000                   8.7200                    8.4200   \n",
       "\n",
       "               UNI-volume.total-04-hs-1  \n",
       "Timestamp                                \n",
       "1600315200000               24475691.94  \n",
       "1600329600000               18187071.17  \n",
       "1600344000000               17582661.41  \n",
       "1600358400000               22515131.35  \n",
       "1600372800000               13910658.37  \n",
       "...                                 ...  \n",
       "1646611200000                 647122.03  \n",
       "1646625600000                 168671.63  \n",
       "1646640000000                 257004.01  \n",
       "1646654400000                 593587.01  \n",
       "1646668800000                 237515.42  \n",
       "\n",
       "[3220 rows x 5 columns]"
      ]
     },
     "execution_count": 5,
     "metadata": {},
     "output_type": "execute_result"
    }
   ],
   "source": [
    "timeseries_dataset = read_csv(\n",
    "    '/tf/notebooks/time-series.csv', \n",
    "    header=0, \n",
    "    index_col=0,    #The first colum is a timestamp that will be used to index all the data.\n",
    "    sep=' ', \n",
    "    skipinitialspace=True\n",
    ")\n",
    "\n",
    "timeseries_dataset"
   ]
  },
  {
   "cell_type": "markdown",
   "metadata": {},
   "source": [
    "## Duplicate the Last Record"
   ]
  },
  {
   "cell_type": "markdown",
   "metadata": {},
   "source": [
    "The reframing process shift each record to the left of the shifting window, producing that the last record of data is ignored at the last prediction. To fix this we will duplicate the last record so that the last prediction belongs to the the last piece of information available."
   ]
  },
  {
   "cell_type": "code",
   "execution_count": 6,
   "metadata": {},
   "outputs": [],
   "source": [
    "values = timeseries_dataset.values"
   ]
  },
  {
   "cell_type": "code",
   "execution_count": 7,
   "metadata": {},
   "outputs": [
    {
     "data": {
      "text/plain": [
       "array([[8.8000000e+00, 8.3900000e+00, 8.7200000e+00, 8.4200000e+00,\n",
       "        2.3751542e+05]])"
      ]
     },
     "execution_count": 7,
     "metadata": {},
     "output_type": "execute_result"
    }
   ],
   "source": [
    "last_record = values[-1:,:]\n",
    "last_record"
   ]
  },
  {
   "cell_type": "code",
   "execution_count": 8,
   "metadata": {},
   "outputs": [
    {
     "data": {
      "text/plain": [
       "array([[4.50000000e+00, 2.35210000e+00, 3.00010000e+00, 3.40800000e+00,\n",
       "        2.44756919e+07],\n",
       "       [3.63910000e+00, 2.73770000e+00, 3.40470000e+00, 2.87400000e+00,\n",
       "        1.81870712e+07],\n",
       "       [3.26210000e+00, 2.45010000e+00, 2.87110000e+00, 2.99760000e+00,\n",
       "        1.75826614e+07],\n",
       "       ...,\n",
       "       [8.79000000e+00, 8.32000000e+00, 8.32000000e+00, 8.71000000e+00,\n",
       "        5.93587010e+05],\n",
       "       [8.80000000e+00, 8.39000000e+00, 8.72000000e+00, 8.42000000e+00,\n",
       "        2.37515420e+05],\n",
       "       [8.80000000e+00, 8.39000000e+00, 8.72000000e+00, 8.42000000e+00,\n",
       "        2.37515420e+05]])"
      ]
     },
     "execution_count": 8,
     "metadata": {},
     "output_type": "execute_result"
    }
   ],
   "source": [
    "all_records = concatenate((values, last_record), axis=0)\n",
    "all_records"
   ]
  },
  {
   "cell_type": "code",
   "execution_count": 9,
   "metadata": {},
   "outputs": [],
   "source": [
    "# ensure all data is float\n",
    "values = all_records.astype('float32')"
   ]
  },
  {
   "cell_type": "markdown",
   "metadata": {},
   "source": [
    "## Plot & Verify"
   ]
  },
  {
   "cell_type": "markdown",
   "metadata": {},
   "source": [
    "We plot our raw data just to be sure with a glimpse that it is alright."
   ]
  },
  {
   "cell_type": "code",
   "execution_count": 10,
   "metadata": {},
   "outputs": [
    {
     "data": {
      "image/png": "[encoded data removed]",
      "text/plain": [
       "<Figure size 640x480 with 2 Axes>"
      ]
     },
     "metadata": {},
     "output_type": "display_data"
    }
   ],
   "source": [
    "# specify columns to plot\n",
    "groups = [0, 2]\n",
    "i = 1\n",
    "# plot each column\n",
    "pyplot.figure()\n",
    "for group in groups:\n",
    "\tpyplot.subplot(len(groups), 1, i)\n",
    "\tpyplot.plot(values[:, group])\n",
    "\tpyplot.title(timeseries_dataset.columns[group], y=0.5, loc='right')\n",
    "\ti += 1\n",
    "pyplot.show()"
   ]
  },
  {
   "cell_type": "markdown",
   "metadata": {},
   "source": [
    "## Normalization"
   ]
  },
  {
   "cell_type": "markdown",
   "metadata": {},
   "source": [
    "Normalizing or removing the scale, is a standar prodcedure of any machine learning workflow. "
   ]
  },
  {
   "cell_type": "code",
   "execution_count": 11,
   "metadata": {},
   "outputs": [],
   "source": [
    "# normalize features\n",
    "scaler = MinMaxScaler(feature_range=(0, 1))\n",
    "scaled = scaler.fit_transform(values)"
   ]
  },
  {
   "cell_type": "markdown",
   "metadata": {},
   "source": [
    "## Reframing as a Supervised Learning Problem"
   ]
  },
  {
   "cell_type": "markdown",
   "metadata": {},
   "source": [
    "Each Raw record needs to be expanded with the previous records in order to be suitable for beeing fed into a LSTM model. Some fields of the record at time = 0 will be used as labels and the ones at time < 0 as features."
   ]
  },
  {
   "cell_type": "code",
   "execution_count": 12,
   "metadata": {},
   "outputs": [],
   "source": [
    "# frame as supervised learning\n",
    "reframed = series_to_supervised(scaled, NUMBER_OF_LAG_TIMESTEPS, 1)"
   ]
  },
  {
   "cell_type": "code",
   "execution_count": 13,
   "metadata": {},
   "outputs": [
    {
     "data": {
      "text/html": [
       "<div>\n",
       "<style scoped>\n",
       "    .dataframe tbody tr th:only-of-type {\n",
       "        vertical-align: middle;\n",
       "    }\n",
       "\n",
       "    .dataframe tbody tr th {\n",
       "        vertical-align: top;\n",
       "    }\n",
       "\n",
       "    .dataframe thead th {\n",
       "        text-align: right;\n",
       "    }\n",
       "</style>\n",
       "<table border=\"1\" class=\"dataframe\">\n",
       "  <thead>\n",
       "    <tr style=\"text-align: right;\">\n",
       "      <th></th>\n",
       "      <th>var1(t-9)</th>\n",
       "      <th>var2(t-9)</th>\n",
       "      <th>var3(t-9)</th>\n",
       "      <th>var4(t-9)</th>\n",
       "      <th>var5(t-9)</th>\n",
       "      <th>var1(t-8)</th>\n",
       "      <th>var2(t-8)</th>\n",
       "      <th>var3(t-8)</th>\n",
       "      <th>var4(t-8)</th>\n",
       "      <th>var5(t-8)</th>\n",
       "      <th>...</th>\n",
       "      <th>var1(t-1)</th>\n",
       "      <th>var2(t-1)</th>\n",
       "      <th>var3(t-1)</th>\n",
       "      <th>var4(t-1)</th>\n",
       "      <th>var5(t-1)</th>\n",
       "      <th>var1(t)</th>\n",
       "      <th>var2(t)</th>\n",
       "      <th>var3(t)</th>\n",
       "      <th>var4(t)</th>\n",
       "      <th>var5(t)</th>\n",
       "    </tr>\n",
       "  </thead>\n",
       "  <tbody>\n",
       "    <tr>\n",
       "      <th>9</th>\n",
       "      <td>0.061298</td>\n",
       "      <td>0.014149</td>\n",
       "      <td>0.028148</td>\n",
       "      <td>0.037693</td>\n",
       "      <td>0.503312</td>\n",
       "      <td>0.041345</td>\n",
       "      <td>0.023306</td>\n",
       "      <td>0.037628</td>\n",
       "      <td>0.025185</td>\n",
       "      <td>0.373698</td>\n",
       "      <td>...</td>\n",
       "      <td>0.114276</td>\n",
       "      <td>0.072655</td>\n",
       "      <td>0.070692</td>\n",
       "      <td>0.107052</td>\n",
       "      <td>0.645893</td>\n",
       "      <td>0.156327</td>\n",
       "      <td>0.104482</td>\n",
       "      <td>0.107090</td>\n",
       "      <td>0.108156</td>\n",
       "      <td>1.000000</td>\n",
       "    </tr>\n",
       "    <tr>\n",
       "      <th>10</th>\n",
       "      <td>0.041345</td>\n",
       "      <td>0.023306</td>\n",
       "      <td>0.037628</td>\n",
       "      <td>0.025185</td>\n",
       "      <td>0.373698</td>\n",
       "      <td>0.032607</td>\n",
       "      <td>0.016476</td>\n",
       "      <td>0.025125</td>\n",
       "      <td>0.028080</td>\n",
       "      <td>0.361240</td>\n",
       "      <td>...</td>\n",
       "      <td>0.156327</td>\n",
       "      <td>0.104482</td>\n",
       "      <td>0.107090</td>\n",
       "      <td>0.108156</td>\n",
       "      <td>1.000000</td>\n",
       "      <td>0.137050</td>\n",
       "      <td>0.101171</td>\n",
       "      <td>0.108275</td>\n",
       "      <td>0.119488</td>\n",
       "      <td>0.496875</td>\n",
       "    </tr>\n",
       "    <tr>\n",
       "      <th>11</th>\n",
       "      <td>0.032607</td>\n",
       "      <td>0.016476</td>\n",
       "      <td>0.025125</td>\n",
       "      <td>0.028080</td>\n",
       "      <td>0.361240</td>\n",
       "      <td>0.048717</td>\n",
       "      <td>0.028347</td>\n",
       "      <td>0.028087</td>\n",
       "      <td>0.039951</td>\n",
       "      <td>0.462903</td>\n",
       "      <td>...</td>\n",
       "      <td>0.137050</td>\n",
       "      <td>0.101171</td>\n",
       "      <td>0.108275</td>\n",
       "      <td>0.119488</td>\n",
       "      <td>0.496875</td>\n",
       "      <td>0.129673</td>\n",
       "      <td>0.103746</td>\n",
       "      <td>0.119527</td>\n",
       "      <td>0.102536</td>\n",
       "      <td>0.273235</td>\n",
       "    </tr>\n",
       "    <tr>\n",
       "      <th>12</th>\n",
       "      <td>0.048717</td>\n",
       "      <td>0.028347</td>\n",
       "      <td>0.028087</td>\n",
       "      <td>0.039951</td>\n",
       "      <td>0.462903</td>\n",
       "      <td>0.046845</td>\n",
       "      <td>0.031579</td>\n",
       "      <td>0.039955</td>\n",
       "      <td>0.038951</td>\n",
       "      <td>0.285557</td>\n",
       "      <td>...</td>\n",
       "      <td>0.129673</td>\n",
       "      <td>0.103746</td>\n",
       "      <td>0.119527</td>\n",
       "      <td>0.102536</td>\n",
       "      <td>0.273235</td>\n",
       "      <td>0.121561</td>\n",
       "      <td>0.104458</td>\n",
       "      <td>0.102474</td>\n",
       "      <td>0.106012</td>\n",
       "      <td>0.215248</td>\n",
       "    </tr>\n",
       "    <tr>\n",
       "      <th>13</th>\n",
       "      <td>0.046845</td>\n",
       "      <td>0.031579</td>\n",
       "      <td>0.039955</td>\n",
       "      <td>0.038951</td>\n",
       "      <td>0.285557</td>\n",
       "      <td>0.054577</td>\n",
       "      <td>0.034961</td>\n",
       "      <td>0.038966</td>\n",
       "      <td>0.053940</td>\n",
       "      <td>0.228280</td>\n",
       "      <td>...</td>\n",
       "      <td>0.121561</td>\n",
       "      <td>0.104458</td>\n",
       "      <td>0.102474</td>\n",
       "      <td>0.106012</td>\n",
       "      <td>0.215248</td>\n",
       "      <td>0.128050</td>\n",
       "      <td>0.106952</td>\n",
       "      <td>0.105953</td>\n",
       "      <td>0.127621</td>\n",
       "      <td>0.250476</td>\n",
       "    </tr>\n",
       "    <tr>\n",
       "      <th>...</th>\n",
       "      <td>...</td>\n",
       "      <td>...</td>\n",
       "      <td>...</td>\n",
       "      <td>...</td>\n",
       "      <td>...</td>\n",
       "      <td>...</td>\n",
       "      <td>...</td>\n",
       "      <td>...</td>\n",
       "      <td>...</td>\n",
       "      <td>...</td>\n",
       "      <td>...</td>\n",
       "      <td>...</td>\n",
       "      <td>...</td>\n",
       "      <td>...</td>\n",
       "      <td>...</td>\n",
       "      <td>...</td>\n",
       "      <td>...</td>\n",
       "      <td>...</td>\n",
       "      <td>...</td>\n",
       "      <td>...</td>\n",
       "      <td>...</td>\n",
       "    </tr>\n",
       "    <tr>\n",
       "      <th>3216</th>\n",
       "      <td>0.168843</td>\n",
       "      <td>0.171307</td>\n",
       "      <td>0.168264</td>\n",
       "      <td>0.170083</td>\n",
       "      <td>0.002257</td>\n",
       "      <td>0.168148</td>\n",
       "      <td>0.170832</td>\n",
       "      <td>0.169904</td>\n",
       "      <td>0.168911</td>\n",
       "      <td>0.001231</td>\n",
       "      <td>...</td>\n",
       "      <td>0.154010</td>\n",
       "      <td>0.152547</td>\n",
       "      <td>0.156548</td>\n",
       "      <td>0.150407</td>\n",
       "      <td>0.012184</td>\n",
       "      <td>0.150069</td>\n",
       "      <td>0.152072</td>\n",
       "      <td>0.150691</td>\n",
       "      <td>0.150173</td>\n",
       "      <td>0.002322</td>\n",
       "    </tr>\n",
       "    <tr>\n",
       "      <th>3217</th>\n",
       "      <td>0.168148</td>\n",
       "      <td>0.170832</td>\n",
       "      <td>0.169904</td>\n",
       "      <td>0.168911</td>\n",
       "      <td>0.001231</td>\n",
       "      <td>0.167453</td>\n",
       "      <td>0.166795</td>\n",
       "      <td>0.169201</td>\n",
       "      <td>0.164461</td>\n",
       "      <td>0.002774</td>\n",
       "      <td>...</td>\n",
       "      <td>0.150069</td>\n",
       "      <td>0.152072</td>\n",
       "      <td>0.150691</td>\n",
       "      <td>0.150173</td>\n",
       "      <td>0.002322</td>\n",
       "      <td>0.150533</td>\n",
       "      <td>0.151597</td>\n",
       "      <td>0.150222</td>\n",
       "      <td>0.152515</td>\n",
       "      <td>0.004143</td>\n",
       "    </tr>\n",
       "    <tr>\n",
       "      <th>3218</th>\n",
       "      <td>0.167453</td>\n",
       "      <td>0.166795</td>\n",
       "      <td>0.169201</td>\n",
       "      <td>0.164461</td>\n",
       "      <td>0.002774</td>\n",
       "      <td>0.161658</td>\n",
       "      <td>0.163471</td>\n",
       "      <td>0.164281</td>\n",
       "      <td>0.162821</td>\n",
       "      <td>0.005833</td>\n",
       "      <td>...</td>\n",
       "      <td>0.150533</td>\n",
       "      <td>0.151597</td>\n",
       "      <td>0.150222</td>\n",
       "      <td>0.152515</td>\n",
       "      <td>0.004143</td>\n",
       "      <td>0.160731</td>\n",
       "      <td>0.155871</td>\n",
       "      <td>0.152799</td>\n",
       "      <td>0.161884</td>\n",
       "      <td>0.011080</td>\n",
       "    </tr>\n",
       "    <tr>\n",
       "      <th>3219</th>\n",
       "      <td>0.161658</td>\n",
       "      <td>0.163471</td>\n",
       "      <td>0.164281</td>\n",
       "      <td>0.162821</td>\n",
       "      <td>0.005833</td>\n",
       "      <td>0.159804</td>\n",
       "      <td>0.158721</td>\n",
       "      <td>0.162875</td>\n",
       "      <td>0.158371</td>\n",
       "      <td>0.006683</td>\n",
       "      <td>...</td>\n",
       "      <td>0.160731</td>\n",
       "      <td>0.155871</td>\n",
       "      <td>0.152799</td>\n",
       "      <td>0.161884</td>\n",
       "      <td>0.011080</td>\n",
       "      <td>0.160963</td>\n",
       "      <td>0.157534</td>\n",
       "      <td>0.162172</td>\n",
       "      <td>0.155092</td>\n",
       "      <td>0.003741</td>\n",
       "    </tr>\n",
       "    <tr>\n",
       "      <th>3220</th>\n",
       "      <td>0.159804</td>\n",
       "      <td>0.158721</td>\n",
       "      <td>0.162875</td>\n",
       "      <td>0.158371</td>\n",
       "      <td>0.006683</td>\n",
       "      <td>0.159572</td>\n",
       "      <td>0.160621</td>\n",
       "      <td>0.158189</td>\n",
       "      <td>0.160713</td>\n",
       "      <td>0.003868</td>\n",
       "      <td>...</td>\n",
       "      <td>0.160963</td>\n",
       "      <td>0.157534</td>\n",
       "      <td>0.162172</td>\n",
       "      <td>0.155092</td>\n",
       "      <td>0.003741</td>\n",
       "      <td>0.160963</td>\n",
       "      <td>0.157534</td>\n",
       "      <td>0.162172</td>\n",
       "      <td>0.155092</td>\n",
       "      <td>0.003741</td>\n",
       "    </tr>\n",
       "  </tbody>\n",
       "</table>\n",
       "<p>3212 rows × 50 columns</p>\n",
       "</div>"
      ],
      "text/plain": [
       "      var1(t-9)  var2(t-9)  var3(t-9)  var4(t-9)  var5(t-9)  var1(t-8)  \\\n",
       "9      0.061298   0.014149   0.028148   0.037693   0.503312   0.041345   \n",
       "10     0.041345   0.023306   0.037628   0.025185   0.373698   0.032607   \n",
       "11     0.032607   0.016476   0.025125   0.028080   0.361240   0.048717   \n",
       "12     0.048717   0.028347   0.028087   0.039951   0.462903   0.046845   \n",
       "13     0.046845   0.031579   0.039955   0.038951   0.285557   0.054577   \n",
       "...         ...        ...        ...        ...        ...        ...   \n",
       "3216   0.168843   0.171307   0.168264   0.170083   0.002257   0.168148   \n",
       "3217   0.168148   0.170832   0.169904   0.168911   0.001231   0.167453   \n",
       "3218   0.167453   0.166795   0.169201   0.164461   0.002774   0.161658   \n",
       "3219   0.161658   0.163471   0.164281   0.162821   0.005833   0.159804   \n",
       "3220   0.159804   0.158721   0.162875   0.158371   0.006683   0.159572   \n",
       "\n",
       "      var2(t-8)  var3(t-8)  var4(t-8)  var5(t-8)  ...  var1(t-1)  var2(t-1)  \\\n",
       "9      0.023306   0.037628   0.025185   0.373698  ...   0.114276   0.072655   \n",
       "10     0.016476   0.025125   0.028080   0.361240  ...   0.156327   0.104482   \n",
       "11     0.028347   0.028087   0.039951   0.462903  ...   0.137050   0.101171   \n",
       "12     0.031579   0.039955   0.038951   0.285557  ...   0.129673   0.103746   \n",
       "13     0.034961   0.038966   0.053940   0.228280  ...   0.121561   0.104458   \n",
       "...         ...        ...        ...        ...  ...        ...        ...   \n",
       "3216   0.170832   0.169904   0.168911   0.001231  ...   0.154010   0.152547   \n",
       "3217   0.166795   0.169201   0.164461   0.002774  ...   0.150069   0.152072   \n",
       "3218   0.163471   0.164281   0.162821   0.005833  ...   0.150533   0.151597   \n",
       "3219   0.158721   0.162875   0.158371   0.006683  ...   0.160731   0.155871   \n",
       "3220   0.160621   0.158189   0.160713   0.003868  ...   0.160963   0.157534   \n",
       "\n",
       "      var3(t-1)  var4(t-1)  var5(t-1)   var1(t)   var2(t)   var3(t)   var4(t)  \\\n",
       "9      0.070692   0.107052   0.645893  0.156327  0.104482  0.107090  0.108156   \n",
       "10     0.107090   0.108156   1.000000  0.137050  0.101171  0.108275  0.119488   \n",
       "11     0.108275   0.119488   0.496875  0.129673  0.103746  0.119527  0.102536   \n",
       "12     0.119527   0.102536   0.273235  0.121561  0.104458  0.102474  0.106012   \n",
       "13     0.102474   0.106012   0.215248  0.128050  0.106952  0.105953  0.127621   \n",
       "...         ...        ...        ...       ...       ...       ...       ...   \n",
       "3216   0.156548   0.150407   0.012184  0.150069  0.152072  0.150691  0.150173   \n",
       "3217   0.150691   0.150173   0.002322  0.150533  0.151597  0.150222  0.152515   \n",
       "3218   0.150222   0.152515   0.004143  0.160731  0.155871  0.152799  0.161884   \n",
       "3219   0.152799   0.161884   0.011080  0.160963  0.157534  0.162172  0.155092   \n",
       "3220   0.162172   0.155092   0.003741  0.160963  0.157534  0.162172  0.155092   \n",
       "\n",
       "       var5(t)  \n",
       "9     1.000000  \n",
       "10    0.496875  \n",
       "11    0.273235  \n",
       "12    0.215248  \n",
       "13    0.250476  \n",
       "...        ...  \n",
       "3216  0.002322  \n",
       "3217  0.004143  \n",
       "3218  0.011080  \n",
       "3219  0.003741  \n",
       "3220  0.003741  \n",
       "\n",
       "[3212 rows x 50 columns]"
      ]
     },
     "execution_count": 13,
     "metadata": {},
     "output_type": "execute_result"
    }
   ],
   "source": [
    "reframed"
   ]
  },
  {
   "cell_type": "markdown",
   "metadata": {},
   "source": [
    "## Train and Test Dataset Preparation"
   ]
  },
  {
   "cell_type": "markdown",
   "metadata": {},
   "source": [
    "The first part of the dataset will be used to train the model. The last part for calculating the prediction error. Later we will generate the predictions for the test dataset and measure how accurate they were."
   ]
  },
  {
   "cell_type": "code",
   "execution_count": 14,
   "metadata": {},
   "outputs": [
    {
     "data": {
      "text/plain": [
       "2569"
      ]
     },
     "execution_count": 14,
     "metadata": {},
     "output_type": "execute_result"
    }
   ],
   "source": [
    "# get values from reframed dataset\n",
    "values = reframed.values\n",
    "record_count = len(values)\n",
    "records_for_training = int(record_count * PERCENTAGE_OF_DATASET_FOR_TRAINING / 100)\n",
    "records_for_training"
   ]
  },
  {
   "cell_type": "code",
   "execution_count": 15,
   "metadata": {},
   "outputs": [],
   "source": [
    "# split into train and test sets\n",
    "train = values[:records_for_training, :]\n",
    "test = values[records_for_training:, :]"
   ]
  },
  {
   "cell_type": "code",
   "execution_count": 16,
   "metadata": {},
   "outputs": [
    {
     "data": {
      "text/plain": [
       "(2569, 50)"
      ]
     },
     "execution_count": 16,
     "metadata": {},
     "output_type": "execute_result"
    }
   ],
   "source": [
    "train.shape"
   ]
  },
  {
   "cell_type": "code",
   "execution_count": 17,
   "metadata": {},
   "outputs": [
    {
     "data": {
      "text/plain": [
       "(643, 50)"
      ]
     },
     "execution_count": 17,
     "metadata": {},
     "output_type": "execute_result"
    }
   ],
   "source": [
    "test.shape"
   ]
  },
  {
   "cell_type": "markdown",
   "metadata": {},
   "source": [
    "## Split into Input and Outputs"
   ]
  },
  {
   "cell_type": "markdown",
   "metadata": {},
   "source": [
    "Here we will split both the Train and the Test datasets into features and labels. \n",
    "Features will be all the information where time < 0. For the labels, we will pick only the first 2 fields of each set of indicator properties, which we expect them to contain the Candle Max and Candle Min for each Asset."
   ]
  },
  {
   "cell_type": "code",
   "execution_count": 18,
   "metadata": {},
   "outputs": [],
   "source": [
    "# split into input and outputs\n",
    "n_obs = NUMBER_OF_LAG_TIMESTEPS * NUMBER_OF_FEATURES\n",
    "\n",
    "train_X = train[:, :n_obs]\n",
    "train_y = train[:, -NUMBER_OF_FEATURES:-(NUMBER_OF_FEATURES-NUMBER_OF_LABELS)]\n",
    "\n",
    "test_X = test[:, :n_obs]\n",
    "test_y = test[:, -NUMBER_OF_FEATURES:-(NUMBER_OF_FEATURES-NUMBER_OF_LABELS)]"
   ]
  },
  {
   "cell_type": "code",
   "execution_count": 19,
   "metadata": {},
   "outputs": [
    {
     "data": {
      "text/plain": [
       "array([[0.06129837, 0.01414876, 0.02814786, ..., 0.07069184, 0.10705234,\n",
       "        0.6458932 ],\n",
       "       [0.04134459, 0.02330579, 0.03762811, ..., 0.10708982, 0.10815559,\n",
       "        1.0000001 ],\n",
       "       [0.03260655, 0.01647601, 0.02512524, ..., 0.10827543, 0.11948787,\n",
       "        0.49687454],\n",
       "       ...,\n",
       "       [0.43446124, 0.43015504, 0.437488  , ..., 0.45131236, 0.45210135,\n",
       "        0.00216551],\n",
       "       [0.43446124, 0.4277803 , 0.42858416, ..., 0.45224965, 0.4626419 ,\n",
       "        0.00299837],\n",
       "       [0.4314481 , 0.43110493, 0.42506948, ..., 0.46302795, 0.45069596,\n",
       "        0.00650041]], dtype=float32)"
      ]
     },
     "execution_count": 19,
     "metadata": {},
     "output_type": "execute_result"
    }
   ],
   "source": [
    "train_X"
   ]
  },
  {
   "cell_type": "code",
   "execution_count": 20,
   "metadata": {},
   "outputs": [
    {
     "data": {
      "text/plain": [
       "array([[0.15632744, 0.10448186, 0.10708982],\n",
       "       [0.13705043, 0.10117146, 0.10827543],\n",
       "       [0.12967293, 0.10374568, 0.11952707],\n",
       "       ...,\n",
       "       [0.45694372, 0.45841452, 0.45224965],\n",
       "       [0.4666784 , 0.45770213, 0.46302795],\n",
       "       [0.46227458, 0.4550899 , 0.45084378]], dtype=float32)"
      ]
     },
     "execution_count": 20,
     "metadata": {},
     "output_type": "execute_result"
    }
   ],
   "source": [
    "train_y"
   ]
  },
  {
   "cell_type": "markdown",
   "metadata": {},
   "source": [
    "## Reshape Inputs to fit LSTM type of Network"
   ]
  },
  {
   "cell_type": "markdown",
   "metadata": {},
   "source": [
    "This type of Network Architecture requires the features to be in a 3D shape."
   ]
  },
  {
   "cell_type": "code",
   "execution_count": 21,
   "metadata": {},
   "outputs": [],
   "source": [
    "# reshape input to be 3D [samples, timesteps, features]\n",
    "train_X = train_X.reshape((train_X.shape[0], NUMBER_OF_LAG_TIMESTEPS, NUMBER_OF_FEATURES))\n",
    "test_X = test_X.reshape((test_X.shape[0], NUMBER_OF_LAG_TIMESTEPS, NUMBER_OF_FEATURES))"
   ]
  },
  {
   "cell_type": "markdown",
   "metadata": {},
   "source": [
    "## Network Architecture"
   ]
  },
  {
   "cell_type": "markdown",
   "metadata": {},
   "source": [
    "Here we are using an LSTM architecture for our neural network. This is the type of architecture usually used for problems involving time-series."
   ]
  },
  {
   "cell_type": "code",
   "execution_count": 22,
   "metadata": {},
   "outputs": [],
   "source": [
    "# design network\n",
    "model = Sequential()\n",
    "model.add(LSTM(NUMBER_OF_LSTM_NEURONS, input_shape=(train_X.shape[1], train_X.shape[2])))\n",
    "model.add(Dense(NUMBER_OF_LABELS))\n",
    "model.compile(loss='mae', optimizer='adam')"
   ]
  },
  {
   "cell_type": "markdown",
   "metadata": {},
   "source": [
    "## Fit the Model"
   ]
  },
  {
   "cell_type": "markdown",
   "metadata": {},
   "source": [
    "We print this output so that the caller program can get the results in a JSON object."
   ]
  },
  {
   "cell_type": "code",
   "execution_count": 23,
   "metadata": {},
   "outputs": [
    {
     "name": "stdout",
     "output_type": "stream",
     "text": [
      "{\n",
      "\"trainingOutput\": \"\n"
     ]
    }
   ],
   "source": [
    "print('{')\n",
    "print('\"trainingOutput\": \"')"
   ]
  },
  {
   "cell_type": "markdown",
   "metadata": {},
   "source": [
    "This is the actual process of training the neural network. "
   ]
  },
  {
   "cell_type": "code",
   "execution_count": 24,
   "metadata": {
    "scrolled": true
   },
   "outputs": [
    {
     "name": "stdout",
     "output_type": "stream",
     "text": [
      "36/36 - 3s - loss: 0.1078 - val_loss: 0.0262 - 3s/epoch - 73ms/step\n"
     ]
    }
   ],
   "source": [
    "# fit network\n",
    "history = model.fit(\n",
    "    train_X, \n",
    "    train_y, \n",
    "    epochs=NUMBER_OF_EPOCHS, \n",
    "    batch_size=72, \n",
    "    validation_data=(test_X, test_y), \n",
    "    verbose=2, \n",
    "    shuffle=False\n",
    ")"
   ]
  },
  {
   "cell_type": "code",
   "execution_count": 25,
   "metadata": {},
   "outputs": [
    {
     "name": "stdout",
     "output_type": "stream",
     "text": [
      "\"\n"
     ]
    }
   ],
   "source": [
    "print('\"')"
   ]
  },
  {
   "cell_type": "markdown",
   "metadata": {},
   "source": [
    "## Plot Fitting History"
   ]
  },
  {
   "cell_type": "code",
   "execution_count": 26,
   "metadata": {},
   "outputs": [
    {
     "data": {
      "image/png": "[encoded data removed]",
      "text/plain": [
       "<Figure size 640x480 with 1 Axes>"
      ]
     },
     "metadata": {},
     "output_type": "display_data"
    }
   ],
   "source": [
    "# plot history\n",
    "pyplot.plot(history.history['loss'], label='train')\n",
    "pyplot.plot(history.history['val_loss'], label='test')\n",
    "pyplot.legend()\n",
    "pyplot.show()"
   ]
  },
  {
   "cell_type": "markdown",
   "metadata": {},
   "source": [
    "## Batch Prediction of all Test Records"
   ]
  },
  {
   "cell_type": "markdown",
   "metadata": {},
   "source": [
    "Here we take all Test Records and get a prediction for each one of them. "
   ]
  },
  {
   "cell_type": "code",
   "execution_count": 27,
   "metadata": {},
   "outputs": [],
   "source": [
    "# make a prediction\n",
    "yhat = model.predict(test_X)\n",
    "test_X = test_X.reshape((test_X.shape[0], NUMBER_OF_LAG_TIMESTEPS*NUMBER_OF_FEATURES))"
   ]
  },
  {
   "cell_type": "code",
   "execution_count": 28,
   "metadata": {},
   "outputs": [
    {
     "data": {
      "text/plain": [
       "array([[0.41561604, 0.43522477, 0.45226997],\n",
       "       [0.41778636, 0.4372326 , 0.45484743],\n",
       "       [0.4191057 , 0.43945923, 0.4576203 ],\n",
       "       ...,\n",
       "       [0.21330279, 0.19820009, 0.19854812],\n",
       "       [0.21268876, 0.19682643, 0.19725515],\n",
       "       [0.21208787, 0.19683805, 0.19757017]], dtype=float32)"
      ]
     },
     "execution_count": 28,
     "metadata": {},
     "output_type": "execute_result"
    }
   ],
   "source": [
    "yhat"
   ]
  },
  {
   "cell_type": "markdown",
   "metadata": {},
   "source": [
    "## Reversing Normalization\n",
    "\n",
    "For inverting the scale (denormalize) of a test record, we need first to unframe the test_X values so as the get the original record. Since the label was the first colum of the record, we concatenate the prediction to the last columns of the framed record."
   ]
  },
  {
   "cell_type": "code",
   "execution_count": 29,
   "metadata": {},
   "outputs": [
    {
     "data": {
      "text/plain": [
       "array([[19.78693 , 20.083485, 21.100868],\n",
       "       [19.880568, 20.168036, 21.210869],\n",
       "       [19.93749 , 20.261797, 21.32921 ],\n",
       "       ...,\n",
       "       [11.058185, 10.102447, 10.272476],\n",
       "       [11.031693, 10.044602, 10.217295],\n",
       "       [11.005768, 10.045092, 10.230739]], dtype=float32)"
      ]
     },
     "execution_count": 29,
     "metadata": {},
     "output_type": "execute_result"
    }
   ],
   "source": [
    "# invert scaling for forecast\n",
    "inv_yhat = concatenate((yhat, test_X[:, -(NUMBER_OF_FEATURES - NUMBER_OF_LABELS):]), axis=1)\n",
    "inv_yhat = scaler.inverse_transform(inv_yhat)\n",
    "inv_yhat = inv_yhat[:,:NUMBER_OF_LABELS]\n",
    "inv_yhat"
   ]
  },
  {
   "cell_type": "code",
   "execution_count": 30,
   "metadata": {
    "scrolled": true
   },
   "outputs": [
    {
     "data": {
      "text/plain": [
       "array([[22.030003, 21.659998, 21.69    ],\n",
       "       [22.11    , 21.560001, 22.03    ],\n",
       "       [21.899998, 21.65    , 21.67    ],\n",
       "       ...,\n",
       "       [ 8.79    ,  8.32    ,  8.32    ],\n",
       "       [ 8.8     ,  8.39    ,  8.72    ],\n",
       "       [ 8.8     ,  8.39    ,  8.72    ]], dtype=float32)"
      ]
     },
     "execution_count": 30,
     "metadata": {},
     "output_type": "execute_result"
    }
   ],
   "source": [
    "# invert scaling for actual\n",
    "inv_y = concatenate((test_y, test_X[:, -(NUMBER_OF_FEATURES - NUMBER_OF_LABELS):]), axis=1)\n",
    "inv_y = scaler.inverse_transform(inv_y)\n",
    "inv_y = inv_y[:,:NUMBER_OF_LABELS]\n",
    "inv_y"
   ]
  },
  {
   "cell_type": "markdown",
   "metadata": {},
   "source": [
    "## Error Calculations"
   ]
  },
  {
   "cell_type": "markdown",
   "metadata": {},
   "source": [
    "### Main Error Value"
   ]
  },
  {
   "cell_type": "code",
   "execution_count": 31,
   "metadata": {},
   "outputs": [],
   "source": [
    "# calculate RMSE\n",
    "rmse = sqrt(mean_squared_error(inv_y, inv_yhat))"
   ]
  },
  {
   "cell_type": "markdown",
   "metadata": {},
   "source": [
    "This is the main value we use to know how much error there is. We need this value to go as down as possible."
   ]
  },
  {
   "cell_type": "markdown",
   "metadata": {},
   "source": [
    "### Alternative Error Analisys"
   ]
  },
  {
   "cell_type": "code",
   "execution_count": 32,
   "metadata": {},
   "outputs": [
    {
     "data": {
      "text/plain": [
       "array([[-10.18,  -7.27,  -2.71],\n",
       "       [-10.08,  -6.45,  -3.71],\n",
       "       [ -8.96,  -6.41,  -1.57],\n",
       "       ...,\n",
       "       [ 25.8 ,  21.42,  23.46],\n",
       "       [ 25.36,  19.72,  17.17],\n",
       "       [ 25.06,  19.72,  17.32]])"
      ]
     },
     "execution_count": 32,
     "metadata": {},
     "output_type": "execute_result"
    }
   ],
   "source": [
    "# my way to calculating Errors\n",
    "errors = (inv_yhat - inv_y) / inv_y * 10000\n",
    "errors = errors.astype('int') / 100\n",
    "errors"
   ]
  },
  {
   "cell_type": "markdown",
   "metadata": {},
   "source": [
    "### Plot of the % of Error of each Predicted Value "
   ]
  },
  {
   "cell_type": "code",
   "execution_count": 33,
   "metadata": {},
   "outputs": [
    {
     "data": {
      "image/png": "[encoded data removed]",
      "text/plain": [
       "<Figure size 640x480 with 1 Axes>"
      ]
     },
     "metadata": {},
     "output_type": "display_data"
    }
   ],
   "source": [
    "# plot errors\n",
    "pyplot.plot(errors)\n",
    "pyplot.show()"
   ]
  },
  {
   "cell_type": "markdown",
   "metadata": {},
   "source": [
    "### Dollar Difference Between Prediction and Actual Value"
   ]
  },
  {
   "cell_type": "markdown",
   "metadata": {},
   "source": [
    "In the context of the Test dataset, this is what we get if we substract the Actual Value to the Predicted Value."
   ]
  },
  {
   "cell_type": "code",
   "execution_count": 34,
   "metadata": {},
   "outputs": [
    {
     "data": {
      "text/plain": [
       "array([[-2.2430725 , -1.5765133 , -0.5891323 ],\n",
       "       [-2.229433  , -1.3919659 , -0.81913185],\n",
       "       [-1.9625072 , -1.3882027 , -0.3407898 ],\n",
       "       ...,\n",
       "       [ 2.2681847 ,  1.7824469 ,  1.9524765 ],\n",
       "       [ 2.2316933 ,  1.654602  ,  1.4972944 ],\n",
       "       [ 2.2057676 ,  1.6550913 ,  1.5107384 ]], dtype=float32)"
      ]
     },
     "execution_count": 34,
     "metadata": {},
     "output_type": "execute_result"
    }
   ],
   "source": [
    "diff = (inv_yhat - inv_y) \n",
    "diff = diff.astype('float32')\n",
    "diff"
   ]
  },
  {
   "cell_type": "markdown",
   "metadata": {},
   "source": [
    "## Returning Predictions & Errors"
   ]
  },
  {
   "cell_type": "markdown",
   "metadata": {},
   "source": [
    "Here we are returning the predictions to the caller program. Only the last row of predictions are needed because they belong to the latest closed candle. "
   ]
  },
  {
   "cell_type": "code",
   "execution_count": 35,
   "metadata": {},
   "outputs": [
    {
     "name": "stdout",
     "output_type": "stream",
     "text": [
      ",\"predictions\": \" [11.005768 10.045092 10.230739] \"\n"
     ]
    }
   ],
   "source": [
    "print(',\"predictions\": \"', inv_yhat[-1], '\"' )"
   ]
  },
  {
   "cell_type": "code",
   "execution_count": 38,
   "metadata": {},
   "outputs": [
    {
     "name": "stdout",
     "output_type": "stream",
     "text": [
      ",\"errorRMSE\": 1.329\n",
      "}\n"
     ]
    }
   ],
   "source": [
    "print(',\"errorRMSE\": %.3f' % rmse)\n",
    "print('}')"
   ]
  },
  {
   "cell_type": "markdown",
   "metadata": {},
   "source": [
    "##### "
   ]
  },
  {
   "cell_type": "markdown",
   "metadata": {},
   "source": [
    "###### "
   ]
  }
 ],
 "metadata": {
  "colab": {
   "collapsed_sections": [],
   "name": "Copy of csv.ipynb",
   "provenance": [],
   "toc_visible": true
  },
  "kernelspec": {
   "display_name": "Python 3",
   "language": "python",
   "name": "python3"
  },
  "language_info": {
   "codemirror_mode": {
    "name": "ipython",
    "version": 3
   },
   "file_extension": ".py",
   "mimetype": "text/x-python",
   "name": "python",
   "nbconvert_exporter": "python",
   "pygments_lexer": "ipython3",
   "version": "3.8.10"
  }
 },
 "nbformat": 4,
 "nbformat_minor": 1
}
