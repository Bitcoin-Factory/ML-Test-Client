{
 "cells": [
  {
   "cell_type": "markdown",
   "metadata": {
    "id": "DweYe9FcbMK_"
   },
   "source": [
    "##### Bitcoin Factory Machine Learning\n"
   ]
  },
  {
   "cell_type": "markdown",
   "metadata": {},
   "source": [
    "# Multivariate Time Series Forecasting with LSTMs in Keras"
   ]
  },
  {
   "cell_type": "markdown",
   "metadata": {
    "id": "sUtoed20cRJJ"
   },
   "source": [
    "## Time Series Forcasting - Multiple Lag Timesteps - Multiple Labels"
   ]
  },
  {
   "cell_type": "markdown",
   "metadata": {},
   "source": [
    "Based on Tutorial from https://machinelearningmastery.com/multivariate-time-series-forecasting-lstms-keras/"
   ]
  },
  {
   "cell_type": "markdown",
   "metadata": {},
   "source": [
    "# Strategy"
   ]
  },
  {
   "cell_type": "markdown",
   "metadata": {},
   "source": [
    "The strategy is to predict the Candle.Max and Candle.Min of a set of Crypto Assets at the highest timeframe possible, in order to use the prediction to pick the one with higher % of predicted increase in price to take a position in it before that happens."
   ]
  },
  {
   "cell_type": "markdown",
   "metadata": {},
   "source": [
    "# Code to Run"
   ]
  },
  {
   "cell_type": "markdown",
   "metadata": {},
   "source": [
    "## Libraries Used"
   ]
  },
  {
   "cell_type": "code",
   "execution_count": 1,
   "metadata": {},
   "outputs": [],
   "source": [
    "\n",
    "from math import sqrt\n",
    "from numpy import concatenate\n",
    "from matplotlib import pyplot\n",
    "from pandas import read_csv\n",
    "from pandas import DataFrame\n",
    "from pandas import concat\n",
    "from sklearn.preprocessing import MinMaxScaler\n",
    "from sklearn.preprocessing import LabelEncoder\n",
    "from sklearn.metrics import mean_squared_error\n",
    "from keras.models import Sequential\n",
    "from keras.layers import Dense\n",
    "from keras.layers import LSTM"
   ]
  },
  {
   "cell_type": "markdown",
   "metadata": {},
   "source": [
    "## Functions Used"
   ]
  },
  {
   "cell_type": "code",
   "execution_count": 2,
   "metadata": {},
   "outputs": [],
   "source": [
    "# convert series to supervised learning\n",
    "def series_to_supervised(data, n_in=1, n_out=1, dropnan=True):\n",
    "\tn_vars = 1 if type(data) is list else data.shape[1]\n",
    "\tdf = DataFrame(data)\n",
    "\tcols, names = list(), list()\n",
    "\t# input sequence (t-n, ... t-1)\n",
    "\tfor i in range(n_in, 0, -1):\n",
    "\t\tcols.append(df.shift(i))\n",
    "\t\tnames += [('var%d(t-%d)' % (j+1, i)) for j in range(n_vars)]\n",
    "\t# forecast sequence (t, t+1, ... t+n)\n",
    "\tfor i in range(0, n_out):\n",
    "\t\tcols.append(df.shift(-i))\n",
    "\t\tif i == 0:\n",
    "\t\t\tnames += [('var%d(t)' % (j+1)) for j in range(n_vars)]\n",
    "\t\telse:\n",
    "\t\t\tnames += [('var%d(t+%d)' % (j+1, i)) for j in range(n_vars)]\n",
    "\t# put it all together\n",
    "\tagg = concat(cols, axis=1)\n",
    "\tagg.columns = names\n",
    "\t# drop rows with NaN values\n",
    "\tif dropnan:\n",
    "\t\tagg.dropna(inplace=True)\n",
    "\treturn agg \n",
    " "
   ]
  },
  {
   "cell_type": "markdown",
   "metadata": {},
   "source": [
    "## Load the Parameters Dataset\n"
   ]
  },
  {
   "cell_type": "code",
   "execution_count": 3,
   "metadata": {},
   "outputs": [
    {
     "data": {
      "text/html": [
       "<div>\n",
       "<style scoped>\n",
       "    .dataframe tbody tr th:only-of-type {\n",
       "        vertical-align: middle;\n",
       "    }\n",
       "\n",
       "    .dataframe tbody tr th {\n",
       "        vertical-align: top;\n",
       "    }\n",
       "\n",
       "    .dataframe thead th {\n",
       "        text-align: right;\n",
       "    }\n",
       "</style>\n",
       "<table border=\"1\" class=\"dataframe\">\n",
       "  <thead>\n",
       "    <tr style=\"text-align: right;\">\n",
       "      <th></th>\n",
       "      <th>PARAMETER</th>\n",
       "      <th>VALUE</th>\n",
       "    </tr>\n",
       "  </thead>\n",
       "  <tbody>\n",
       "    <tr>\n",
       "      <th>0</th>\n",
       "      <td>LIST_OF_ASSETS</td>\n",
       "      <td>LINK</td>\n",
       "    </tr>\n",
       "    <tr>\n",
       "      <th>1</th>\n",
       "      <td>LIST_OF_TIMEFRAMES</td>\n",
       "      <td>02-hs</td>\n",
       "    </tr>\n",
       "    <tr>\n",
       "      <th>2</th>\n",
       "      <td>NUMBER_OF_INDICATORS_PROPERTIES</td>\n",
       "      <td>5</td>\n",
       "    </tr>\n",
       "    <tr>\n",
       "      <th>3</th>\n",
       "      <td>NUMBER_OF_LAG_TIMESTEPS</td>\n",
       "      <td>9</td>\n",
       "    </tr>\n",
       "    <tr>\n",
       "      <th>4</th>\n",
       "      <td>NUMBER_OF_ASSETS</td>\n",
       "      <td>1</td>\n",
       "    </tr>\n",
       "    <tr>\n",
       "      <th>5</th>\n",
       "      <td>NUMBER_OF_LABELS</td>\n",
       "      <td>3</td>\n",
       "    </tr>\n",
       "    <tr>\n",
       "      <th>6</th>\n",
       "      <td>PERCENTAGE_OF_DATASET_FOR_TRAINING</td>\n",
       "      <td>80</td>\n",
       "    </tr>\n",
       "    <tr>\n",
       "      <th>7</th>\n",
       "      <td>NUMBER_OF_FEATURES</td>\n",
       "      <td>5</td>\n",
       "    </tr>\n",
       "    <tr>\n",
       "      <th>8</th>\n",
       "      <td>NUMBER_OF_EPOCHS</td>\n",
       "      <td>2</td>\n",
       "    </tr>\n",
       "    <tr>\n",
       "      <th>9</th>\n",
       "      <td>NUMBER_OF_LSTM_NEURONS</td>\n",
       "      <td>50</td>\n",
       "    </tr>\n",
       "  </tbody>\n",
       "</table>\n",
       "</div>"
      ],
      "text/plain": [
       "                            PARAMETER  VALUE\n",
       "0                      LIST_OF_ASSETS   LINK\n",
       "1                  LIST_OF_TIMEFRAMES  02-hs\n",
       "2     NUMBER_OF_INDICATORS_PROPERTIES      5\n",
       "3             NUMBER_OF_LAG_TIMESTEPS      9\n",
       "4                    NUMBER_OF_ASSETS      1\n",
       "5                    NUMBER_OF_LABELS      3\n",
       "6  PERCENTAGE_OF_DATASET_FOR_TRAINING     80\n",
       "7                  NUMBER_OF_FEATURES      5\n",
       "8                    NUMBER_OF_EPOCHS      2\n",
       "9              NUMBER_OF_LSTM_NEURONS     50"
      ]
     },
     "execution_count": 3,
     "metadata": {},
     "output_type": "execute_result"
    }
   ],
   "source": [
    "parameters_dataset = read_csv(\n",
    "    '/tf/notebooks/parameters.csv', \n",
    "    header=0, \n",
    "    sep=' ', \n",
    "    skipinitialspace=True\n",
    ")\n",
    "\n",
    "parameters_dataset"
   ]
  },
  {
   "cell_type": "code",
   "execution_count": 4,
   "metadata": {},
   "outputs": [],
   "source": [
    "# number of indicator properties that are at the raw dataset. Each set of indicators properties might be at many assets or timeframes.\n",
    "NUMBER_OF_INDICATORS_PROPERTIES = int(parameters_dataset.values[2][1])\n",
    "\n",
    "# number of timesteps in the secuence that we are going to use to feed the model.\n",
    "NUMBER_OF_LAG_TIMESTEPS = int(parameters_dataset.values[3][1])\n",
    "\n",
    "# number of assets included at the raw dataset.\n",
    "NUMBER_OF_ASSETS = int(parameters_dataset.values[4][1])\n",
    "\n",
    "# number of things we are going to predict.\n",
    "NUMBER_OF_LABELS = int(parameters_dataset.values[5][1])\n",
    "\n",
    "# definition of how the raw dataset is going to be divided between a Traing Dataset and a Test Dataset.\n",
    "PERCENTAGE_OF_DATASET_FOR_TRAINING = int(parameters_dataset.values[6][1])\n",
    "\n",
    "NUMBER_OF_FEATURES = int(parameters_dataset.values[7][1])\n",
    "\n",
    "# hyper-parameters\n",
    "NUMBER_OF_EPOCHS = int(parameters_dataset.values[8][1])\n",
    "NUMBER_OF_LSTM_NEURONS = int(parameters_dataset.values[9][1])"
   ]
  },
  {
   "cell_type": "markdown",
   "metadata": {},
   "source": [
    "## Load the Time-Series Dataset"
   ]
  },
  {
   "cell_type": "code",
   "execution_count": 5,
   "metadata": {},
   "outputs": [
    {
     "data": {
      "text/html": [
       "<div>\n",
       "<style scoped>\n",
       "    .dataframe tbody tr th:only-of-type {\n",
       "        vertical-align: middle;\n",
       "    }\n",
       "\n",
       "    .dataframe tbody tr th {\n",
       "        vertical-align: top;\n",
       "    }\n",
       "\n",
       "    .dataframe thead th {\n",
       "        text-align: right;\n",
       "    }\n",
       "</style>\n",
       "<table border=\"1\" class=\"dataframe\">\n",
       "  <thead>\n",
       "    <tr style=\"text-align: right;\">\n",
       "      <th></th>\n",
       "      <th>LINK-candle.max-02-hs-1</th>\n",
       "      <th>LINK-candle.min-02-hs-1</th>\n",
       "      <th>LINK-candle.open-02-hs-1</th>\n",
       "      <th>LINK-candle.close-02-hs-1</th>\n",
       "      <th>LINK-volume.total-02-hs-1</th>\n",
       "    </tr>\n",
       "    <tr>\n",
       "      <th>Timestamp</th>\n",
       "      <th></th>\n",
       "      <th></th>\n",
       "      <th></th>\n",
       "      <th></th>\n",
       "      <th></th>\n",
       "    </tr>\n",
       "  </thead>\n",
       "  <tbody>\n",
       "    <tr>\n",
       "      <th>1547632800000</th>\n",
       "      <td>0.5355</td>\n",
       "      <td>0.4980</td>\n",
       "      <td>0.5355</td>\n",
       "      <td>0.4980</td>\n",
       "      <td>216595.03</td>\n",
       "    </tr>\n",
       "    <tr>\n",
       "      <th>1547640000000</th>\n",
       "      <td>0.5021</td>\n",
       "      <td>0.4836</td>\n",
       "      <td>0.4980</td>\n",
       "      <td>0.4869</td>\n",
       "      <td>252156.11</td>\n",
       "    </tr>\n",
       "    <tr>\n",
       "      <th>1547647200000</th>\n",
       "      <td>0.4920</td>\n",
       "      <td>0.4668</td>\n",
       "      <td>0.4869</td>\n",
       "      <td>0.4790</td>\n",
       "      <td>252005.54</td>\n",
       "    </tr>\n",
       "    <tr>\n",
       "      <th>1547654400000</th>\n",
       "      <td>0.5200</td>\n",
       "      <td>0.4677</td>\n",
       "      <td>0.4782</td>\n",
       "      <td>0.5043</td>\n",
       "      <td>210300.28</td>\n",
       "    </tr>\n",
       "    <tr>\n",
       "      <th>1547661600000</th>\n",
       "      <td>0.5190</td>\n",
       "      <td>0.4944</td>\n",
       "      <td>0.5043</td>\n",
       "      <td>0.5041</td>\n",
       "      <td>126455.14</td>\n",
       "    </tr>\n",
       "    <tr>\n",
       "      <th>...</th>\n",
       "      <td>...</td>\n",
       "      <td>...</td>\n",
       "      <td>...</td>\n",
       "      <td>...</td>\n",
       "      <td>...</td>\n",
       "    </tr>\n",
       "    <tr>\n",
       "      <th>1646647200000</th>\n",
       "      <td>13.1000</td>\n",
       "      <td>12.9000</td>\n",
       "      <td>12.9800</td>\n",
       "      <td>13.0800</td>\n",
       "      <td>280599.76</td>\n",
       "    </tr>\n",
       "    <tr>\n",
       "      <th>1646654400000</th>\n",
       "      <td>13.5300</td>\n",
       "      <td>13.0800</td>\n",
       "      <td>13.0800</td>\n",
       "      <td>13.5000</td>\n",
       "      <td>567015.17</td>\n",
       "    </tr>\n",
       "    <tr>\n",
       "      <th>1646661600000</th>\n",
       "      <td>13.6400</td>\n",
       "      <td>13.3500</td>\n",
       "      <td>13.5100</td>\n",
       "      <td>13.5700</td>\n",
       "      <td>702932.37</td>\n",
       "    </tr>\n",
       "    <tr>\n",
       "      <th>1646668800000</th>\n",
       "      <td>13.6700</td>\n",
       "      <td>13.2600</td>\n",
       "      <td>13.5600</td>\n",
       "      <td>13.2700</td>\n",
       "      <td>530215.68</td>\n",
       "    </tr>\n",
       "    <tr>\n",
       "      <th>1646676000000</th>\n",
       "      <td>13.2700</td>\n",
       "      <td>13.0500</td>\n",
       "      <td>13.2700</td>\n",
       "      <td>13.1000</td>\n",
       "      <td>180614.00</td>\n",
       "    </tr>\n",
       "  </tbody>\n",
       "</table>\n",
       "<p>13757 rows × 5 columns</p>\n",
       "</div>"
      ],
      "text/plain": [
       "               LINK-candle.max-02-hs-1  LINK-candle.min-02-hs-1  \\\n",
       "Timestamp                                                         \n",
       "1547632800000                   0.5355                   0.4980   \n",
       "1547640000000                   0.5021                   0.4836   \n",
       "1547647200000                   0.4920                   0.4668   \n",
       "1547654400000                   0.5200                   0.4677   \n",
       "1547661600000                   0.5190                   0.4944   \n",
       "...                                ...                      ...   \n",
       "1646647200000                  13.1000                  12.9000   \n",
       "1646654400000                  13.5300                  13.0800   \n",
       "1646661600000                  13.6400                  13.3500   \n",
       "1646668800000                  13.6700                  13.2600   \n",
       "1646676000000                  13.2700                  13.0500   \n",
       "\n",
       "               LINK-candle.open-02-hs-1  LINK-candle.close-02-hs-1  \\\n",
       "Timestamp                                                            \n",
       "1547632800000                    0.5355                     0.4980   \n",
       "1547640000000                    0.4980                     0.4869   \n",
       "1547647200000                    0.4869                     0.4790   \n",
       "1547654400000                    0.4782                     0.5043   \n",
       "1547661600000                    0.5043                     0.5041   \n",
       "...                                 ...                        ...   \n",
       "1646647200000                   12.9800                    13.0800   \n",
       "1646654400000                   13.0800                    13.5000   \n",
       "1646661600000                   13.5100                    13.5700   \n",
       "1646668800000                   13.5600                    13.2700   \n",
       "1646676000000                   13.2700                    13.1000   \n",
       "\n",
       "               LINK-volume.total-02-hs-1  \n",
       "Timestamp                                 \n",
       "1547632800000                  216595.03  \n",
       "1547640000000                  252156.11  \n",
       "1547647200000                  252005.54  \n",
       "1547654400000                  210300.28  \n",
       "1547661600000                  126455.14  \n",
       "...                                  ...  \n",
       "1646647200000                  280599.76  \n",
       "1646654400000                  567015.17  \n",
       "1646661600000                  702932.37  \n",
       "1646668800000                  530215.68  \n",
       "1646676000000                  180614.00  \n",
       "\n",
       "[13757 rows x 5 columns]"
      ]
     },
     "execution_count": 5,
     "metadata": {},
     "output_type": "execute_result"
    }
   ],
   "source": [
    "timeseries_dataset = read_csv(\n",
    "    '/tf/notebooks/time-series.csv', \n",
    "    header=0, \n",
    "    index_col=0,    #The first colum is a timestamp that will be used to index all the data.\n",
    "    sep=' ', \n",
    "    skipinitialspace=True\n",
    ")\n",
    "\n",
    "timeseries_dataset"
   ]
  },
  {
   "cell_type": "code",
   "execution_count": 6,
   "metadata": {},
   "outputs": [],
   "source": [
    "values = timeseries_dataset.values"
   ]
  },
  {
   "cell_type": "code",
   "execution_count": 7,
   "metadata": {},
   "outputs": [],
   "source": [
    "# ensure all data is float\n",
    "values = values.astype('float32')"
   ]
  },
  {
   "cell_type": "markdown",
   "metadata": {},
   "source": [
    "## Plot & Verify"
   ]
  },
  {
   "cell_type": "markdown",
   "metadata": {},
   "source": [
    "We plot our raw data just to be sure with a glimpse that it is alright."
   ]
  },
  {
   "cell_type": "code",
   "execution_count": 8,
   "metadata": {},
   "outputs": [
    {
     "data": {
      "image/png": "[encoded data removed]",
      "text/plain": [
       "<Figure size 640x480 with 2 Axes>"
      ]
     },
     "metadata": {},
     "output_type": "display_data"
    }
   ],
   "source": [
    "# specify columns to plot\n",
    "groups = [0, 2]\n",
    "i = 1\n",
    "# plot each column\n",
    "pyplot.figure()\n",
    "for group in groups:\n",
    "\tpyplot.subplot(len(groups), 1, i)\n",
    "\tpyplot.plot(values[:, group])\n",
    "\tpyplot.title(timeseries_dataset.columns[group], y=0.5, loc='right')\n",
    "\ti += 1\n",
    "pyplot.show()"
   ]
  },
  {
   "cell_type": "markdown",
   "metadata": {},
   "source": [
    "## Normalization"
   ]
  },
  {
   "cell_type": "markdown",
   "metadata": {},
   "source": [
    "Normalizing or removing the scale, is a standar prodcedure of any machine learning workflow. "
   ]
  },
  {
   "cell_type": "code",
   "execution_count": 9,
   "metadata": {},
   "outputs": [],
   "source": [
    "# normalize features\n",
    "scaler = MinMaxScaler(feature_range=(0, 1))\n",
    "scaled = scaler.fit_transform(values)"
   ]
  },
  {
   "cell_type": "markdown",
   "metadata": {},
   "source": [
    "## Reframing as a Supervised Learning Problem"
   ]
  },
  {
   "cell_type": "markdown",
   "metadata": {},
   "source": [
    "Each Raw record needs to be expanded with the previous records in order to be suitable for beeing fed into a LSTM model. Some fields of the record at time = 0 will be used as labels and the ones at time < 0 as features."
   ]
  },
  {
   "cell_type": "code",
   "execution_count": 10,
   "metadata": {},
   "outputs": [],
   "source": [
    "# frame as supervised learning\n",
    "reframed = series_to_supervised(scaled, NUMBER_OF_LAG_TIMESTEPS, 1)"
   ]
  },
  {
   "cell_type": "code",
   "execution_count": 11,
   "metadata": {},
   "outputs": [
    {
     "data": {
      "text/html": [
       "<div>\n",
       "<style scoped>\n",
       "    .dataframe tbody tr th:only-of-type {\n",
       "        vertical-align: middle;\n",
       "    }\n",
       "\n",
       "    .dataframe tbody tr th {\n",
       "        vertical-align: top;\n",
       "    }\n",
       "\n",
       "    .dataframe thead th {\n",
       "        text-align: right;\n",
       "    }\n",
       "</style>\n",
       "<table border=\"1\" class=\"dataframe\">\n",
       "  <thead>\n",
       "    <tr style=\"text-align: right;\">\n",
       "      <th></th>\n",
       "      <th>var1(t-9)</th>\n",
       "      <th>var2(t-9)</th>\n",
       "      <th>var3(t-9)</th>\n",
       "      <th>var4(t-9)</th>\n",
       "      <th>var5(t-9)</th>\n",
       "      <th>var1(t-8)</th>\n",
       "      <th>var2(t-8)</th>\n",
       "      <th>var3(t-8)</th>\n",
       "      <th>var4(t-8)</th>\n",
       "      <th>var5(t-8)</th>\n",
       "      <th>...</th>\n",
       "      <th>var1(t-1)</th>\n",
       "      <th>var2(t-1)</th>\n",
       "      <th>var3(t-1)</th>\n",
       "      <th>var4(t-1)</th>\n",
       "      <th>var5(t-1)</th>\n",
       "      <th>var1(t)</th>\n",
       "      <th>var2(t)</th>\n",
       "      <th>var3(t)</th>\n",
       "      <th>var4(t)</th>\n",
       "      <th>var5(t)</th>\n",
       "    </tr>\n",
       "  </thead>\n",
       "  <tbody>\n",
       "    <tr>\n",
       "      <th>9</th>\n",
       "      <td>0.003107</td>\n",
       "      <td>0.009658</td>\n",
       "      <td>0.003292</td>\n",
       "      <td>0.002572</td>\n",
       "      <td>0.018135</td>\n",
       "      <td>0.002472</td>\n",
       "      <td>0.009379</td>\n",
       "      <td>0.002570</td>\n",
       "      <td>0.002358</td>\n",
       "      <td>0.021112</td>\n",
       "      <td>...</td>\n",
       "      <td>0.002147</td>\n",
       "      <td>0.008996</td>\n",
       "      <td>0.002223</td>\n",
       "      <td>0.001988</td>\n",
       "      <td>0.012156</td>\n",
       "      <td>0.002056</td>\n",
       "      <td>0.009024</td>\n",
       "      <td>0.001986</td>\n",
       "      <td>0.002054</td>\n",
       "      <td>0.007769</td>\n",
       "    </tr>\n",
       "    <tr>\n",
       "      <th>10</th>\n",
       "      <td>0.002472</td>\n",
       "      <td>0.009379</td>\n",
       "      <td>0.002570</td>\n",
       "      <td>0.002358</td>\n",
       "      <td>0.021112</td>\n",
       "      <td>0.002280</td>\n",
       "      <td>0.009053</td>\n",
       "      <td>0.002356</td>\n",
       "      <td>0.002206</td>\n",
       "      <td>0.021099</td>\n",
       "      <td>...</td>\n",
       "      <td>0.002056</td>\n",
       "      <td>0.009024</td>\n",
       "      <td>0.001986</td>\n",
       "      <td>0.002054</td>\n",
       "      <td>0.007769</td>\n",
       "      <td>0.002198</td>\n",
       "      <td>0.009136</td>\n",
       "      <td>0.002052</td>\n",
       "      <td>0.002079</td>\n",
       "      <td>0.006628</td>\n",
       "    </tr>\n",
       "    <tr>\n",
       "      <th>11</th>\n",
       "      <td>0.002280</td>\n",
       "      <td>0.009053</td>\n",
       "      <td>0.002356</td>\n",
       "      <td>0.002206</td>\n",
       "      <td>0.021099</td>\n",
       "      <td>0.002812</td>\n",
       "      <td>0.009070</td>\n",
       "      <td>0.002188</td>\n",
       "      <td>0.002693</td>\n",
       "      <td>0.017608</td>\n",
       "      <td>...</td>\n",
       "      <td>0.002198</td>\n",
       "      <td>0.009136</td>\n",
       "      <td>0.002052</td>\n",
       "      <td>0.002079</td>\n",
       "      <td>0.006628</td>\n",
       "      <td>0.002058</td>\n",
       "      <td>0.009136</td>\n",
       "      <td>0.002104</td>\n",
       "      <td>0.002102</td>\n",
       "      <td>0.002504</td>\n",
       "    </tr>\n",
       "    <tr>\n",
       "      <th>12</th>\n",
       "      <td>0.002812</td>\n",
       "      <td>0.009070</td>\n",
       "      <td>0.002188</td>\n",
       "      <td>0.002693</td>\n",
       "      <td>0.017608</td>\n",
       "      <td>0.002793</td>\n",
       "      <td>0.009588</td>\n",
       "      <td>0.002691</td>\n",
       "      <td>0.002690</td>\n",
       "      <td>0.010588</td>\n",
       "      <td>...</td>\n",
       "      <td>0.002058</td>\n",
       "      <td>0.009136</td>\n",
       "      <td>0.002104</td>\n",
       "      <td>0.002102</td>\n",
       "      <td>0.002504</td>\n",
       "      <td>0.002170</td>\n",
       "      <td>0.009121</td>\n",
       "      <td>0.002144</td>\n",
       "      <td>0.002083</td>\n",
       "      <td>0.004342</td>\n",
       "    </tr>\n",
       "    <tr>\n",
       "      <th>13</th>\n",
       "      <td>0.002793</td>\n",
       "      <td>0.009588</td>\n",
       "      <td>0.002691</td>\n",
       "      <td>0.002690</td>\n",
       "      <td>0.010588</td>\n",
       "      <td>0.002812</td>\n",
       "      <td>0.009720</td>\n",
       "      <td>0.002668</td>\n",
       "      <td>0.002836</td>\n",
       "      <td>0.010700</td>\n",
       "      <td>...</td>\n",
       "      <td>0.002170</td>\n",
       "      <td>0.009121</td>\n",
       "      <td>0.002144</td>\n",
       "      <td>0.002083</td>\n",
       "      <td>0.004342</td>\n",
       "      <td>0.002088</td>\n",
       "      <td>0.009121</td>\n",
       "      <td>0.002080</td>\n",
       "      <td>0.002239</td>\n",
       "      <td>0.001650</td>\n",
       "    </tr>\n",
       "    <tr>\n",
       "      <th>...</th>\n",
       "      <td>...</td>\n",
       "      <td>...</td>\n",
       "      <td>...</td>\n",
       "      <td>...</td>\n",
       "      <td>...</td>\n",
       "      <td>...</td>\n",
       "      <td>...</td>\n",
       "      <td>...</td>\n",
       "      <td>...</td>\n",
       "      <td>...</td>\n",
       "      <td>...</td>\n",
       "      <td>...</td>\n",
       "      <td>...</td>\n",
       "      <td>...</td>\n",
       "      <td>...</td>\n",
       "      <td>...</td>\n",
       "      <td>...</td>\n",
       "      <td>...</td>\n",
       "      <td>...</td>\n",
       "      <td>...</td>\n",
       "      <td>...</td>\n",
       "    </tr>\n",
       "    <tr>\n",
       "      <th>13752</th>\n",
       "      <td>0.256669</td>\n",
       "      <td>0.264382</td>\n",
       "      <td>0.256112</td>\n",
       "      <td>0.258658</td>\n",
       "      <td>0.024046</td>\n",
       "      <td>0.255719</td>\n",
       "      <td>0.263412</td>\n",
       "      <td>0.258616</td>\n",
       "      <td>0.254997</td>\n",
       "      <td>0.016180</td>\n",
       "      <td>...</td>\n",
       "      <td>0.241468</td>\n",
       "      <td>0.248088</td>\n",
       "      <td>0.241665</td>\n",
       "      <td>0.243052</td>\n",
       "      <td>0.030400</td>\n",
       "      <td>0.241848</td>\n",
       "      <td>0.250222</td>\n",
       "      <td>0.243013</td>\n",
       "      <td>0.244979</td>\n",
       "      <td>0.023493</td>\n",
       "    </tr>\n",
       "    <tr>\n",
       "      <th>13753</th>\n",
       "      <td>0.255719</td>\n",
       "      <td>0.263412</td>\n",
       "      <td>0.258616</td>\n",
       "      <td>0.254997</td>\n",
       "      <td>0.016180</td>\n",
       "      <td>0.256099</td>\n",
       "      <td>0.262830</td>\n",
       "      <td>0.254956</td>\n",
       "      <td>0.257502</td>\n",
       "      <td>0.026797</td>\n",
       "      <td>...</td>\n",
       "      <td>0.241848</td>\n",
       "      <td>0.250222</td>\n",
       "      <td>0.243013</td>\n",
       "      <td>0.244979</td>\n",
       "      <td>0.023493</td>\n",
       "      <td>0.250019</td>\n",
       "      <td>0.253713</td>\n",
       "      <td>0.244940</td>\n",
       "      <td>0.253071</td>\n",
       "      <td>0.047474</td>\n",
       "    </tr>\n",
       "    <tr>\n",
       "      <th>13754</th>\n",
       "      <td>0.256099</td>\n",
       "      <td>0.262830</td>\n",
       "      <td>0.254956</td>\n",
       "      <td>0.257502</td>\n",
       "      <td>0.026797</td>\n",
       "      <td>0.255719</td>\n",
       "      <td>0.257011</td>\n",
       "      <td>0.257461</td>\n",
       "      <td>0.249603</td>\n",
       "      <td>0.046615</td>\n",
       "      <td>...</td>\n",
       "      <td>0.250019</td>\n",
       "      <td>0.253713</td>\n",
       "      <td>0.244940</td>\n",
       "      <td>0.253071</td>\n",
       "      <td>0.047474</td>\n",
       "      <td>0.252109</td>\n",
       "      <td>0.258950</td>\n",
       "      <td>0.253223</td>\n",
       "      <td>0.254419</td>\n",
       "      <td>0.058854</td>\n",
       "    </tr>\n",
       "    <tr>\n",
       "      <th>13755</th>\n",
       "      <td>0.255719</td>\n",
       "      <td>0.257011</td>\n",
       "      <td>0.257461</td>\n",
       "      <td>0.249603</td>\n",
       "      <td>0.046615</td>\n",
       "      <td>0.246029</td>\n",
       "      <td>0.252161</td>\n",
       "      <td>0.249370</td>\n",
       "      <td>0.245557</td>\n",
       "      <td>0.057503</td>\n",
       "      <td>...</td>\n",
       "      <td>0.252109</td>\n",
       "      <td>0.258950</td>\n",
       "      <td>0.253223</td>\n",
       "      <td>0.254419</td>\n",
       "      <td>0.058854</td>\n",
       "      <td>0.252679</td>\n",
       "      <td>0.257205</td>\n",
       "      <td>0.254186</td>\n",
       "      <td>0.248639</td>\n",
       "      <td>0.044393</td>\n",
       "    </tr>\n",
       "    <tr>\n",
       "      <th>13756</th>\n",
       "      <td>0.246029</td>\n",
       "      <td>0.252161</td>\n",
       "      <td>0.249370</td>\n",
       "      <td>0.245557</td>\n",
       "      <td>0.057503</td>\n",
       "      <td>0.242418</td>\n",
       "      <td>0.247506</td>\n",
       "      <td>0.245517</td>\n",
       "      <td>0.240162</td>\n",
       "      <td>0.080778</td>\n",
       "      <td>...</td>\n",
       "      <td>0.252679</td>\n",
       "      <td>0.257205</td>\n",
       "      <td>0.254186</td>\n",
       "      <td>0.248639</td>\n",
       "      <td>0.044393</td>\n",
       "      <td>0.245079</td>\n",
       "      <td>0.253131</td>\n",
       "      <td>0.248600</td>\n",
       "      <td>0.245364</td>\n",
       "      <td>0.015122</td>\n",
       "    </tr>\n",
       "  </tbody>\n",
       "</table>\n",
       "<p>13748 rows × 50 columns</p>\n",
       "</div>"
      ],
      "text/plain": [
       "       var1(t-9)  var2(t-9)  var3(t-9)  var4(t-9)  var5(t-9)  var1(t-8)  \\\n",
       "9       0.003107   0.009658   0.003292   0.002572   0.018135   0.002472   \n",
       "10      0.002472   0.009379   0.002570   0.002358   0.021112   0.002280   \n",
       "11      0.002280   0.009053   0.002356   0.002206   0.021099   0.002812   \n",
       "12      0.002812   0.009070   0.002188   0.002693   0.017608   0.002793   \n",
       "13      0.002793   0.009588   0.002691   0.002690   0.010588   0.002812   \n",
       "...          ...        ...        ...        ...        ...        ...   \n",
       "13752   0.256669   0.264382   0.256112   0.258658   0.024046   0.255719   \n",
       "13753   0.255719   0.263412   0.258616   0.254997   0.016180   0.256099   \n",
       "13754   0.256099   0.262830   0.254956   0.257502   0.026797   0.255719   \n",
       "13755   0.255719   0.257011   0.257461   0.249603   0.046615   0.246029   \n",
       "13756   0.246029   0.252161   0.249370   0.245557   0.057503   0.242418   \n",
       "\n",
       "       var2(t-8)  var3(t-8)  var4(t-8)  var5(t-8)  ...  var1(t-1)  var2(t-1)  \\\n",
       "9       0.009379   0.002570   0.002358   0.021112  ...   0.002147   0.008996   \n",
       "10      0.009053   0.002356   0.002206   0.021099  ...   0.002056   0.009024   \n",
       "11      0.009070   0.002188   0.002693   0.017608  ...   0.002198   0.009136   \n",
       "12      0.009588   0.002691   0.002690   0.010588  ...   0.002058   0.009136   \n",
       "13      0.009720   0.002668   0.002836   0.010700  ...   0.002170   0.009121   \n",
       "...          ...        ...        ...        ...  ...        ...        ...   \n",
       "13752   0.263412   0.258616   0.254997   0.016180  ...   0.241468   0.248088   \n",
       "13753   0.262830   0.254956   0.257502   0.026797  ...   0.241848   0.250222   \n",
       "13754   0.257011   0.257461   0.249603   0.046615  ...   0.250019   0.253713   \n",
       "13755   0.252161   0.249370   0.245557   0.057503  ...   0.252109   0.258950   \n",
       "13756   0.247506   0.245517   0.240162   0.080778  ...   0.252679   0.257205   \n",
       "\n",
       "       var3(t-1)  var4(t-1)  var5(t-1)   var1(t)   var2(t)   var3(t)  \\\n",
       "9       0.002223   0.001988   0.012156  0.002056  0.009024  0.001986   \n",
       "10      0.001986   0.002054   0.007769  0.002198  0.009136  0.002052   \n",
       "11      0.002052   0.002079   0.006628  0.002058  0.009136  0.002104   \n",
       "12      0.002104   0.002102   0.002504  0.002170  0.009121  0.002144   \n",
       "13      0.002144   0.002083   0.004342  0.002088  0.009121  0.002080   \n",
       "...          ...        ...        ...       ...       ...       ...   \n",
       "13752   0.241665   0.243052   0.030400  0.241848  0.250222  0.243013   \n",
       "13753   0.243013   0.244979   0.023493  0.250019  0.253713  0.244940   \n",
       "13754   0.244940   0.253071   0.047474  0.252109  0.258950  0.253223   \n",
       "13755   0.253223   0.254419   0.058854  0.252679  0.257205  0.254186   \n",
       "13756   0.254186   0.248639   0.044393  0.245079  0.253131  0.248600   \n",
       "\n",
       "        var4(t)   var5(t)  \n",
       "9      0.002054  0.007769  \n",
       "10     0.002079  0.006628  \n",
       "11     0.002102  0.002504  \n",
       "12     0.002083  0.004342  \n",
       "13     0.002239  0.001650  \n",
       "...         ...       ...  \n",
       "13752  0.244979  0.023493  \n",
       "13753  0.253071  0.047474  \n",
       "13754  0.254419  0.058854  \n",
       "13755  0.248639  0.044393  \n",
       "13756  0.245364  0.015122  \n",
       "\n",
       "[13748 rows x 50 columns]"
      ]
     },
     "execution_count": 11,
     "metadata": {},
     "output_type": "execute_result"
    }
   ],
   "source": [
    "reframed"
   ]
  },
  {
   "cell_type": "markdown",
   "metadata": {},
   "source": [
    "## Train and Test Dataset Preparation"
   ]
  },
  {
   "cell_type": "markdown",
   "metadata": {},
   "source": [
    "The first part of the dataset will be used to train the model. The last part for calculating the prediction error. Later we will generate the predictions for the test dataset and measure how accurate they were."
   ]
  },
  {
   "cell_type": "code",
   "execution_count": 12,
   "metadata": {},
   "outputs": [
    {
     "data": {
      "text/plain": [
       "10998"
      ]
     },
     "execution_count": 12,
     "metadata": {},
     "output_type": "execute_result"
    }
   ],
   "source": [
    "# get values from reframed dataset\n",
    "values = reframed.values\n",
    "record_count = len(values)\n",
    "records_for_training = int(record_count * PERCENTAGE_OF_DATASET_FOR_TRAINING / 100)\n",
    "records_for_training"
   ]
  },
  {
   "cell_type": "code",
   "execution_count": 13,
   "metadata": {},
   "outputs": [],
   "source": [
    "# split into train and test sets\n",
    "train = values[:records_for_training, :]\n",
    "test = values[records_for_training:, :]"
   ]
  },
  {
   "cell_type": "code",
   "execution_count": 14,
   "metadata": {},
   "outputs": [
    {
     "data": {
      "text/plain": [
       "(10998, 50)"
      ]
     },
     "execution_count": 14,
     "metadata": {},
     "output_type": "execute_result"
    }
   ],
   "source": [
    "train.shape"
   ]
  },
  {
   "cell_type": "code",
   "execution_count": 15,
   "metadata": {},
   "outputs": [
    {
     "data": {
      "text/plain": [
       "(2750, 50)"
      ]
     },
     "execution_count": 15,
     "metadata": {},
     "output_type": "execute_result"
    }
   ],
   "source": [
    "test.shape"
   ]
  },
  {
   "cell_type": "markdown",
   "metadata": {},
   "source": [
    "## Split into Input and Outputs"
   ]
  },
  {
   "cell_type": "markdown",
   "metadata": {},
   "source": [
    "Here we will split both the Train and the Test datasets into features and labels. \n",
    "Features will be all the information where time < 0. For the labels, we will pick only the first 2 fields of each set of indicator properties, which we expect them to contain the Candle Max and Candle Min for each Asset."
   ]
  },
  {
   "cell_type": "code",
   "execution_count": 16,
   "metadata": {},
   "outputs": [],
   "source": [
    "# split into input and outputs\n",
    "n_obs = NUMBER_OF_LAG_TIMESTEPS * NUMBER_OF_FEATURES\n",
    "\n",
    "train_X = train[:, :n_obs]\n",
    "train_y = train[:, -NUMBER_OF_FEATURES:-(NUMBER_OF_FEATURES-NUMBER_OF_LABELS)]\n",
    "\n",
    "test_X = test[:, :n_obs]\n",
    "test_y = test[:, -NUMBER_OF_FEATURES:-(NUMBER_OF_FEATURES-NUMBER_OF_LABELS)]"
   ]
  },
  {
   "cell_type": "code",
   "execution_count": 17,
   "metadata": {},
   "outputs": [
    {
     "data": {
      "text/plain": [
       "array([[0.00310671, 0.00965785, 0.00329208, ..., 0.00222298, 0.00198827,\n",
       "        0.01215621],\n",
       "       [0.00247207, 0.00937853, 0.00256971, ..., 0.00198604, 0.00205377,\n",
       "        0.0077688 ],\n",
       "       [0.00228015, 0.00905266, 0.00235589, ..., 0.00205153, 0.00207882,\n",
       "        0.00662804],\n",
       "       ...,\n",
       "       [0.26238883, 0.26692256, 0.26437616, ..., 0.2737766 , 0.2768835 ,\n",
       "        0.03402238],\n",
       "       [0.2601277 , 0.26835796, 0.2594833 , ..., 0.27683946, 0.27992755,\n",
       "        0.06654118],\n",
       "       [0.26081172, 0.26750448, 0.26229572, ..., 0.27992156, 0.27888718,\n",
       "        0.0550923 ]], dtype=float32)"
      ]
     },
     "execution_count": 17,
     "metadata": {},
     "output_type": "execute_result"
    }
   ],
   "source": [
    "train_X"
   ]
  },
  {
   "cell_type": "code",
   "execution_count": 18,
   "metadata": {},
   "outputs": [
    {
     "data": {
      "text/plain": [
       "array([[0.00205594, 0.00902356, 0.00198604],\n",
       "       [0.00219845, 0.00913607, 0.00205153],\n",
       "       [0.00205784, 0.00913607, 0.00210354],\n",
       "       ...,\n",
       "       [0.27681082, 0.28420544, 0.27683946],\n",
       "       [0.27795088, 0.28579602, 0.27992156],\n",
       "       [0.28528538, 0.2878521 , 0.27884284]], dtype=float32)"
      ]
     },
     "execution_count": 18,
     "metadata": {},
     "output_type": "execute_result"
    }
   ],
   "source": [
    "train_y"
   ]
  },
  {
   "cell_type": "markdown",
   "metadata": {},
   "source": [
    "## Reshape Inputs to fit LSTM type of Network"
   ]
  },
  {
   "cell_type": "markdown",
   "metadata": {},
   "source": [
    "This type of Network Architecture requires the features to be in a 3D shape."
   ]
  },
  {
   "cell_type": "code",
   "execution_count": 19,
   "metadata": {},
   "outputs": [],
   "source": [
    "# reshape input to be 3D [samples, timesteps, features]\n",
    "train_X = train_X.reshape((train_X.shape[0], NUMBER_OF_LAG_TIMESTEPS, NUMBER_OF_FEATURES))\n",
    "test_X = test_X.reshape((test_X.shape[0], NUMBER_OF_LAG_TIMESTEPS, NUMBER_OF_FEATURES))"
   ]
  },
  {
   "cell_type": "markdown",
   "metadata": {},
   "source": [
    "## Network Architecture"
   ]
  },
  {
   "cell_type": "markdown",
   "metadata": {},
   "source": [
    "Here we are using an LSTM architecture for our neural network. This is the type of architecture usually used for problems involving time-series."
   ]
  },
  {
   "cell_type": "code",
   "execution_count": 20,
   "metadata": {},
   "outputs": [],
   "source": [
    "# design network\n",
    "model = Sequential()\n",
    "model.add(LSTM(NUMBER_OF_LSTM_NEURONS, input_shape=(train_X.shape[1], train_X.shape[2])))\n",
    "model.add(Dense(NUMBER_OF_LABELS))\n",
    "model.compile(loss='mae', optimizer='adam')"
   ]
  },
  {
   "cell_type": "markdown",
   "metadata": {},
   "source": [
    "## Fit the Model"
   ]
  },
  {
   "cell_type": "markdown",
   "metadata": {},
   "source": [
    "We print this output so that the caller program can get the results in a JSON object."
   ]
  },
  {
   "cell_type": "code",
   "execution_count": 21,
   "metadata": {},
   "outputs": [
    {
     "name": "stdout",
     "output_type": "stream",
     "text": [
      "{\n",
      "\"trainingOutput\": \"\n"
     ]
    }
   ],
   "source": [
    "print('{')\n",
    "print('\"trainingOutput\": \"')"
   ]
  },
  {
   "cell_type": "markdown",
   "metadata": {},
   "source": [
    "This is the actual process of training the neural network. "
   ]
  },
  {
   "cell_type": "code",
   "execution_count": 22,
   "metadata": {
    "scrolled": true
   },
   "outputs": [
    {
     "name": "stdout",
     "output_type": "stream",
     "text": [
      "Epoch 1/2\n",
      "153/153 - 5s - loss: 0.0155 - val_loss: 0.0796 - 5s/epoch - 31ms/step\n",
      "Epoch 2/2\n",
      "153/153 - 2s - loss: 0.0231 - val_loss: 0.0362 - 2s/epoch - 12ms/step\n"
     ]
    }
   ],
   "source": [
    "# fit network\n",
    "history = model.fit(\n",
    "    train_X, \n",
    "    train_y, \n",
    "    epochs=NUMBER_OF_EPOCHS, \n",
    "    batch_size=72, \n",
    "    validation_data=(test_X, test_y), \n",
    "    verbose=2, \n",
    "    shuffle=False\n",
    ")"
   ]
  },
  {
   "cell_type": "code",
   "execution_count": 23,
   "metadata": {},
   "outputs": [
    {
     "name": "stdout",
     "output_type": "stream",
     "text": [
      "\"\n"
     ]
    }
   ],
   "source": [
    "print('\"')"
   ]
  },
  {
   "cell_type": "markdown",
   "metadata": {},
   "source": [
    "## Plot Fitting History"
   ]
  },
  {
   "cell_type": "code",
   "execution_count": 24,
   "metadata": {},
   "outputs": [
    {
     "data": {
      "image/png": "[encoded data removed]",
      "text/plain": [
       "<Figure size 640x480 with 1 Axes>"
      ]
     },
     "metadata": {},
     "output_type": "display_data"
    }
   ],
   "source": [
    "# plot history\n",
    "pyplot.plot(history.history['loss'], label='train')\n",
    "pyplot.plot(history.history['val_loss'], label='test')\n",
    "pyplot.legend()\n",
    "pyplot.show()"
   ]
  },
  {
   "cell_type": "markdown",
   "metadata": {},
   "source": [
    "## Batch Prediction of all Test Records"
   ]
  },
  {
   "cell_type": "markdown",
   "metadata": {},
   "source": [
    "Here we take all Test Records and get a prediction for each one of them. "
   ]
  },
  {
   "cell_type": "code",
   "execution_count": 25,
   "metadata": {},
   "outputs": [],
   "source": [
    "# make a prediction\n",
    "yhat = model.predict(test_X)\n",
    "test_X = test_X.reshape((test_X.shape[0], NUMBER_OF_LAG_TIMESTEPS*NUMBER_OF_FEATURES))"
   ]
  },
  {
   "cell_type": "code",
   "execution_count": 26,
   "metadata": {},
   "outputs": [
    {
     "data": {
      "text/plain": [
       "array([[0.29145598, 0.26080823, 0.28900245],\n",
       "       [0.29457623, 0.26436597, 0.29301107],\n",
       "       [0.2979373 , 0.26686823, 0.2965771 ],\n",
       "       ...,\n",
       "       [0.26846755, 0.23269194, 0.25925905],\n",
       "       [0.26907408, 0.23499566, 0.26157534],\n",
       "       [0.2700685 , 0.23608097, 0.2628208 ]], dtype=float32)"
      ]
     },
     "execution_count": 26,
     "metadata": {},
     "output_type": "execute_result"
    }
   ],
   "source": [
    "yhat"
   ]
  },
  {
   "cell_type": "markdown",
   "metadata": {},
   "source": [
    "## Reversing Normalization\n",
    "\n",
    "For inverting the scale (denormalize) of a test record, we need first to unframe the test_X values so as the get the original record. Since the label was the first colum of the record, we concatenate the prediction to the last columns of the framed record."
   ]
  },
  {
   "cell_type": "code",
   "execution_count": 27,
   "metadata": {},
   "outputs": [
    {
     "data": {
      "text/plain": [
       "array([[15.710746, 13.445783, 15.36741 ],\n",
       "       [15.874958, 13.629198, 15.575507],\n",
       "       [16.051846, 13.758199, 15.760628],\n",
       "       ...,\n",
       "       [14.50091 , 11.996278, 13.823359],\n",
       "       [14.532831, 12.115044, 13.943603],\n",
       "       [14.585165, 12.170996, 14.008258]], dtype=float32)"
      ]
     },
     "execution_count": 27,
     "metadata": {},
     "output_type": "execute_result"
    }
   ],
   "source": [
    "# invert scaling for forecast\n",
    "inv_yhat = concatenate((yhat, test_X[:, -(NUMBER_OF_FEATURES - NUMBER_OF_LABELS):]), axis=1)\n",
    "inv_yhat = scaler.inverse_transform(inv_yhat)\n",
    "inv_yhat = inv_yhat[:,:NUMBER_OF_LABELS]\n",
    "inv_yhat"
   ]
  },
  {
   "cell_type": "code",
   "execution_count": 28,
   "metadata": {
    "scrolled": true
   },
   "outputs": [
    {
     "data": {
      "text/plain": [
       "array([[15.728    , 15.189    , 15.35     ],\n",
       "       [15.797    , 15.0199995, 15.346    ],\n",
       "       [15.109001 , 14.857999 , 15.053    ],\n",
       "       ...,\n",
       "       [13.64     , 13.35     , 13.51     ],\n",
       "       [13.669999 , 13.260001 , 13.56     ],\n",
       "       [13.270001 , 13.05     , 13.27     ]], dtype=float32)"
      ]
     },
     "execution_count": 28,
     "metadata": {},
     "output_type": "execute_result"
    }
   ],
   "source": [
    "# invert scaling for actual\n",
    "inv_y = concatenate((test_y, test_X[:, -(NUMBER_OF_FEATURES - NUMBER_OF_LABELS):]), axis=1)\n",
    "inv_y = scaler.inverse_transform(inv_y)\n",
    "inv_y = inv_y[:,:NUMBER_OF_LABELS]\n",
    "inv_y"
   ]
  },
  {
   "cell_type": "markdown",
   "metadata": {},
   "source": [
    "## Error Calculations"
   ]
  },
  {
   "cell_type": "markdown",
   "metadata": {},
   "source": [
    "### Main Error Value"
   ]
  },
  {
   "cell_type": "code",
   "execution_count": 29,
   "metadata": {},
   "outputs": [],
   "source": [
    "# calculate RMSE\n",
    "rmse = sqrt(mean_squared_error(inv_y, inv_yhat))"
   ]
  },
  {
   "cell_type": "markdown",
   "metadata": {},
   "source": [
    "This is the main value we use to know how much error there is. We need this value to go as down as possible."
   ]
  },
  {
   "cell_type": "markdown",
   "metadata": {},
   "source": [
    "### Alternative Error Analisys"
   ]
  },
  {
   "cell_type": "code",
   "execution_count": 30,
   "metadata": {},
   "outputs": [
    {
     "data": {
      "text/plain": [
       "array([[ -0.1 , -11.47,   0.11],\n",
       "       [  0.49,  -9.25,   1.49],\n",
       "       [  6.24,  -7.4 ,   4.7 ],\n",
       "       ...,\n",
       "       [  6.31, -10.14,   2.31],\n",
       "       [  6.31,  -8.63,   2.82],\n",
       "       [  9.91,  -6.73,   5.56]])"
      ]
     },
     "execution_count": 30,
     "metadata": {},
     "output_type": "execute_result"
    }
   ],
   "source": [
    "# my way to calculating Errors\n",
    "errors = (inv_yhat - inv_y) / inv_y * 10000\n",
    "errors = errors.astype('int') / 100\n",
    "errors"
   ]
  },
  {
   "cell_type": "markdown",
   "metadata": {},
   "source": [
    "### Plot of the % of Error of each Predicted Value "
   ]
  },
  {
   "cell_type": "code",
   "execution_count": 31,
   "metadata": {},
   "outputs": [
    {
     "data": {
      "image/png": "[encoded data removed]",
      "text/plain": [
       "<Figure size 640x480 with 1 Axes>"
      ]
     },
     "metadata": {},
     "output_type": "display_data"
    }
   ],
   "source": [
    "# plot errors\n",
    "pyplot.plot(errors)\n",
    "pyplot.show()"
   ]
  },
  {
   "cell_type": "markdown",
   "metadata": {},
   "source": [
    "### Dollar Difference Between Prediction and Actual Value"
   ]
  },
  {
   "cell_type": "markdown",
   "metadata": {},
   "source": [
    "In the context of the Test dataset, this is what we get if we substract the Actual Value to the Predicted Value."
   ]
  },
  {
   "cell_type": "code",
   "execution_count": 32,
   "metadata": {},
   "outputs": [
    {
     "data": {
      "text/plain": [
       "array([[-0.01725388, -1.7432175 ,  0.01740932],\n",
       "       [ 0.07795811, -1.3908014 ,  0.22950745],\n",
       "       [ 0.9428444 , -1.0998001 ,  0.7076273 ],\n",
       "       ...,\n",
       "       [ 0.86090946, -1.3537226 ,  0.3133583 ],\n",
       "       [ 0.86283207, -1.1449575 ,  0.38360214],\n",
       "       [ 1.3151636 , -0.8790045 ,  0.7382574 ]], dtype=float32)"
      ]
     },
     "execution_count": 32,
     "metadata": {},
     "output_type": "execute_result"
    }
   ],
   "source": [
    "diff = (inv_yhat - inv_y) \n",
    "diff = diff.astype('float32')\n",
    "diff"
   ]
  },
  {
   "cell_type": "markdown",
   "metadata": {},
   "source": [
    "## Returning Predictions & Errors"
   ]
  },
  {
   "cell_type": "markdown",
   "metadata": {},
   "source": [
    "Here we are returning the predictions to the caller program. Only the last row of predictions are needed because they belong to the latest closed candle. "
   ]
  },
  {
   "cell_type": "code",
   "execution_count": 33,
   "metadata": {},
   "outputs": [
    {
     "name": "stdout",
     "output_type": "stream",
     "text": [
      ",\"predictions\": \" [14.585165 12.170996 14.008258] \"\n"
     ]
    }
   ],
   "source": [
    "print(',\"predictions\": \"', inv_yhat[-1], '\"' )"
   ]
  },
  {
   "cell_type": "code",
   "execution_count": 34,
   "metadata": {},
   "outputs": [
    {
     "name": "stdout",
     "output_type": "stream",
     "text": [
      ",\"actualValues\": \" [13.270001 13.05     13.27    ] \"\n"
     ]
    }
   ],
   "source": [
    "print(',\"actualValues\": \"', inv_y[-1], '\"' )"
   ]
  },
  {
   "cell_type": "code",
   "execution_count": 35,
   "metadata": {},
   "outputs": [
    {
     "name": "stdout",
     "output_type": "stream",
     "text": [
      ",\"difference\": \" [ 1.3151636 -0.8790045  0.7382574] \"\n"
     ]
    }
   ],
   "source": [
    "print(',\"difference\": \"', diff[-1], '\"' )"
   ]
  },
  {
   "cell_type": "code",
   "execution_count": 36,
   "metadata": {},
   "outputs": [
    {
     "name": "stdout",
     "output_type": "stream",
     "text": [
      ",\"errorRMSE\": 2.312\n",
      "}\n"
     ]
    }
   ],
   "source": [
    "print(',\"errorRMSE\": %.3f' % rmse)\n",
    "print('}')"
   ]
  },
  {
   "cell_type": "markdown",
   "metadata": {},
   "source": [
    "##### "
   ]
  },
  {
   "cell_type": "markdown",
   "metadata": {},
   "source": [
    "###### "
   ]
  }
 ],
 "metadata": {
  "colab": {
   "collapsed_sections": [],
   "name": "Copy of csv.ipynb",
   "provenance": [],
   "toc_visible": true
  },
  "kernelspec": {
   "display_name": "Python 3",
   "language": "python",
   "name": "python3"
  },
  "language_info": {
   "codemirror_mode": {
    "name": "ipython",
    "version": 3
   },
   "file_extension": ".py",
   "mimetype": "text/x-python",
   "name": "python",
   "nbconvert_exporter": "python",
   "pygments_lexer": "ipython3",
   "version": "3.8.10"
  }
 },
 "nbformat": 4,
 "nbformat_minor": 1
}
