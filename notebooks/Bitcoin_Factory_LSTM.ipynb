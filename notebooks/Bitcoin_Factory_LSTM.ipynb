{
 "cells": [
  {
   "cell_type": "markdown",
   "metadata": {
    "id": "DweYe9FcbMK_"
   },
   "source": [
    "##### Bitcoin Factory Machine Learning\n"
   ]
  },
  {
   "cell_type": "markdown",
   "metadata": {},
   "source": [
    "# Multivariate Time Series Forecasting with LSTMs in Keras"
   ]
  },
  {
   "cell_type": "markdown",
   "metadata": {
    "id": "sUtoed20cRJJ"
   },
   "source": [
    "## Time Series Forcasting - Multiple Lag Timesteps - Multiple Labels"
   ]
  },
  {
   "cell_type": "markdown",
   "metadata": {},
   "source": [
    "Based on Tutorial from https://machinelearningmastery.com/multivariate-time-series-forecasting-lstms-keras/"
   ]
  },
  {
   "cell_type": "markdown",
   "metadata": {},
   "source": [
    "# Strategy"
   ]
  },
  {
   "cell_type": "markdown",
   "metadata": {},
   "source": [
    "The strategy is to predict the Candle.Max and Candle.Min of a set of Crypto Assets at the highest timeframe possible, in order to use the prediction to pick the one with higher % of predicted increase in price to take a position in it before that happens."
   ]
  },
  {
   "cell_type": "markdown",
   "metadata": {},
   "source": [
    "# Code to Run"
   ]
  },
  {
   "cell_type": "markdown",
   "metadata": {},
   "source": [
    "## Libraries Used"
   ]
  },
  {
   "cell_type": "code",
   "execution_count": 1,
   "metadata": {},
   "outputs": [],
   "source": [
    "\n",
    "from math import sqrt\n",
    "from numpy import concatenate\n",
    "from matplotlib import pyplot\n",
    "from pandas import read_csv\n",
    "from pandas import DataFrame\n",
    "from pandas import concat\n",
    "from sklearn.preprocessing import MinMaxScaler\n",
    "from sklearn.preprocessing import LabelEncoder\n",
    "from sklearn.metrics import mean_squared_error\n",
    "from keras.models import Sequential\n",
    "from keras.layers import Dense\n",
    "from keras.layers import LSTM"
   ]
  },
  {
   "cell_type": "markdown",
   "metadata": {},
   "source": [
    "## Functions Used"
   ]
  },
  {
   "cell_type": "code",
   "execution_count": 2,
   "metadata": {},
   "outputs": [],
   "source": [
    "# convert series to supervised learning\n",
    "def series_to_supervised(data, n_in=1, n_out=1, dropnan=True):\n",
    "\tn_vars = 1 if type(data) is list else data.shape[1]\n",
    "\tdf = DataFrame(data)\n",
    "\tcols, names = list(), list()\n",
    "\t# input sequence (t-n, ... t-1)\n",
    "\tfor i in range(n_in, 0, -1):\n",
    "\t\tcols.append(df.shift(i))\n",
    "\t\tnames += [('var%d(t-%d)' % (j+1, i)) for j in range(n_vars)]\n",
    "\t# forecast sequence (t, t+1, ... t+n)\n",
    "\tfor i in range(0, n_out):\n",
    "\t\tcols.append(df.shift(-i))\n",
    "\t\tif i == 0:\n",
    "\t\t\tnames += [('var%d(t)' % (j+1)) for j in range(n_vars)]\n",
    "\t\telse:\n",
    "\t\t\tnames += [('var%d(t+%d)' % (j+1, i)) for j in range(n_vars)]\n",
    "\t# put it all together\n",
    "\tagg = concat(cols, axis=1)\n",
    "\tagg.columns = names\n",
    "\t# drop rows with NaN values\n",
    "\tif dropnan:\n",
    "\t\tagg.dropna(inplace=True)\n",
    "\treturn agg \n",
    " "
   ]
  },
  {
   "cell_type": "markdown",
   "metadata": {},
   "source": [
    "## Load the Parameters Dataset\n"
   ]
  },
  {
   "cell_type": "code",
   "execution_count": 3,
   "metadata": {},
   "outputs": [
    {
     "data": {
      "text/html": [
       "<div>\n",
       "<style scoped>\n",
       "    .dataframe tbody tr th:only-of-type {\n",
       "        vertical-align: middle;\n",
       "    }\n",
       "\n",
       "    .dataframe tbody tr th {\n",
       "        vertical-align: top;\n",
       "    }\n",
       "\n",
       "    .dataframe thead th {\n",
       "        text-align: right;\n",
       "    }\n",
       "</style>\n",
       "<table border=\"1\" class=\"dataframe\">\n",
       "  <thead>\n",
       "    <tr style=\"text-align: right;\">\n",
       "      <th></th>\n",
       "      <th>PARAMETER</th>\n",
       "      <th>VALUE</th>\n",
       "    </tr>\n",
       "  </thead>\n",
       "  <tbody>\n",
       "    <tr>\n",
       "      <th>0</th>\n",
       "      <td>LIST_OF_ASSETS</td>\n",
       "      <td>BTC</td>\n",
       "    </tr>\n",
       "    <tr>\n",
       "      <th>1</th>\n",
       "      <td>LIST_OF_TIMEFRAMES</td>\n",
       "      <td>01-hs</td>\n",
       "    </tr>\n",
       "    <tr>\n",
       "      <th>2</th>\n",
       "      <td>NUMBER_OF_INDICATORS_PROPERTIES</td>\n",
       "      <td>5</td>\n",
       "    </tr>\n",
       "    <tr>\n",
       "      <th>3</th>\n",
       "      <td>NUMBER_OF_LAG_TIMESTEPS</td>\n",
       "      <td>3</td>\n",
       "    </tr>\n",
       "    <tr>\n",
       "      <th>4</th>\n",
       "      <td>NUMBER_OF_ASSETS</td>\n",
       "      <td>1</td>\n",
       "    </tr>\n",
       "    <tr>\n",
       "      <th>5</th>\n",
       "      <td>NUMBER_OF_LABELS</td>\n",
       "      <td>3</td>\n",
       "    </tr>\n",
       "    <tr>\n",
       "      <th>6</th>\n",
       "      <td>PERCENTAGE_OF_DATASET_FOR_TRAINING</td>\n",
       "      <td>80</td>\n",
       "    </tr>\n",
       "    <tr>\n",
       "      <th>7</th>\n",
       "      <td>NUMBER_OF_FEATURES</td>\n",
       "      <td>5</td>\n",
       "    </tr>\n",
       "    <tr>\n",
       "      <th>8</th>\n",
       "      <td>NUMBER_OF_EPOCHS</td>\n",
       "      <td>6</td>\n",
       "    </tr>\n",
       "    <tr>\n",
       "      <th>9</th>\n",
       "      <td>NUMBER_OF_LSTM_NEURONS</td>\n",
       "      <td>50</td>\n",
       "    </tr>\n",
       "  </tbody>\n",
       "</table>\n",
       "</div>"
      ],
      "text/plain": [
       "                            PARAMETER  VALUE\n",
       "0                      LIST_OF_ASSETS    BTC\n",
       "1                  LIST_OF_TIMEFRAMES  01-hs\n",
       "2     NUMBER_OF_INDICATORS_PROPERTIES      5\n",
       "3             NUMBER_OF_LAG_TIMESTEPS      3\n",
       "4                    NUMBER_OF_ASSETS      1\n",
       "5                    NUMBER_OF_LABELS      3\n",
       "6  PERCENTAGE_OF_DATASET_FOR_TRAINING     80\n",
       "7                  NUMBER_OF_FEATURES      5\n",
       "8                    NUMBER_OF_EPOCHS      6\n",
       "9              NUMBER_OF_LSTM_NEURONS     50"
      ]
     },
     "execution_count": 3,
     "metadata": {},
     "output_type": "execute_result"
    }
   ],
   "source": [
    "parameters_dataset = read_csv(\n",
    "    '/tf/notebooks/parameters.csv', \n",
    "    header=0, \n",
    "    sep=' ', \n",
    "    skipinitialspace=True\n",
    ")\n",
    "\n",
    "parameters_dataset"
   ]
  },
  {
   "cell_type": "code",
   "execution_count": 4,
   "metadata": {},
   "outputs": [],
   "source": [
    "# number of indicator properties that are at the raw dataset. Each set of indicators properties might be at many assets or timeframes.\n",
    "NUMBER_OF_INDICATORS_PROPERTIES = int(parameters_dataset.values[2][1])\n",
    "\n",
    "# number of timesteps in the secuence that we are going to use to feed the model.\n",
    "NUMBER_OF_LAG_TIMESTEPS = int(parameters_dataset.values[3][1])\n",
    "\n",
    "# number of assets included at the raw dataset.\n",
    "NUMBER_OF_ASSETS = int(parameters_dataset.values[4][1])\n",
    "\n",
    "# number of things we are going to predict.\n",
    "NUMBER_OF_LABELS = int(parameters_dataset.values[5][1])\n",
    "\n",
    "# definition of how the raw dataset is going to be divided between a Traing Dataset and a Test Dataset.\n",
    "PERCENTAGE_OF_DATASET_FOR_TRAINING = int(parameters_dataset.values[6][1])\n",
    "\n",
    "NUMBER_OF_FEATURES = int(parameters_dataset.values[7][1])\n",
    "\n",
    "# hyper-parameters\n",
    "NUMBER_OF_EPOCHS = int(parameters_dataset.values[8][1])\n",
    "NUMBER_OF_LSTM_NEURONS = int(parameters_dataset.values[9][1])"
   ]
  },
  {
   "cell_type": "markdown",
   "metadata": {},
   "source": [
    "## Load the Time-Series Dataset"
   ]
  },
  {
   "cell_type": "code",
   "execution_count": 5,
   "metadata": {},
   "outputs": [
    {
     "data": {
      "text/html": [
       "<div>\n",
       "<style scoped>\n",
       "    .dataframe tbody tr th:only-of-type {\n",
       "        vertical-align: middle;\n",
       "    }\n",
       "\n",
       "    .dataframe tbody tr th {\n",
       "        vertical-align: top;\n",
       "    }\n",
       "\n",
       "    .dataframe thead th {\n",
       "        text-align: right;\n",
       "    }\n",
       "</style>\n",
       "<table border=\"1\" class=\"dataframe\">\n",
       "  <thead>\n",
       "    <tr style=\"text-align: right;\">\n",
       "      <th></th>\n",
       "      <th>BTC-candle.max-01-hs-1</th>\n",
       "      <th>BTC-candle.min-01-hs-1</th>\n",
       "      <th>BTC-candle.open-01-hs-1</th>\n",
       "      <th>BTC-candle.close-01-hs-1</th>\n",
       "      <th>BTC-volume.total-01-hs-1</th>\n",
       "    </tr>\n",
       "    <tr>\n",
       "      <th>Timestamp</th>\n",
       "      <th></th>\n",
       "      <th></th>\n",
       "      <th></th>\n",
       "      <th></th>\n",
       "      <th></th>\n",
       "    </tr>\n",
       "  </thead>\n",
       "  <tbody>\n",
       "    <tr>\n",
       "      <th>1577836800000</th>\n",
       "      <td>7196.25</td>\n",
       "      <td>7175.46</td>\n",
       "      <td>7195.24</td>\n",
       "      <td>7177.02</td>\n",
       "      <td>511.814901</td>\n",
       "    </tr>\n",
       "    <tr>\n",
       "      <th>1577840400000</th>\n",
       "      <td>7230.00</td>\n",
       "      <td>7175.71</td>\n",
       "      <td>7176.47</td>\n",
       "      <td>7216.27</td>\n",
       "      <td>883.052603</td>\n",
       "    </tr>\n",
       "    <tr>\n",
       "      <th>1577844000000</th>\n",
       "      <td>7244.87</td>\n",
       "      <td>7211.41</td>\n",
       "      <td>7215.52</td>\n",
       "      <td>7242.85</td>\n",
       "      <td>655.156809</td>\n",
       "    </tr>\n",
       "    <tr>\n",
       "      <th>1577847600000</th>\n",
       "      <td>7245.00</td>\n",
       "      <td>7220.00</td>\n",
       "      <td>7242.66</td>\n",
       "      <td>7225.01</td>\n",
       "      <td>783.724867</td>\n",
       "    </tr>\n",
       "    <tr>\n",
       "      <th>1577851200000</th>\n",
       "      <td>7230.00</td>\n",
       "      <td>7215.03</td>\n",
       "      <td>7225.00</td>\n",
       "      <td>7217.27</td>\n",
       "      <td>467.812578</td>\n",
       "    </tr>\n",
       "    <tr>\n",
       "      <th>...</th>\n",
       "      <td>...</td>\n",
       "      <td>...</td>\n",
       "      <td>...</td>\n",
       "      <td>...</td>\n",
       "      <td>...</td>\n",
       "    </tr>\n",
       "    <tr>\n",
       "      <th>1645869600000</th>\n",
       "      <td>39068.89</td>\n",
       "      <td>38759.77</td>\n",
       "      <td>38790.93</td>\n",
       "      <td>39001.55</td>\n",
       "      <td>1122.698130</td>\n",
       "    </tr>\n",
       "    <tr>\n",
       "      <th>1645873200000</th>\n",
       "      <td>39173.99</td>\n",
       "      <td>38787.69</td>\n",
       "      <td>39001.56</td>\n",
       "      <td>38928.21</td>\n",
       "      <td>905.567970</td>\n",
       "    </tr>\n",
       "    <tr>\n",
       "      <th>1645876800000</th>\n",
       "      <td>39027.88</td>\n",
       "      <td>38772.15</td>\n",
       "      <td>38928.22</td>\n",
       "      <td>38992.78</td>\n",
       "      <td>799.273780</td>\n",
       "    </tr>\n",
       "    <tr>\n",
       "      <th>1645880400000</th>\n",
       "      <td>39241.51</td>\n",
       "      <td>38912.97</td>\n",
       "      <td>38992.78</td>\n",
       "      <td>39088.20</td>\n",
       "      <td>1309.273640</td>\n",
       "    </tr>\n",
       "    <tr>\n",
       "      <th>1645884000000</th>\n",
       "      <td>39177.10</td>\n",
       "      <td>38943.18</td>\n",
       "      <td>39088.20</td>\n",
       "      <td>39032.84</td>\n",
       "      <td>236.298990</td>\n",
       "    </tr>\n",
       "  </tbody>\n",
       "</table>\n",
       "<p>18903 rows × 5 columns</p>\n",
       "</div>"
      ],
      "text/plain": [
       "               BTC-candle.max-01-hs-1  BTC-candle.min-01-hs-1  \\\n",
       "Timestamp                                                       \n",
       "1577836800000                 7196.25                 7175.46   \n",
       "1577840400000                 7230.00                 7175.71   \n",
       "1577844000000                 7244.87                 7211.41   \n",
       "1577847600000                 7245.00                 7220.00   \n",
       "1577851200000                 7230.00                 7215.03   \n",
       "...                               ...                     ...   \n",
       "1645869600000                39068.89                38759.77   \n",
       "1645873200000                39173.99                38787.69   \n",
       "1645876800000                39027.88                38772.15   \n",
       "1645880400000                39241.51                38912.97   \n",
       "1645884000000                39177.10                38943.18   \n",
       "\n",
       "               BTC-candle.open-01-hs-1  BTC-candle.close-01-hs-1  \\\n",
       "Timestamp                                                          \n",
       "1577836800000                  7195.24                   7177.02   \n",
       "1577840400000                  7176.47                   7216.27   \n",
       "1577844000000                  7215.52                   7242.85   \n",
       "1577847600000                  7242.66                   7225.01   \n",
       "1577851200000                  7225.00                   7217.27   \n",
       "...                                ...                       ...   \n",
       "1645869600000                 38790.93                  39001.55   \n",
       "1645873200000                 39001.56                  38928.21   \n",
       "1645876800000                 38928.22                  38992.78   \n",
       "1645880400000                 38992.78                  39088.20   \n",
       "1645884000000                 39088.20                  39032.84   \n",
       "\n",
       "               BTC-volume.total-01-hs-1  \n",
       "Timestamp                                \n",
       "1577836800000                511.814901  \n",
       "1577840400000                883.052603  \n",
       "1577844000000                655.156809  \n",
       "1577847600000                783.724867  \n",
       "1577851200000                467.812578  \n",
       "...                                 ...  \n",
       "1645869600000               1122.698130  \n",
       "1645873200000                905.567970  \n",
       "1645876800000                799.273780  \n",
       "1645880400000               1309.273640  \n",
       "1645884000000                236.298990  \n",
       "\n",
       "[18903 rows x 5 columns]"
      ]
     },
     "execution_count": 5,
     "metadata": {},
     "output_type": "execute_result"
    }
   ],
   "source": [
    "timeseries_dataset = read_csv(\n",
    "    '/tf/notebooks/time-series.csv', \n",
    "    header=0, \n",
    "    index_col=0,    #The first colum is a timestamp that will be used to index all the data.\n",
    "    sep=' ', \n",
    "    skipinitialspace=True\n",
    ")\n",
    "\n",
    "timeseries_dataset"
   ]
  },
  {
   "cell_type": "code",
   "execution_count": 6,
   "metadata": {},
   "outputs": [],
   "source": [
    "values = timeseries_dataset.values"
   ]
  },
  {
   "cell_type": "code",
   "execution_count": 7,
   "metadata": {},
   "outputs": [],
   "source": [
    "# ensure all data is float\n",
    "values = values.astype('float32')"
   ]
  },
  {
   "cell_type": "markdown",
   "metadata": {},
   "source": [
    "## Plot & Verify"
   ]
  },
  {
   "cell_type": "markdown",
   "metadata": {},
   "source": [
    "We plot our raw data just to be sure with a glimpse that it is alright."
   ]
  },
  {
   "cell_type": "code",
   "execution_count": 8,
   "metadata": {},
   "outputs": [
    {
     "data": {
      "image/png": "[encoded data removed]",
      "text/plain": [
       "<Figure size 640x480 with 2 Axes>"
      ]
     },
     "metadata": {},
     "output_type": "display_data"
    }
   ],
   "source": [
    "# specify columns to plot\n",
    "groups = [0, 2]\n",
    "i = 1\n",
    "# plot each column\n",
    "pyplot.figure()\n",
    "for group in groups:\n",
    "\tpyplot.subplot(len(groups), 1, i)\n",
    "\tpyplot.plot(values[:, group])\n",
    "\tpyplot.title(timeseries_dataset.columns[group], y=0.5, loc='right')\n",
    "\ti += 1\n",
    "pyplot.show()"
   ]
  },
  {
   "cell_type": "markdown",
   "metadata": {},
   "source": [
    "## Normalization"
   ]
  },
  {
   "cell_type": "markdown",
   "metadata": {},
   "source": [
    "Normalizing or removing the scale, is a standar prodcedure of any machine learning workflow. "
   ]
  },
  {
   "cell_type": "code",
   "execution_count": 9,
   "metadata": {},
   "outputs": [],
   "source": [
    "# normalize features\n",
    "scaler = MinMaxScaler(feature_range=(0, 1))\n",
    "scaled = scaler.fit_transform(values)"
   ]
  },
  {
   "cell_type": "markdown",
   "metadata": {},
   "source": [
    "## Reframing as a Supervised Learning Problem"
   ]
  },
  {
   "cell_type": "markdown",
   "metadata": {},
   "source": [
    "Each Raw record needs to be expanded with the previous records in order to be suitable for beeing fed into a LSTM model. Some fields of the record at time = 0 will be used as labels and the ones at time < 0 as features."
   ]
  },
  {
   "cell_type": "code",
   "execution_count": 10,
   "metadata": {},
   "outputs": [],
   "source": [
    "# frame as supervised learning\n",
    "reframed = series_to_supervised(scaled, NUMBER_OF_LAG_TIMESTEPS, 1)"
   ]
  },
  {
   "cell_type": "code",
   "execution_count": 11,
   "metadata": {},
   "outputs": [
    {
     "data": {
      "text/html": [
       "<div>\n",
       "<style scoped>\n",
       "    .dataframe tbody tr th:only-of-type {\n",
       "        vertical-align: middle;\n",
       "    }\n",
       "\n",
       "    .dataframe tbody tr th {\n",
       "        vertical-align: top;\n",
       "    }\n",
       "\n",
       "    .dataframe thead th {\n",
       "        text-align: right;\n",
       "    }\n",
       "</style>\n",
       "<table border=\"1\" class=\"dataframe\">\n",
       "  <thead>\n",
       "    <tr style=\"text-align: right;\">\n",
       "      <th></th>\n",
       "      <th>var1(t-3)</th>\n",
       "      <th>var2(t-3)</th>\n",
       "      <th>var3(t-3)</th>\n",
       "      <th>var4(t-3)</th>\n",
       "      <th>var5(t-3)</th>\n",
       "      <th>var1(t-2)</th>\n",
       "      <th>var2(t-2)</th>\n",
       "      <th>var3(t-2)</th>\n",
       "      <th>var4(t-2)</th>\n",
       "      <th>var5(t-2)</th>\n",
       "      <th>var1(t-1)</th>\n",
       "      <th>var2(t-1)</th>\n",
       "      <th>var3(t-1)</th>\n",
       "      <th>var4(t-1)</th>\n",
       "      <th>var5(t-1)</th>\n",
       "      <th>var1(t)</th>\n",
       "      <th>var2(t)</th>\n",
       "      <th>var3(t)</th>\n",
       "      <th>var4(t)</th>\n",
       "      <th>var5(t)</th>\n",
       "    </tr>\n",
       "  </thead>\n",
       "  <tbody>\n",
       "    <tr>\n",
       "      <th>3</th>\n",
       "      <td>0.040165</td>\n",
       "      <td>0.052472</td>\n",
       "      <td>0.047501</td>\n",
       "      <td>0.047228</td>\n",
       "      <td>0.010831</td>\n",
       "      <td>0.040690</td>\n",
       "      <td>0.052476</td>\n",
       "      <td>0.047210</td>\n",
       "      <td>0.047837</td>\n",
       "      <td>0.018687</td>\n",
       "      <td>0.040920</td>\n",
       "      <td>0.053028</td>\n",
       "      <td>0.047816</td>\n",
       "      <td>0.048249</td>\n",
       "      <td>0.013864</td>\n",
       "      <td>0.040923</td>\n",
       "      <td>0.053161</td>\n",
       "      <td>0.048236</td>\n",
       "      <td>0.047972</td>\n",
       "      <td>0.016585</td>\n",
       "    </tr>\n",
       "    <tr>\n",
       "      <th>4</th>\n",
       "      <td>0.040690</td>\n",
       "      <td>0.052476</td>\n",
       "      <td>0.047210</td>\n",
       "      <td>0.047837</td>\n",
       "      <td>0.018687</td>\n",
       "      <td>0.040920</td>\n",
       "      <td>0.053028</td>\n",
       "      <td>0.047816</td>\n",
       "      <td>0.048249</td>\n",
       "      <td>0.013864</td>\n",
       "      <td>0.040923</td>\n",
       "      <td>0.053161</td>\n",
       "      <td>0.048236</td>\n",
       "      <td>0.047972</td>\n",
       "      <td>0.016585</td>\n",
       "      <td>0.040690</td>\n",
       "      <td>0.053084</td>\n",
       "      <td>0.047963</td>\n",
       "      <td>0.047852</td>\n",
       "      <td>0.009900</td>\n",
       "    </tr>\n",
       "    <tr>\n",
       "      <th>5</th>\n",
       "      <td>0.040920</td>\n",
       "      <td>0.053028</td>\n",
       "      <td>0.047816</td>\n",
       "      <td>0.048249</td>\n",
       "      <td>0.013864</td>\n",
       "      <td>0.040923</td>\n",
       "      <td>0.053161</td>\n",
       "      <td>0.048236</td>\n",
       "      <td>0.047972</td>\n",
       "      <td>0.016585</td>\n",
       "      <td>0.040690</td>\n",
       "      <td>0.053084</td>\n",
       "      <td>0.047963</td>\n",
       "      <td>0.047852</td>\n",
       "      <td>0.009900</td>\n",
       "      <td>0.040686</td>\n",
       "      <td>0.053109</td>\n",
       "      <td>0.047843</td>\n",
       "      <td>0.047960</td>\n",
       "      <td>0.007294</td>\n",
       "    </tr>\n",
       "    <tr>\n",
       "      <th>6</th>\n",
       "      <td>0.040923</td>\n",
       "      <td>0.053161</td>\n",
       "      <td>0.048236</td>\n",
       "      <td>0.047972</td>\n",
       "      <td>0.016585</td>\n",
       "      <td>0.040690</td>\n",
       "      <td>0.053084</td>\n",
       "      <td>0.047963</td>\n",
       "      <td>0.047852</td>\n",
       "      <td>0.009900</td>\n",
       "      <td>0.040686</td>\n",
       "      <td>0.053109</td>\n",
       "      <td>0.047843</td>\n",
       "      <td>0.047960</td>\n",
       "      <td>0.007294</td>\n",
       "      <td>0.040787</td>\n",
       "      <td>0.053184</td>\n",
       "      <td>0.047951</td>\n",
       "      <td>0.047982</td>\n",
       "      <td>0.013151</td>\n",
       "    </tr>\n",
       "    <tr>\n",
       "      <th>7</th>\n",
       "      <td>0.040690</td>\n",
       "      <td>0.053084</td>\n",
       "      <td>0.047963</td>\n",
       "      <td>0.047852</td>\n",
       "      <td>0.009900</td>\n",
       "      <td>0.040686</td>\n",
       "      <td>0.053109</td>\n",
       "      <td>0.047843</td>\n",
       "      <td>0.047960</td>\n",
       "      <td>0.007294</td>\n",
       "      <td>0.040787</td>\n",
       "      <td>0.053184</td>\n",
       "      <td>0.047951</td>\n",
       "      <td>0.047982</td>\n",
       "      <td>0.013151</td>\n",
       "      <td>0.040735</td>\n",
       "      <td>0.052838</td>\n",
       "      <td>0.047976</td>\n",
       "      <td>0.047737</td>\n",
       "      <td>0.013276</td>\n",
       "    </tr>\n",
       "    <tr>\n",
       "      <th>...</th>\n",
       "      <td>...</td>\n",
       "      <td>...</td>\n",
       "      <td>...</td>\n",
       "      <td>...</td>\n",
       "      <td>...</td>\n",
       "      <td>...</td>\n",
       "      <td>...</td>\n",
       "      <td>...</td>\n",
       "      <td>...</td>\n",
       "      <td>...</td>\n",
       "      <td>...</td>\n",
       "      <td>...</td>\n",
       "      <td>...</td>\n",
       "      <td>...</td>\n",
       "      <td>...</td>\n",
       "      <td>...</td>\n",
       "      <td>...</td>\n",
       "      <td>...</td>\n",
       "      <td>...</td>\n",
       "      <td>...</td>\n",
       "    </tr>\n",
       "    <tr>\n",
       "      <th>18898</th>\n",
       "      <td>0.537195</td>\n",
       "      <td>0.543196</td>\n",
       "      <td>0.542615</td>\n",
       "      <td>0.543685</td>\n",
       "      <td>0.024852</td>\n",
       "      <td>0.542569</td>\n",
       "      <td>0.539180</td>\n",
       "      <td>0.543669</td>\n",
       "      <td>0.537217</td>\n",
       "      <td>0.049486</td>\n",
       "      <td>0.532957</td>\n",
       "      <td>0.537986</td>\n",
       "      <td>0.537201</td>\n",
       "      <td>0.537343</td>\n",
       "      <td>0.030067</td>\n",
       "      <td>0.535159</td>\n",
       "      <td>0.540871</td>\n",
       "      <td>0.537327</td>\n",
       "      <td>0.540609</td>\n",
       "      <td>0.023758</td>\n",
       "    </tr>\n",
       "    <tr>\n",
       "      <th>18899</th>\n",
       "      <td>0.542569</td>\n",
       "      <td>0.539180</td>\n",
       "      <td>0.543669</td>\n",
       "      <td>0.537217</td>\n",
       "      <td>0.049486</td>\n",
       "      <td>0.532957</td>\n",
       "      <td>0.537986</td>\n",
       "      <td>0.537201</td>\n",
       "      <td>0.537343</td>\n",
       "      <td>0.030067</td>\n",
       "      <td>0.535159</td>\n",
       "      <td>0.540871</td>\n",
       "      <td>0.537327</td>\n",
       "      <td>0.540609</td>\n",
       "      <td>0.023758</td>\n",
       "      <td>0.536791</td>\n",
       "      <td>0.541303</td>\n",
       "      <td>0.540593</td>\n",
       "      <td>0.539472</td>\n",
       "      <td>0.019163</td>\n",
       "    </tr>\n",
       "    <tr>\n",
       "      <th>18900</th>\n",
       "      <td>0.532957</td>\n",
       "      <td>0.537986</td>\n",
       "      <td>0.537201</td>\n",
       "      <td>0.537343</td>\n",
       "      <td>0.030067</td>\n",
       "      <td>0.535159</td>\n",
       "      <td>0.540871</td>\n",
       "      <td>0.537327</td>\n",
       "      <td>0.540609</td>\n",
       "      <td>0.023758</td>\n",
       "      <td>0.536791</td>\n",
       "      <td>0.541303</td>\n",
       "      <td>0.540593</td>\n",
       "      <td>0.539472</td>\n",
       "      <td>0.019163</td>\n",
       "      <td>0.534522</td>\n",
       "      <td>0.541063</td>\n",
       "      <td>0.539456</td>\n",
       "      <td>0.540473</td>\n",
       "      <td>0.016914</td>\n",
       "    </tr>\n",
       "    <tr>\n",
       "      <th>18901</th>\n",
       "      <td>0.535159</td>\n",
       "      <td>0.540871</td>\n",
       "      <td>0.537327</td>\n",
       "      <td>0.540609</td>\n",
       "      <td>0.023758</td>\n",
       "      <td>0.536791</td>\n",
       "      <td>0.541303</td>\n",
       "      <td>0.540593</td>\n",
       "      <td>0.539472</td>\n",
       "      <td>0.019163</td>\n",
       "      <td>0.534522</td>\n",
       "      <td>0.541063</td>\n",
       "      <td>0.539456</td>\n",
       "      <td>0.540473</td>\n",
       "      <td>0.016914</td>\n",
       "      <td>0.537840</td>\n",
       "      <td>0.543240</td>\n",
       "      <td>0.540457</td>\n",
       "      <td>0.541952</td>\n",
       "      <td>0.027706</td>\n",
       "    </tr>\n",
       "    <tr>\n",
       "      <th>18902</th>\n",
       "      <td>0.536791</td>\n",
       "      <td>0.541303</td>\n",
       "      <td>0.540593</td>\n",
       "      <td>0.539472</td>\n",
       "      <td>0.019163</td>\n",
       "      <td>0.534522</td>\n",
       "      <td>0.541063</td>\n",
       "      <td>0.539456</td>\n",
       "      <td>0.540473</td>\n",
       "      <td>0.016914</td>\n",
       "      <td>0.537840</td>\n",
       "      <td>0.543240</td>\n",
       "      <td>0.540457</td>\n",
       "      <td>0.541952</td>\n",
       "      <td>0.027706</td>\n",
       "      <td>0.536840</td>\n",
       "      <td>0.543707</td>\n",
       "      <td>0.541936</td>\n",
       "      <td>0.541094</td>\n",
       "      <td>0.005000</td>\n",
       "    </tr>\n",
       "  </tbody>\n",
       "</table>\n",
       "<p>18900 rows × 20 columns</p>\n",
       "</div>"
      ],
      "text/plain": [
       "       var1(t-3)  var2(t-3)  var3(t-3)  var4(t-3)  var5(t-3)  var1(t-2)  \\\n",
       "3       0.040165   0.052472   0.047501   0.047228   0.010831   0.040690   \n",
       "4       0.040690   0.052476   0.047210   0.047837   0.018687   0.040920   \n",
       "5       0.040920   0.053028   0.047816   0.048249   0.013864   0.040923   \n",
       "6       0.040923   0.053161   0.048236   0.047972   0.016585   0.040690   \n",
       "7       0.040690   0.053084   0.047963   0.047852   0.009900   0.040686   \n",
       "...          ...        ...        ...        ...        ...        ...   \n",
       "18898   0.537195   0.543196   0.542615   0.543685   0.024852   0.542569   \n",
       "18899   0.542569   0.539180   0.543669   0.537217   0.049486   0.532957   \n",
       "18900   0.532957   0.537986   0.537201   0.537343   0.030067   0.535159   \n",
       "18901   0.535159   0.540871   0.537327   0.540609   0.023758   0.536791   \n",
       "18902   0.536791   0.541303   0.540593   0.539472   0.019163   0.534522   \n",
       "\n",
       "       var2(t-2)  var3(t-2)  var4(t-2)  var5(t-2)  var1(t-1)  var2(t-1)  \\\n",
       "3       0.052476   0.047210   0.047837   0.018687   0.040920   0.053028   \n",
       "4       0.053028   0.047816   0.048249   0.013864   0.040923   0.053161   \n",
       "5       0.053161   0.048236   0.047972   0.016585   0.040690   0.053084   \n",
       "6       0.053084   0.047963   0.047852   0.009900   0.040686   0.053109   \n",
       "7       0.053109   0.047843   0.047960   0.007294   0.040787   0.053184   \n",
       "...          ...        ...        ...        ...        ...        ...   \n",
       "18898   0.539180   0.543669   0.537217   0.049486   0.532957   0.537986   \n",
       "18899   0.537986   0.537201   0.537343   0.030067   0.535159   0.540871   \n",
       "18900   0.540871   0.537327   0.540609   0.023758   0.536791   0.541303   \n",
       "18901   0.541303   0.540593   0.539472   0.019163   0.534522   0.541063   \n",
       "18902   0.541063   0.539456   0.540473   0.016914   0.537840   0.543240   \n",
       "\n",
       "       var3(t-1)  var4(t-1)  var5(t-1)   var1(t)   var2(t)   var3(t)  \\\n",
       "3       0.047816   0.048249   0.013864  0.040923  0.053161  0.048236   \n",
       "4       0.048236   0.047972   0.016585  0.040690  0.053084  0.047963   \n",
       "5       0.047963   0.047852   0.009900  0.040686  0.053109  0.047843   \n",
       "6       0.047843   0.047960   0.007294  0.040787  0.053184  0.047951   \n",
       "7       0.047951   0.047982   0.013151  0.040735  0.052838  0.047976   \n",
       "...          ...        ...        ...       ...       ...       ...   \n",
       "18898   0.537201   0.537343   0.030067  0.535159  0.540871  0.537327   \n",
       "18899   0.537327   0.540609   0.023758  0.536791  0.541303  0.540593   \n",
       "18900   0.540593   0.539472   0.019163  0.534522  0.541063  0.539456   \n",
       "18901   0.539456   0.540473   0.016914  0.537840  0.543240  0.540457   \n",
       "18902   0.540457   0.541952   0.027706  0.536840  0.543707  0.541936   \n",
       "\n",
       "        var4(t)   var5(t)  \n",
       "3      0.047972  0.016585  \n",
       "4      0.047852  0.009900  \n",
       "5      0.047960  0.007294  \n",
       "6      0.047982  0.013151  \n",
       "7      0.047737  0.013276  \n",
       "...         ...       ...  \n",
       "18898  0.540609  0.023758  \n",
       "18899  0.539472  0.019163  \n",
       "18900  0.540473  0.016914  \n",
       "18901  0.541952  0.027706  \n",
       "18902  0.541094  0.005000  \n",
       "\n",
       "[18900 rows x 20 columns]"
      ]
     },
     "execution_count": 11,
     "metadata": {},
     "output_type": "execute_result"
    }
   ],
   "source": [
    "reframed"
   ]
  },
  {
   "cell_type": "markdown",
   "metadata": {},
   "source": [
    "## Train and Test Dataset Preparation"
   ]
  },
  {
   "cell_type": "markdown",
   "metadata": {},
   "source": [
    "The first part of the dataset will be used to train the model. The last part for calculating the prediction error. Later we will generate the predictions for the test dataset and measure how accurate they were."
   ]
  },
  {
   "cell_type": "code",
   "execution_count": 12,
   "metadata": {},
   "outputs": [
    {
     "data": {
      "text/plain": [
       "15120"
      ]
     },
     "execution_count": 12,
     "metadata": {},
     "output_type": "execute_result"
    }
   ],
   "source": [
    "# get values from reframed dataset\n",
    "values = reframed.values\n",
    "record_count = len(values)\n",
    "records_for_training = int(record_count * PERCENTAGE_OF_DATASET_FOR_TRAINING / 100)\n",
    "records_for_training"
   ]
  },
  {
   "cell_type": "code",
   "execution_count": 13,
   "metadata": {},
   "outputs": [],
   "source": [
    "# split into train and test sets\n",
    "train = values[:records_for_training, :]\n",
    "test = values[records_for_training:, :]"
   ]
  },
  {
   "cell_type": "code",
   "execution_count": 14,
   "metadata": {},
   "outputs": [
    {
     "data": {
      "text/plain": [
       "(15120, 20)"
      ]
     },
     "execution_count": 14,
     "metadata": {},
     "output_type": "execute_result"
    }
   ],
   "source": [
    "train.shape"
   ]
  },
  {
   "cell_type": "code",
   "execution_count": 15,
   "metadata": {},
   "outputs": [
    {
     "data": {
      "text/plain": [
       "(3780, 20)"
      ]
     },
     "execution_count": 15,
     "metadata": {},
     "output_type": "execute_result"
    }
   ],
   "source": [
    "test.shape"
   ]
  },
  {
   "cell_type": "markdown",
   "metadata": {},
   "source": [
    "## Split into Input and Outputs"
   ]
  },
  {
   "cell_type": "markdown",
   "metadata": {},
   "source": [
    "Here we will split both the Train and the Test datasets into features and labels. \n",
    "Features will be all the information where time < 0. For the labels, we will pick only the first 2 fields of each set of indicator properties, which we expect them to contain the Candle Max and Candle Min for each Asset."
   ]
  },
  {
   "cell_type": "code",
   "execution_count": 16,
   "metadata": {},
   "outputs": [],
   "source": [
    "# split into input and outputs\n",
    "n_obs = NUMBER_OF_LAG_TIMESTEPS * NUMBER_OF_FEATURES\n",
    "\n",
    "train_X = train[:, :n_obs]\n",
    "train_y = train[:, -NUMBER_OF_FEATURES:-(NUMBER_OF_FEATURES-NUMBER_OF_LABELS)]\n",
    "\n",
    "test_X = test[:, :n_obs]\n",
    "test_y = test[:, -NUMBER_OF_FEATURES:-(NUMBER_OF_FEATURES-NUMBER_OF_LABELS)]"
   ]
  },
  {
   "cell_type": "code",
   "execution_count": 17,
   "metadata": {},
   "outputs": [
    {
     "data": {
      "text/plain": [
       "array([[0.0401654 , 0.05247224, 0.04750118, ..., 0.04781557, 0.04824904,\n",
       "        0.01386406],\n",
       "       [0.04068955, 0.0524761 , 0.04721019, ..., 0.04823633, 0.04797246,\n",
       "        0.01658475],\n",
       "       [0.04092049, 0.05302815, 0.04781557, ..., 0.04796254, 0.04785246,\n",
       "        0.00989959],\n",
       "       ...,\n",
       "       [0.5801125 , 0.5538641 , 0.5709592 , ..., 0.564133  , 0.567473  ,\n",
       "        0.10586312],\n",
       "       [0.57525396, 0.567027  , 0.5774517 , ..., 0.567452  , 0.571859  ,\n",
       "        0.09410024],\n",
       "       [0.5661089 , 0.5633926 , 0.564133  , ..., 0.5718793 , 0.5901945 ,\n",
       "        0.10491957]], dtype=float32)"
      ]
     },
     "execution_count": 17,
     "metadata": {},
     "output_type": "execute_result"
    }
   ],
   "source": [
    "train_X"
   ]
  },
  {
   "cell_type": "code",
   "execution_count": 18,
   "metadata": {},
   "outputs": [
    {
     "data": {
      "text/plain": [
       "array([[0.04092251, 0.05316098, 0.04823633],\n",
       "       [0.04068955, 0.05308412, 0.04796254],\n",
       "       [0.04068582, 0.05310917, 0.04784254],\n",
       "       ...,\n",
       "       [0.57272345, 0.5687923 , 0.567452  ],\n",
       "       [0.58627117, 0.5725234 , 0.5718793 ],\n",
       "       [0.58515364, 0.5893013 , 0.5901779 ]], dtype=float32)"
      ]
     },
     "execution_count": 18,
     "metadata": {},
     "output_type": "execute_result"
    }
   ],
   "source": [
    "train_y"
   ]
  },
  {
   "cell_type": "markdown",
   "metadata": {},
   "source": [
    "## Reshape Inputs to fit LSTM type of Network"
   ]
  },
  {
   "cell_type": "markdown",
   "metadata": {},
   "source": [
    "This type of Network Architecture requires the features to be in a 3D shape."
   ]
  },
  {
   "cell_type": "code",
   "execution_count": 19,
   "metadata": {},
   "outputs": [],
   "source": [
    "# reshape input to be 3D [samples, timesteps, features]\n",
    "train_X = train_X.reshape((train_X.shape[0], NUMBER_OF_LAG_TIMESTEPS, NUMBER_OF_FEATURES))\n",
    "test_X = test_X.reshape((test_X.shape[0], NUMBER_OF_LAG_TIMESTEPS, NUMBER_OF_FEATURES))"
   ]
  },
  {
   "cell_type": "markdown",
   "metadata": {},
   "source": [
    "## Network Architecture"
   ]
  },
  {
   "cell_type": "markdown",
   "metadata": {},
   "source": [
    "Here we are using an LSTM architecture for our neural network. This is the type of architecture usually used for problems involving time-series."
   ]
  },
  {
   "cell_type": "code",
   "execution_count": 20,
   "metadata": {},
   "outputs": [],
   "source": [
    "# design network\n",
    "model = Sequential()\n",
    "model.add(LSTM(NUMBER_OF_LSTM_NEURONS, input_shape=(train_X.shape[1], train_X.shape[2])))\n",
    "model.add(Dense(NUMBER_OF_LABELS))\n",
    "model.compile(loss='mae', optimizer='adam')"
   ]
  },
  {
   "cell_type": "markdown",
   "metadata": {},
   "source": [
    "## Fit the Model"
   ]
  },
  {
   "cell_type": "markdown",
   "metadata": {},
   "source": [
    "We print this output so that the caller program can get the results in a JSON object."
   ]
  },
  {
   "cell_type": "code",
   "execution_count": 21,
   "metadata": {},
   "outputs": [
    {
     "name": "stdout",
     "output_type": "stream",
     "text": [
      "{\n",
      "\"trainingOutput\": \"\n"
     ]
    }
   ],
   "source": [
    "print('{')\n",
    "print('\"trainingOutput\": \"')"
   ]
  },
  {
   "cell_type": "markdown",
   "metadata": {},
   "source": [
    "This is the actual process of training the neural network. "
   ]
  },
  {
   "cell_type": "code",
   "execution_count": 22,
   "metadata": {
    "scrolled": true
   },
   "outputs": [
    {
     "name": "stdout",
     "output_type": "stream",
     "text": [
      "Epoch 1/6\n",
      "210/210 - 3s - loss: 0.0148 - val_loss: 0.0205 - 3s/epoch - 15ms/step\n",
      "Epoch 2/6\n",
      "210/210 - 1s - loss: 0.0130 - val_loss: 0.0145 - 940ms/epoch - 4ms/step\n",
      "Epoch 3/6\n",
      "210/210 - 1s - loss: 0.0083 - val_loss: 0.0137 - 1s/epoch - 5ms/step\n",
      "Epoch 4/6\n",
      "210/210 - 1s - loss: 0.0077 - val_loss: 0.0131 - 998ms/epoch - 5ms/step\n",
      "Epoch 5/6\n",
      "210/210 - 1s - loss: 0.0067 - val_loss: 0.0130 - 981ms/epoch - 5ms/step\n",
      "Epoch 6/6\n",
      "210/210 - 1s - loss: 0.0059 - val_loss: 0.0130 - 969ms/epoch - 5ms/step\n"
     ]
    }
   ],
   "source": [
    "# fit network\n",
    "history = model.fit(\n",
    "    train_X, \n",
    "    train_y, \n",
    "    epochs=NUMBER_OF_EPOCHS, \n",
    "    batch_size=72, \n",
    "    validation_data=(test_X, test_y), \n",
    "    verbose=2, \n",
    "    shuffle=False\n",
    ")"
   ]
  },
  {
   "cell_type": "code",
   "execution_count": 23,
   "metadata": {},
   "outputs": [
    {
     "name": "stdout",
     "output_type": "stream",
     "text": [
      "\"\n"
     ]
    }
   ],
   "source": [
    "print('\"')"
   ]
  },
  {
   "cell_type": "markdown",
   "metadata": {},
   "source": [
    "## Plot Fitting History"
   ]
  },
  {
   "cell_type": "code",
   "execution_count": 24,
   "metadata": {},
   "outputs": [
    {
     "data": {
      "image/png": "[encoded data removed]",
      "text/plain": [
       "<Figure size 640x480 with 1 Axes>"
      ]
     },
     "metadata": {},
     "output_type": "display_data"
    }
   ],
   "source": [
    "# plot history\n",
    "pyplot.plot(history.history['loss'], label='train')\n",
    "pyplot.plot(history.history['val_loss'], label='test')\n",
    "pyplot.legend()\n",
    "pyplot.show()"
   ]
  },
  {
   "cell_type": "markdown",
   "metadata": {},
   "source": [
    "## Batch Prediction of all Test Records"
   ]
  },
  {
   "cell_type": "markdown",
   "metadata": {},
   "source": [
    "Here we take all Test Records and get a prediction for each one of them. "
   ]
  },
  {
   "cell_type": "code",
   "execution_count": 25,
   "metadata": {},
   "outputs": [],
   "source": [
    "# make a prediction\n",
    "yhat = model.predict(test_X)\n",
    "test_X = test_X.reshape((test_X.shape[0], NUMBER_OF_LAG_TIMESTEPS*NUMBER_OF_FEATURES))"
   ]
  },
  {
   "cell_type": "code",
   "execution_count": 26,
   "metadata": {},
   "outputs": [
    {
     "data": {
      "text/plain": [
       "array([[0.5813112 , 0.5822747 , 0.5818221 ],\n",
       "       [0.5874935 , 0.58818614, 0.58730996],\n",
       "       [0.5892688 , 0.5898529 , 0.58834314],\n",
       "       ...,\n",
       "       [0.542522  , 0.5444787 , 0.5419858 ],\n",
       "       [0.54336077, 0.5453075 , 0.54264975],\n",
       "       [0.5440616 , 0.5458615 , 0.5433442 ]], dtype=float32)"
      ]
     },
     "execution_count": 26,
     "metadata": {},
     "output_type": "execute_result"
    }
   ],
   "source": [
    "yhat"
   ]
  },
  {
   "cell_type": "markdown",
   "metadata": {},
   "source": [
    "## Reversing Normalization\n",
    "\n",
    "For inverting the scale (denormalize) of a test record, we need first to unframe the test_X values so as the get the original record. Since the label was the first colum of the record, we concatenate the prediction to the last columns of the framed record."
   ]
  },
  {
   "cell_type": "code",
   "execution_count": 27,
   "metadata": {},
   "outputs": [
    {
     "data": {
      "text/plain": [
       "array([[42040.63 , 41437.285, 41661.016],\n",
       "       [42438.703, 41819.574, 42015.004],\n",
       "       [42553.016, 41927.363, 42081.652],\n",
       "       ...,\n",
       "       [39542.99 , 38993.055, 39091.42 ],\n",
       "       [39596.996, 39046.652, 39134.25 ],\n",
       "       [39642.125, 39082.477, 39179.043]], dtype=float32)"
      ]
     },
     "execution_count": 27,
     "metadata": {},
     "output_type": "execute_result"
    }
   ],
   "source": [
    "# invert scaling for forecast\n",
    "inv_yhat = concatenate((yhat, test_X[:, -(NUMBER_OF_FEATURES - NUMBER_OF_LABELS):]), axis=1)\n",
    "inv_yhat = scaler.inverse_transform(inv_yhat)\n",
    "inv_yhat = inv_yhat[:,:NUMBER_OF_LABELS]\n",
    "inv_yhat"
   ]
  },
  {
   "cell_type": "code",
   "execution_count": 28,
   "metadata": {
    "scrolled": true
   },
   "outputs": [
    {
     "data": {
      "text/plain": [
       "array([[42420.75, 42000.  , 42028.42],\n",
       "       [42215.97, 41820.01, 42055.55],\n",
       "       [42220.  , 41840.  , 41890.01],\n",
       "       ...,\n",
       "       [39027.88, 38772.15, 38928.22],\n",
       "       [39241.51, 38912.97, 38992.78],\n",
       "       [39177.1 , 38943.18, 39088.2 ]], dtype=float32)"
      ]
     },
     "execution_count": 28,
     "metadata": {},
     "output_type": "execute_result"
    }
   ],
   "source": [
    "# invert scaling for actual\n",
    "inv_y = concatenate((test_y, test_X[:, -(NUMBER_OF_FEATURES - NUMBER_OF_LABELS):]), axis=1)\n",
    "inv_y = scaler.inverse_transform(inv_y)\n",
    "inv_y = inv_y[:,:NUMBER_OF_LABELS]\n",
    "inv_y"
   ]
  },
  {
   "cell_type": "markdown",
   "metadata": {},
   "source": [
    "## Error Calculations"
   ]
  },
  {
   "cell_type": "markdown",
   "metadata": {},
   "source": [
    "### Main Error Value"
   ]
  },
  {
   "cell_type": "code",
   "execution_count": 29,
   "metadata": {},
   "outputs": [],
   "source": [
    "# calculate RMSE\n",
    "rmse = sqrt(mean_squared_error(inv_y, inv_yhat))"
   ]
  },
  {
   "cell_type": "markdown",
   "metadata": {},
   "source": [
    "This is the main value we use to know how much error there is. We need this value to go as down as possible."
   ]
  },
  {
   "cell_type": "markdown",
   "metadata": {},
   "source": [
    "### Alternative Error Analisys"
   ]
  },
  {
   "cell_type": "code",
   "execution_count": 30,
   "metadata": {},
   "outputs": [
    {
     "data": {
      "text/plain": [
       "array([[-0.89, -1.33, -0.87],\n",
       "       [ 0.52,  0.  , -0.09],\n",
       "       [ 0.78,  0.2 ,  0.45],\n",
       "       ...,\n",
       "       [ 1.31,  0.56,  0.41],\n",
       "       [ 0.9 ,  0.34,  0.36],\n",
       "       [ 1.18,  0.35,  0.23]])"
      ]
     },
     "execution_count": 30,
     "metadata": {},
     "output_type": "execute_result"
    }
   ],
   "source": [
    "# my way to calculating Errors\n",
    "errors = (inv_yhat - inv_y) / inv_y * 10000\n",
    "errors = errors.astype('int') / 100\n",
    "errors"
   ]
  },
  {
   "cell_type": "markdown",
   "metadata": {},
   "source": [
    "### Plot of the % of Error of each Predicted Value "
   ]
  },
  {
   "cell_type": "code",
   "execution_count": 31,
   "metadata": {},
   "outputs": [
    {
     "data": {
      "image/png": "[encoded data removed]",
      "text/plain": [
       "<Figure size 640x480 with 1 Axes>"
      ]
     },
     "metadata": {},
     "output_type": "display_data"
    }
   ],
   "source": [
    "# plot errors\n",
    "pyplot.plot(errors)\n",
    "pyplot.show()"
   ]
  },
  {
   "cell_type": "markdown",
   "metadata": {},
   "source": [
    "### Dollar Difference Between Prediction and Actual Value"
   ]
  },
  {
   "cell_type": "markdown",
   "metadata": {},
   "source": [
    "In the context of the Test dataset, this is what we get if we substract the Actual Value to the Predicted Value."
   ]
  },
  {
   "cell_type": "code",
   "execution_count": 32,
   "metadata": {},
   "outputs": [
    {
     "data": {
      "text/plain": [
       "array([[-380, -562, -367],\n",
       "       [ 222,    0,  -40],\n",
       "       [ 333,   87,  191],\n",
       "       ...,\n",
       "       [ 515,  220,  163],\n",
       "       [ 355,  133,  141],\n",
       "       [ 465,  139,   90]])"
      ]
     },
     "execution_count": 32,
     "metadata": {},
     "output_type": "execute_result"
    }
   ],
   "source": [
    "diff = (inv_yhat - inv_y) \n",
    "diff = diff.astype('int')\n",
    "diff"
   ]
  },
  {
   "cell_type": "markdown",
   "metadata": {},
   "source": [
    "## Returning Predictions & Errors"
   ]
  },
  {
   "cell_type": "markdown",
   "metadata": {},
   "source": [
    "Here we are returning the predictions to the caller program. Only the last row of predictions are needed because they belong to the latest closed candle. "
   ]
  },
  {
   "cell_type": "code",
   "execution_count": 33,
   "metadata": {},
   "outputs": [
    {
     "name": "stdout",
     "output_type": "stream",
     "text": [
      ",\"predictions\": \" [39642.125 39082.477 39179.043] \"\n"
     ]
    }
   ],
   "source": [
    "print(',\"predictions\": \"', inv_yhat[-1], '\"' )"
   ]
  },
  {
   "cell_type": "code",
   "execution_count": 34,
   "metadata": {},
   "outputs": [
    {
     "name": "stdout",
     "output_type": "stream",
     "text": [
      ",\"actualValues\": \" [39177.1  38943.18 39088.2 ] \"\n"
     ]
    }
   ],
   "source": [
    "print(',\"actualValues\": \"', inv_y[-1], '\"' )"
   ]
  },
  {
   "cell_type": "code",
   "execution_count": 35,
   "metadata": {},
   "outputs": [
    {
     "name": "stdout",
     "output_type": "stream",
     "text": [
      ",\"difference\": \" [465 139  90] \"\n"
     ]
    }
   ],
   "source": [
    "print(',\"difference\": \"', diff[-1], '\"' )"
   ]
  },
  {
   "cell_type": "code",
   "execution_count": 36,
   "metadata": {},
   "outputs": [
    {
     "name": "stdout",
     "output_type": "stream",
     "text": [
      ",\"errorRMSE\": 1164.621\n",
      "}\n"
     ]
    }
   ],
   "source": [
    "print(',\"errorRMSE\": %.3f' % rmse)\n",
    "print('}')"
   ]
  },
  {
   "cell_type": "markdown",
   "metadata": {},
   "source": [
    "##### "
   ]
  },
  {
   "cell_type": "markdown",
   "metadata": {},
   "source": [
    "###### "
   ]
  }
 ],
 "metadata": {
  "colab": {
   "collapsed_sections": [],
   "name": "Copy of csv.ipynb",
   "provenance": [],
   "toc_visible": true
  },
  "kernelspec": {
   "display_name": "Python 3",
   "language": "python",
   "name": "python3"
  },
  "language_info": {
   "codemirror_mode": {
    "name": "ipython",
    "version": 3
   },
   "file_extension": ".py",
   "mimetype": "text/x-python",
   "name": "python",
   "nbconvert_exporter": "python",
   "pygments_lexer": "ipython3",
   "version": "3.8.10"
  }
 },
 "nbformat": 4,
 "nbformat_minor": 1
}
