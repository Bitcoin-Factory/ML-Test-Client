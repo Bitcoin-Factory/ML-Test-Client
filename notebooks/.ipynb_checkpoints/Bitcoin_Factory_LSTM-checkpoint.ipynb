{
 "cells": [
  {
   "cell_type": "markdown",
   "metadata": {
    "id": "DweYe9FcbMK_"
   },
   "source": [
    "##### Bitcoin Factory Machine Learning\n"
   ]
  },
  {
   "cell_type": "markdown",
   "metadata": {},
   "source": [
    "# Multivariate Time Series Forecasting with LSTMs in Keras"
   ]
  },
  {
   "cell_type": "markdown",
   "metadata": {
    "id": "sUtoed20cRJJ"
   },
   "source": [
    "## Time Series Forcasting - Multiple Lag Timesteps - Multiple Labels"
   ]
  },
  {
   "cell_type": "markdown",
   "metadata": {},
   "source": [
    "Based on Tutorial from https://machinelearningmastery.com/multivariate-time-series-forecasting-lstms-keras/"
   ]
  },
  {
   "cell_type": "markdown",
   "metadata": {},
   "source": [
    "# Strategy"
   ]
  },
  {
   "cell_type": "markdown",
   "metadata": {},
   "source": [
    "The strategy is to predict the Candle.Max and Candle.Min of a set of Crypto Assets at the highest timeframe possible, in order to use the prediction to pick the one with higher % of predicted increase in price to take a position in it before that happens."
   ]
  },
  {
   "cell_type": "markdown",
   "metadata": {},
   "source": [
    "# Code to Run"
   ]
  },
  {
   "cell_type": "markdown",
   "metadata": {},
   "source": [
    "## Libraries Used"
   ]
  },
  {
   "cell_type": "code",
   "execution_count": 1,
   "metadata": {},
   "outputs": [],
   "source": [
    "\n",
    "from math import sqrt\n",
    "from numpy import concatenate\n",
    "from matplotlib import pyplot\n",
    "from pandas import read_csv\n",
    "from pandas import DataFrame\n",
    "from pandas import concat\n",
    "from sklearn.preprocessing import MinMaxScaler\n",
    "from sklearn.preprocessing import LabelEncoder\n",
    "from sklearn.metrics import mean_squared_error\n",
    "from keras.models import Sequential\n",
    "from keras.layers import Dense\n",
    "from keras.layers import LSTM"
   ]
  },
  {
   "cell_type": "markdown",
   "metadata": {},
   "source": [
    "## Functions Used"
   ]
  },
  {
   "cell_type": "code",
   "execution_count": 2,
   "metadata": {},
   "outputs": [],
   "source": [
    "# convert series to supervised learning\n",
    "def series_to_supervised(data, n_in=1, n_out=1, dropnan=True):\n",
    "\tn_vars = 1 if type(data) is list else data.shape[1]\n",
    "\tdf = DataFrame(data)\n",
    "\tcols, names = list(), list()\n",
    "\t# input sequence (t-n, ... t-1)\n",
    "\tfor i in range(n_in, 0, -1):\n",
    "\t\tcols.append(df.shift(i))\n",
    "\t\tnames += [('var%d(t-%d)' % (j+1, i)) for j in range(n_vars)]\n",
    "\t# forecast sequence (t, t+1, ... t+n)\n",
    "\tfor i in range(0, n_out):\n",
    "\t\tcols.append(df.shift(-i))\n",
    "\t\tif i == 0:\n",
    "\t\t\tnames += [('var%d(t)' % (j+1)) for j in range(n_vars)]\n",
    "\t\telse:\n",
    "\t\t\tnames += [('var%d(t+%d)' % (j+1, i)) for j in range(n_vars)]\n",
    "\t# put it all together\n",
    "\tagg = concat(cols, axis=1)\n",
    "\tagg.columns = names\n",
    "\t# drop rows with NaN values\n",
    "\tif dropnan:\n",
    "\t\tagg.dropna(inplace=True)\n",
    "\treturn agg \n",
    " "
   ]
  },
  {
   "cell_type": "markdown",
   "metadata": {},
   "source": [
    "## Load the Parameters Dataset\n"
   ]
  },
  {
   "cell_type": "code",
   "execution_count": 3,
   "metadata": {},
   "outputs": [
    {
     "data": {
      "text/html": [
       "<div>\n",
       "<style scoped>\n",
       "    .dataframe tbody tr th:only-of-type {\n",
       "        vertical-align: middle;\n",
       "    }\n",
       "\n",
       "    .dataframe tbody tr th {\n",
       "        vertical-align: top;\n",
       "    }\n",
       "\n",
       "    .dataframe thead th {\n",
       "        text-align: right;\n",
       "    }\n",
       "</style>\n",
       "<table border=\"1\" class=\"dataframe\">\n",
       "  <thead>\n",
       "    <tr style=\"text-align: right;\">\n",
       "      <th></th>\n",
       "      <th>PARAMETER</th>\n",
       "      <th>VALUE</th>\n",
       "    </tr>\n",
       "  </thead>\n",
       "  <tbody>\n",
       "    <tr>\n",
       "      <th>0</th>\n",
       "      <td>LIST_OF_ASSETS</td>\n",
       "      <td>BTC</td>\n",
       "    </tr>\n",
       "    <tr>\n",
       "      <th>1</th>\n",
       "      <td>LIST_OF_TIMEFRAMES</td>\n",
       "      <td>01-hs</td>\n",
       "    </tr>\n",
       "    <tr>\n",
       "      <th>2</th>\n",
       "      <td>NUMBER_OF_INDICATORS_PROPERTIES</td>\n",
       "      <td>5</td>\n",
       "    </tr>\n",
       "    <tr>\n",
       "      <th>3</th>\n",
       "      <td>NUMBER_OF_LAG_TIMESTEPS</td>\n",
       "      <td>2</td>\n",
       "    </tr>\n",
       "    <tr>\n",
       "      <th>4</th>\n",
       "      <td>NUMBER_OF_ASSETS</td>\n",
       "      <td>1</td>\n",
       "    </tr>\n",
       "    <tr>\n",
       "      <th>5</th>\n",
       "      <td>NUMBER_OF_LABELS</td>\n",
       "      <td>2</td>\n",
       "    </tr>\n",
       "    <tr>\n",
       "      <th>6</th>\n",
       "      <td>PERCENTAGE_OF_DATASET_FOR_TRAINING</td>\n",
       "      <td>80</td>\n",
       "    </tr>\n",
       "    <tr>\n",
       "      <th>7</th>\n",
       "      <td>NUMBER_OF_FEATURES</td>\n",
       "      <td>15</td>\n",
       "    </tr>\n",
       "    <tr>\n",
       "      <th>8</th>\n",
       "      <td>NUMBER_OF_EPOCHS</td>\n",
       "      <td>600</td>\n",
       "    </tr>\n",
       "    <tr>\n",
       "      <th>9</th>\n",
       "      <td>NUMBER_OF_LSTM_NEURONS</td>\n",
       "      <td>50</td>\n",
       "    </tr>\n",
       "  </tbody>\n",
       "</table>\n",
       "</div>"
      ],
      "text/plain": [
       "                            PARAMETER  VALUE\n",
       "0                      LIST_OF_ASSETS    BTC\n",
       "1                  LIST_OF_TIMEFRAMES  01-hs\n",
       "2     NUMBER_OF_INDICATORS_PROPERTIES      5\n",
       "3             NUMBER_OF_LAG_TIMESTEPS      2\n",
       "4                    NUMBER_OF_ASSETS      1\n",
       "5                    NUMBER_OF_LABELS      2\n",
       "6  PERCENTAGE_OF_DATASET_FOR_TRAINING     80\n",
       "7                  NUMBER_OF_FEATURES     15\n",
       "8                    NUMBER_OF_EPOCHS    600\n",
       "9              NUMBER_OF_LSTM_NEURONS     50"
      ]
     },
     "execution_count": 3,
     "metadata": {},
     "output_type": "execute_result"
    }
   ],
   "source": [
    "parameters_dataset = read_csv(\n",
    "    '/tf/notebooks/parameters.csv', \n",
    "    header=0, \n",
    "    sep=' ', \n",
    "    skipinitialspace=True\n",
    ")\n",
    "\n",
    "parameters_dataset"
   ]
  },
  {
   "cell_type": "code",
   "execution_count": 4,
   "metadata": {},
   "outputs": [],
   "source": [
    "# number of indicator properties that are at the raw dataset. Each set of indicators properties might be at many assets or timeframes.\n",
    "NUMBER_OF_INDICATORS_PROPERTIES = int(parameters_dataset.values[2][1])\n",
    "\n",
    "# number of timesteps in the secuence that we are going to use to feed the model.\n",
    "NUMBER_OF_LAG_TIMESTEPS = int(parameters_dataset.values[3][1])\n",
    "\n",
    "# number of assets included at the raw dataset.\n",
    "NUMBER_OF_ASSETS = int(parameters_dataset.values[4][1])\n",
    "\n",
    "# number of things we are going to predict.\n",
    "NUMBER_OF_LABELS = int(parameters_dataset.values[5][1])\n",
    "\n",
    "# definition of how the raw dataset is going to be divided between a Traing Dataset and a Test Dataset.\n",
    "PERCENTAGE_OF_DATASET_FOR_TRAINING = int(parameters_dataset.values[6][1])\n",
    "\n",
    "NUMBER_OF_FEATURES = int(parameters_dataset.values[7][1])\n",
    "\n",
    "# hyper-parameters\n",
    "NUMBER_OF_EPOCHS = int(parameters_dataset.values[8][1])\n",
    "NUMBER_OF_LSTM_NEURONS = int(parameters_dataset.values[9][1])"
   ]
  },
  {
   "cell_type": "markdown",
   "metadata": {},
   "source": [
    "## Load the Time-Series Dataset"
   ]
  },
  {
   "cell_type": "code",
   "execution_count": 5,
   "metadata": {},
   "outputs": [
    {
     "data": {
      "text/html": [
       "<div>\n",
       "<style scoped>\n",
       "    .dataframe tbody tr th:only-of-type {\n",
       "        vertical-align: middle;\n",
       "    }\n",
       "\n",
       "    .dataframe tbody tr th {\n",
       "        vertical-align: top;\n",
       "    }\n",
       "\n",
       "    .dataframe thead th {\n",
       "        text-align: right;\n",
       "    }\n",
       "</style>\n",
       "<table border=\"1\" class=\"dataframe\">\n",
       "  <thead>\n",
       "    <tr style=\"text-align: right;\">\n",
       "      <th></th>\n",
       "      <th>BTC-candle.max-01-hs-1</th>\n",
       "      <th>BTC-candle.min-01-hs-1</th>\n",
       "      <th>BTC-candle.open-01-hs-1</th>\n",
       "      <th>BTC-candle.close-01-hs-1</th>\n",
       "      <th>BTC-volume.total-01-hs-1</th>\n",
       "    </tr>\n",
       "    <tr>\n",
       "      <th>Timestamp</th>\n",
       "      <th></th>\n",
       "      <th></th>\n",
       "      <th></th>\n",
       "      <th></th>\n",
       "      <th></th>\n",
       "    </tr>\n",
       "  </thead>\n",
       "  <tbody>\n",
       "    <tr>\n",
       "      <th>1502942400000</th>\n",
       "      <td>4313.62</td>\n",
       "      <td>4261.32</td>\n",
       "      <td>4261.48</td>\n",
       "      <td>4308.83</td>\n",
       "      <td>47.181009</td>\n",
       "    </tr>\n",
       "    <tr>\n",
       "      <th>1502946000000</th>\n",
       "      <td>4328.69</td>\n",
       "      <td>4291.37</td>\n",
       "      <td>4308.83</td>\n",
       "      <td>4315.32</td>\n",
       "      <td>23.234916</td>\n",
       "    </tr>\n",
       "    <tr>\n",
       "      <th>1502949600000</th>\n",
       "      <td>4345.45</td>\n",
       "      <td>4309.37</td>\n",
       "      <td>4315.32</td>\n",
       "      <td>4324.35</td>\n",
       "      <td>7.229691</td>\n",
       "    </tr>\n",
       "    <tr>\n",
       "      <th>1502953200000</th>\n",
       "      <td>4349.99</td>\n",
       "      <td>4287.41</td>\n",
       "      <td>4324.35</td>\n",
       "      <td>4349.99</td>\n",
       "      <td>4.443249</td>\n",
       "    </tr>\n",
       "    <tr>\n",
       "      <th>1502956800000</th>\n",
       "      <td>4377.85</td>\n",
       "      <td>4333.32</td>\n",
       "      <td>4333.32</td>\n",
       "      <td>4360.69</td>\n",
       "      <td>0.972807</td>\n",
       "    </tr>\n",
       "    <tr>\n",
       "      <th>...</th>\n",
       "      <td>...</td>\n",
       "      <td>...</td>\n",
       "      <td>...</td>\n",
       "      <td>...</td>\n",
       "      <td>...</td>\n",
       "    </tr>\n",
       "    <tr>\n",
       "      <th>1646625600000</th>\n",
       "      <td>37973.27</td>\n",
       "      <td>37760.08</td>\n",
       "      <td>37869.46</td>\n",
       "      <td>37930.18</td>\n",
       "      <td>1201.274570</td>\n",
       "    </tr>\n",
       "    <tr>\n",
       "      <th>1646629200000</th>\n",
       "      <td>38247.48</td>\n",
       "      <td>37809.41</td>\n",
       "      <td>37930.18</td>\n",
       "      <td>38024.18</td>\n",
       "      <td>1522.795600</td>\n",
       "    </tr>\n",
       "    <tr>\n",
       "      <th>1646632800000</th>\n",
       "      <td>38214.16</td>\n",
       "      <td>37988.65</td>\n",
       "      <td>38024.19</td>\n",
       "      <td>38162.47</td>\n",
       "      <td>1251.680810</td>\n",
       "    </tr>\n",
       "    <tr>\n",
       "      <th>1646636400000</th>\n",
       "      <td>38210.34</td>\n",
       "      <td>37787.42</td>\n",
       "      <td>38162.47</td>\n",
       "      <td>37895.24</td>\n",
       "      <td>1561.524900</td>\n",
       "    </tr>\n",
       "    <tr>\n",
       "      <th>1646640000000</th>\n",
       "      <td>38058.07</td>\n",
       "      <td>37649.46</td>\n",
       "      <td>37895.24</td>\n",
       "      <td>37883.13</td>\n",
       "      <td>1581.664260</td>\n",
       "    </tr>\n",
       "  </tbody>\n",
       "</table>\n",
       "<p>39917 rows × 5 columns</p>\n",
       "</div>"
      ],
      "text/plain": [
       "               BTC-candle.max-01-hs-1  BTC-candle.min-01-hs-1  \\\n",
       "Timestamp                                                       \n",
       "1502942400000                 4313.62                 4261.32   \n",
       "1502946000000                 4328.69                 4291.37   \n",
       "1502949600000                 4345.45                 4309.37   \n",
       "1502953200000                 4349.99                 4287.41   \n",
       "1502956800000                 4377.85                 4333.32   \n",
       "...                               ...                     ...   \n",
       "1646625600000                37973.27                37760.08   \n",
       "1646629200000                38247.48                37809.41   \n",
       "1646632800000                38214.16                37988.65   \n",
       "1646636400000                38210.34                37787.42   \n",
       "1646640000000                38058.07                37649.46   \n",
       "\n",
       "               BTC-candle.open-01-hs-1  BTC-candle.close-01-hs-1  \\\n",
       "Timestamp                                                          \n",
       "1502942400000                  4261.48                   4308.83   \n",
       "1502946000000                  4308.83                   4315.32   \n",
       "1502949600000                  4315.32                   4324.35   \n",
       "1502953200000                  4324.35                   4349.99   \n",
       "1502956800000                  4333.32                   4360.69   \n",
       "...                                ...                       ...   \n",
       "1646625600000                 37869.46                  37930.18   \n",
       "1646629200000                 37930.18                  38024.18   \n",
       "1646632800000                 38024.19                  38162.47   \n",
       "1646636400000                 38162.47                  37895.24   \n",
       "1646640000000                 37895.24                  37883.13   \n",
       "\n",
       "               BTC-volume.total-01-hs-1  \n",
       "Timestamp                                \n",
       "1502942400000                 47.181009  \n",
       "1502946000000                 23.234916  \n",
       "1502949600000                  7.229691  \n",
       "1502953200000                  4.443249  \n",
       "1502956800000                  0.972807  \n",
       "...                                 ...  \n",
       "1646625600000               1201.274570  \n",
       "1646629200000               1522.795600  \n",
       "1646632800000               1251.680810  \n",
       "1646636400000               1561.524900  \n",
       "1646640000000               1581.664260  \n",
       "\n",
       "[39917 rows x 5 columns]"
      ]
     },
     "execution_count": 5,
     "metadata": {},
     "output_type": "execute_result"
    }
   ],
   "source": [
    "timeseries_dataset = read_csv(\n",
    "    '/tf/notebooks/time-series.csv', \n",
    "    header=0, \n",
    "    index_col=0,    #The first colum is a timestamp that will be used to index all the data.\n",
    "    sep=' ', \n",
    "    skipinitialspace=True\n",
    ")\n",
    "\n",
    "timeseries_dataset"
   ]
  },
  {
   "cell_type": "code",
   "execution_count": 6,
   "metadata": {},
   "outputs": [],
   "source": [
    "values = timeseries_dataset.values"
   ]
  },
  {
   "cell_type": "code",
   "execution_count": 7,
   "metadata": {},
   "outputs": [],
   "source": [
    "# ensure all data is float\n",
    "values = values.astype('float32')"
   ]
  },
  {
   "cell_type": "markdown",
   "metadata": {},
   "source": [
    "## Plot & Verify"
   ]
  },
  {
   "cell_type": "markdown",
   "metadata": {},
   "source": [
    "We plot our raw data just to be sure with a glimpse that it is alright."
   ]
  },
  {
   "cell_type": "code",
   "execution_count": 8,
   "metadata": {},
   "outputs": [
    {
     "data": {
      "image/png": "[encoded data removed]",
      "text/plain": [
       "<Figure size 640x480 with 2 Axes>"
      ]
     },
     "metadata": {},
     "output_type": "display_data"
    }
   ],
   "source": [
    "# specify columns to plot\n",
    "groups = [0, 2]\n",
    "i = 1\n",
    "# plot each column\n",
    "pyplot.figure()\n",
    "for group in groups:\n",
    "\tpyplot.subplot(len(groups), 1, i)\n",
    "\tpyplot.plot(values[:, group])\n",
    "\tpyplot.title(timeseries_dataset.columns[group], y=0.5, loc='right')\n",
    "\ti += 1\n",
    "pyplot.show()"
   ]
  },
  {
   "cell_type": "markdown",
   "metadata": {},
   "source": [
    "## Normalization"
   ]
  },
  {
   "cell_type": "markdown",
   "metadata": {},
   "source": [
    "Normalizing or removing the scale, is a standar prodcedure of any machine learning workflow. "
   ]
  },
  {
   "cell_type": "code",
   "execution_count": 9,
   "metadata": {},
   "outputs": [],
   "source": [
    "# normalize features\n",
    "scaler = MinMaxScaler(feature_range=(0, 1))\n",
    "scaled = scaler.fit_transform(values)"
   ]
  },
  {
   "cell_type": "markdown",
   "metadata": {},
   "source": [
    "## Reframing as a Supervised Learning Problem"
   ]
  },
  {
   "cell_type": "markdown",
   "metadata": {},
   "source": [
    "Each Raw record needs to be expanded with the previous records in order to be suitable for beeing fed into a LSTM model. Some fields of the record at time = 0 will be used as labels and the ones at time < 0 as features."
   ]
  },
  {
   "cell_type": "code",
   "execution_count": 10,
   "metadata": {},
   "outputs": [],
   "source": [
    "# frame as supervised learning\n",
    "reframed = series_to_supervised(scaled, NUMBER_OF_LAG_TIMESTEPS, 1)"
   ]
  },
  {
   "cell_type": "code",
   "execution_count": 11,
   "metadata": {},
   "outputs": [
    {
     "data": {
      "text/html": [
       "<div>\n",
       "<style scoped>\n",
       "    .dataframe tbody tr th:only-of-type {\n",
       "        vertical-align: middle;\n",
       "    }\n",
       "\n",
       "    .dataframe tbody tr th {\n",
       "        vertical-align: top;\n",
       "    }\n",
       "\n",
       "    .dataframe thead th {\n",
       "        text-align: right;\n",
       "    }\n",
       "</style>\n",
       "<table border=\"1\" class=\"dataframe\">\n",
       "  <thead>\n",
       "    <tr style=\"text-align: right;\">\n",
       "      <th></th>\n",
       "      <th>var1(t-2)</th>\n",
       "      <th>var2(t-2)</th>\n",
       "      <th>var3(t-2)</th>\n",
       "      <th>var4(t-2)</th>\n",
       "      <th>var5(t-2)</th>\n",
       "      <th>var1(t-1)</th>\n",
       "      <th>var2(t-1)</th>\n",
       "      <th>var3(t-1)</th>\n",
       "      <th>var4(t-1)</th>\n",
       "      <th>var5(t-1)</th>\n",
       "      <th>var1(t)</th>\n",
       "      <th>var2(t)</th>\n",
       "      <th>var3(t)</th>\n",
       "      <th>var4(t)</th>\n",
       "      <th>var5(t)</th>\n",
       "    </tr>\n",
       "  </thead>\n",
       "  <tbody>\n",
       "    <tr>\n",
       "      <th>2</th>\n",
       "      <td>0.020645</td>\n",
       "      <td>0.022006</td>\n",
       "      <td>0.021145</td>\n",
       "      <td>0.021149</td>\n",
       "      <td>0.000998</td>\n",
       "      <td>0.020873</td>\n",
       "      <td>0.022463</td>\n",
       "      <td>0.021865</td>\n",
       "      <td>0.021248</td>\n",
       "      <td>0.000492</td>\n",
       "      <td>0.021127</td>\n",
       "      <td>0.022738</td>\n",
       "      <td>0.021964</td>\n",
       "      <td>0.021386</td>\n",
       "      <td>0.000153</td>\n",
       "    </tr>\n",
       "    <tr>\n",
       "      <th>3</th>\n",
       "      <td>0.020873</td>\n",
       "      <td>0.022463</td>\n",
       "      <td>0.021865</td>\n",
       "      <td>0.021248</td>\n",
       "      <td>0.000492</td>\n",
       "      <td>0.021127</td>\n",
       "      <td>0.022738</td>\n",
       "      <td>0.021964</td>\n",
       "      <td>0.021386</td>\n",
       "      <td>0.000153</td>\n",
       "      <td>0.021196</td>\n",
       "      <td>0.022403</td>\n",
       "      <td>0.022101</td>\n",
       "      <td>0.021776</td>\n",
       "      <td>0.000094</td>\n",
       "    </tr>\n",
       "    <tr>\n",
       "      <th>4</th>\n",
       "      <td>0.021127</td>\n",
       "      <td>0.022738</td>\n",
       "      <td>0.021964</td>\n",
       "      <td>0.021386</td>\n",
       "      <td>0.000153</td>\n",
       "      <td>0.021196</td>\n",
       "      <td>0.022403</td>\n",
       "      <td>0.022101</td>\n",
       "      <td>0.021776</td>\n",
       "      <td>0.000094</td>\n",
       "      <td>0.021618</td>\n",
       "      <td>0.023103</td>\n",
       "      <td>0.022237</td>\n",
       "      <td>0.021939</td>\n",
       "      <td>0.000021</td>\n",
       "    </tr>\n",
       "    <tr>\n",
       "      <th>5</th>\n",
       "      <td>0.021196</td>\n",
       "      <td>0.022403</td>\n",
       "      <td>0.022101</td>\n",
       "      <td>0.021776</td>\n",
       "      <td>0.000094</td>\n",
       "      <td>0.021618</td>\n",
       "      <td>0.023103</td>\n",
       "      <td>0.022237</td>\n",
       "      <td>0.021939</td>\n",
       "      <td>0.000021</td>\n",
       "      <td>0.022646</td>\n",
       "      <td>0.023509</td>\n",
       "      <td>0.022654</td>\n",
       "      <td>0.023206</td>\n",
       "      <td>0.000228</td>\n",
       "    </tr>\n",
       "    <tr>\n",
       "      <th>6</th>\n",
       "      <td>0.021618</td>\n",
       "      <td>0.023103</td>\n",
       "      <td>0.022237</td>\n",
       "      <td>0.021939</td>\n",
       "      <td>0.000021</td>\n",
       "      <td>0.022646</td>\n",
       "      <td>0.023509</td>\n",
       "      <td>0.022654</td>\n",
       "      <td>0.023206</td>\n",
       "      <td>0.000228</td>\n",
       "      <td>0.023013</td>\n",
       "      <td>0.024116</td>\n",
       "      <td>0.023876</td>\n",
       "      <td>0.023450</td>\n",
       "      <td>0.000526</td>\n",
       "    </tr>\n",
       "    <tr>\n",
       "      <th>...</th>\n",
       "      <td>...</td>\n",
       "      <td>...</td>\n",
       "      <td>...</td>\n",
       "      <td>...</td>\n",
       "      <td>...</td>\n",
       "      <td>...</td>\n",
       "      <td>...</td>\n",
       "      <td>...</td>\n",
       "      <td>...</td>\n",
       "      <td>...</td>\n",
       "      <td>...</td>\n",
       "      <td>...</td>\n",
       "      <td>...</td>\n",
       "      <td>...</td>\n",
       "      <td>...</td>\n",
       "    </tr>\n",
       "    <tr>\n",
       "      <th>39912</th>\n",
       "      <td>0.536294</td>\n",
       "      <td>0.529711</td>\n",
       "      <td>0.539104</td>\n",
       "      <td>0.530557</td>\n",
       "      <td>0.084519</td>\n",
       "      <td>0.530237</td>\n",
       "      <td>0.529618</td>\n",
       "      <td>0.530888</td>\n",
       "      <td>0.531851</td>\n",
       "      <td>0.049779</td>\n",
       "      <td>0.530254</td>\n",
       "      <td>0.532391</td>\n",
       "      <td>0.532182</td>\n",
       "      <td>0.532776</td>\n",
       "      <td>0.025421</td>\n",
       "    </tr>\n",
       "    <tr>\n",
       "      <th>39913</th>\n",
       "      <td>0.530237</td>\n",
       "      <td>0.529618</td>\n",
       "      <td>0.530888</td>\n",
       "      <td>0.531851</td>\n",
       "      <td>0.049779</td>\n",
       "      <td>0.530254</td>\n",
       "      <td>0.532391</td>\n",
       "      <td>0.532182</td>\n",
       "      <td>0.532776</td>\n",
       "      <td>0.025421</td>\n",
       "      <td>0.534405</td>\n",
       "      <td>0.533143</td>\n",
       "      <td>0.533106</td>\n",
       "      <td>0.534206</td>\n",
       "      <td>0.032225</td>\n",
       "    </tr>\n",
       "    <tr>\n",
       "      <th>39914</th>\n",
       "      <td>0.530254</td>\n",
       "      <td>0.532391</td>\n",
       "      <td>0.532182</td>\n",
       "      <td>0.532776</td>\n",
       "      <td>0.025421</td>\n",
       "      <td>0.534405</td>\n",
       "      <td>0.533143</td>\n",
       "      <td>0.533106</td>\n",
       "      <td>0.534206</td>\n",
       "      <td>0.032225</td>\n",
       "      <td>0.533901</td>\n",
       "      <td>0.535874</td>\n",
       "      <td>0.534535</td>\n",
       "      <td>0.536310</td>\n",
       "      <td>0.026487</td>\n",
       "    </tr>\n",
       "    <tr>\n",
       "      <th>39915</th>\n",
       "      <td>0.534405</td>\n",
       "      <td>0.533143</td>\n",
       "      <td>0.533106</td>\n",
       "      <td>0.534206</td>\n",
       "      <td>0.032225</td>\n",
       "      <td>0.533901</td>\n",
       "      <td>0.535874</td>\n",
       "      <td>0.534535</td>\n",
       "      <td>0.536310</td>\n",
       "      <td>0.026487</td>\n",
       "      <td>0.533843</td>\n",
       "      <td>0.532808</td>\n",
       "      <td>0.536638</td>\n",
       "      <td>0.532244</td>\n",
       "      <td>0.033044</td>\n",
       "    </tr>\n",
       "    <tr>\n",
       "      <th>39916</th>\n",
       "      <td>0.533901</td>\n",
       "      <td>0.535874</td>\n",
       "      <td>0.534535</td>\n",
       "      <td>0.536310</td>\n",
       "      <td>0.026487</td>\n",
       "      <td>0.533843</td>\n",
       "      <td>0.532808</td>\n",
       "      <td>0.536638</td>\n",
       "      <td>0.532244</td>\n",
       "      <td>0.033044</td>\n",
       "      <td>0.531538</td>\n",
       "      <td>0.530706</td>\n",
       "      <td>0.532574</td>\n",
       "      <td>0.532060</td>\n",
       "      <td>0.033470</td>\n",
       "    </tr>\n",
       "  </tbody>\n",
       "</table>\n",
       "<p>39915 rows × 15 columns</p>\n",
       "</div>"
      ],
      "text/plain": [
       "       var1(t-2)  var2(t-2)  var3(t-2)  var4(t-2)  var5(t-2)  var1(t-1)  \\\n",
       "2       0.020645   0.022006   0.021145   0.021149   0.000998   0.020873   \n",
       "3       0.020873   0.022463   0.021865   0.021248   0.000492   0.021127   \n",
       "4       0.021127   0.022738   0.021964   0.021386   0.000153   0.021196   \n",
       "5       0.021196   0.022403   0.022101   0.021776   0.000094   0.021618   \n",
       "6       0.021618   0.023103   0.022237   0.021939   0.000021   0.022646   \n",
       "...          ...        ...        ...        ...        ...        ...   \n",
       "39912   0.536294   0.529711   0.539104   0.530557   0.084519   0.530237   \n",
       "39913   0.530237   0.529618   0.530888   0.531851   0.049779   0.530254   \n",
       "39914   0.530254   0.532391   0.532182   0.532776   0.025421   0.534405   \n",
       "39915   0.534405   0.533143   0.533106   0.534206   0.032225   0.533901   \n",
       "39916   0.533901   0.535874   0.534535   0.536310   0.026487   0.533843   \n",
       "\n",
       "       var2(t-1)  var3(t-1)  var4(t-1)  var5(t-1)   var1(t)   var2(t)  \\\n",
       "2       0.022463   0.021865   0.021248   0.000492  0.021127  0.022738   \n",
       "3       0.022738   0.021964   0.021386   0.000153  0.021196  0.022403   \n",
       "4       0.022403   0.022101   0.021776   0.000094  0.021618  0.023103   \n",
       "5       0.023103   0.022237   0.021939   0.000021  0.022646  0.023509   \n",
       "6       0.023509   0.022654   0.023206   0.000228  0.023013  0.024116   \n",
       "...          ...        ...        ...        ...       ...       ...   \n",
       "39912   0.529618   0.530888   0.531851   0.049779  0.530254  0.532391   \n",
       "39913   0.532391   0.532182   0.532776   0.025421  0.534405  0.533143   \n",
       "39914   0.533143   0.533106   0.534206   0.032225  0.533901  0.535874   \n",
       "39915   0.535874   0.534535   0.536310   0.026487  0.533843  0.532808   \n",
       "39916   0.532808   0.536638   0.532244   0.033044  0.531538  0.530706   \n",
       "\n",
       "        var3(t)   var4(t)   var5(t)  \n",
       "2      0.021964  0.021386  0.000153  \n",
       "3      0.022101  0.021776  0.000094  \n",
       "4      0.022237  0.021939  0.000021  \n",
       "5      0.022654  0.023206  0.000228  \n",
       "6      0.023876  0.023450  0.000526  \n",
       "...         ...       ...       ...  \n",
       "39912  0.532182  0.532776  0.025421  \n",
       "39913  0.533106  0.534206  0.032225  \n",
       "39914  0.534535  0.536310  0.026487  \n",
       "39915  0.536638  0.532244  0.033044  \n",
       "39916  0.532574  0.532060  0.033470  \n",
       "\n",
       "[39915 rows x 15 columns]"
      ]
     },
     "execution_count": 11,
     "metadata": {},
     "output_type": "execute_result"
    }
   ],
   "source": [
    "reframed"
   ]
  },
  {
   "cell_type": "markdown",
   "metadata": {},
   "source": [
    "## Train and Test Dataset Preparation"
   ]
  },
  {
   "cell_type": "markdown",
   "metadata": {},
   "source": [
    "The first part of the dataset will be used to train the model. The last part for calculating the prediction error. Later we will generate the predictions for the test dataset and measure how accurate they were."
   ]
  },
  {
   "cell_type": "code",
   "execution_count": 12,
   "metadata": {},
   "outputs": [
    {
     "data": {
      "text/plain": [
       "31932"
      ]
     },
     "execution_count": 12,
     "metadata": {},
     "output_type": "execute_result"
    }
   ],
   "source": [
    "# get values from reframed dataset\n",
    "values = reframed.values\n",
    "record_count = len(values)\n",
    "records_for_training = int(record_count * PERCENTAGE_OF_DATASET_FOR_TRAINING / 100)\n",
    "records_for_training"
   ]
  },
  {
   "cell_type": "code",
   "execution_count": 13,
   "metadata": {},
   "outputs": [],
   "source": [
    "# split into train and test sets\n",
    "train = values[:records_for_training, :]\n",
    "test = values[records_for_training:, :]"
   ]
  },
  {
   "cell_type": "code",
   "execution_count": 14,
   "metadata": {},
   "outputs": [
    {
     "data": {
      "text/plain": [
       "(31932, 15)"
      ]
     },
     "execution_count": 14,
     "metadata": {},
     "output_type": "execute_result"
    }
   ],
   "source": [
    "train.shape"
   ]
  },
  {
   "cell_type": "code",
   "execution_count": 15,
   "metadata": {},
   "outputs": [
    {
     "data": {
      "text/plain": [
       "(7983, 15)"
      ]
     },
     "execution_count": 15,
     "metadata": {},
     "output_type": "execute_result"
    }
   ],
   "source": [
    "test.shape"
   ]
  },
  {
   "cell_type": "markdown",
   "metadata": {},
   "source": [
    "## Split into Input and Outputs"
   ]
  },
  {
   "cell_type": "markdown",
   "metadata": {},
   "source": [
    "Here we will split both the Train and the Test datasets into features and labels. \n",
    "Features will be all the information where time < 0. For the labels, we will pick only the first 2 fields of each set of indicator properties, which we expect them to contain the Candle Max and Candle Min for each Asset."
   ]
  },
  {
   "cell_type": "code",
   "execution_count": 16,
   "metadata": {},
   "outputs": [],
   "source": [
    "# split into input and outputs\n",
    "n_obs = NUMBER_OF_LAG_TIMESTEPS * NUMBER_OF_FEATURES\n",
    "\n",
    "train_X = train[:, :n_obs]\n",
    "train_y = train[:, -NUMBER_OF_FEATURES:-(NUMBER_OF_FEATURES-NUMBER_OF_LABELS)]\n",
    "\n",
    "test_X = test[:, :n_obs]\n",
    "test_y = test[:, -NUMBER_OF_FEATURES:-(NUMBER_OF_FEATURES-NUMBER_OF_LABELS)]"
   ]
  },
  {
   "cell_type": "code",
   "execution_count": 17,
   "metadata": {},
   "outputs": [
    {
     "data": {
      "text/plain": [
       "array([[2.0645272e-02, 2.2005606e-02, 2.1144930e-02, ..., 2.1963615e-02,\n",
       "        2.1385629e-02, 1.5299067e-04],\n",
       "       [2.0873431e-02, 2.2463445e-02, 2.1864932e-02, ..., 2.2100929e-02,\n",
       "        2.1775808e-02, 9.4025556e-05],\n",
       "       [2.1127176e-02, 2.2737693e-02, 2.1963615e-02, ..., 2.2237319e-02,\n",
       "        2.1938626e-02, 2.0585998e-05],\n",
       "       ...,\n",
       "       [8.2907891e-01, 8.2944292e-01, 8.3025664e-01, ..., 8.3354557e-01,\n",
       "        8.3465552e-01, 4.0088732e-02],\n",
       "       [8.3212745e-01, 8.3087695e-01, 8.2973737e-01, ..., 8.3477157e-01,\n",
       "        8.3396071e-01, 4.7053169e-02],\n",
       "       [8.3194548e-01, 8.3390421e-01, 8.3354557e-01, ..., 8.3406585e-01,\n",
       "        8.3436584e-01, 2.7096994e-02]], dtype=float32)"
      ]
     },
     "execution_count": 17,
     "metadata": {},
     "output_type": "execute_result"
    }
   ],
   "source": [
    "train_X"
   ]
  },
  {
   "cell_type": "code",
   "execution_count": 18,
   "metadata": {},
   "outputs": [
    {
     "data": {
      "text/plain": [
       "array([[0.02064527, 0.02200561],\n",
       "       [0.02087343, 0.02246344],\n",
       "       [0.02112718, 0.02273769],\n",
       "       ...,\n",
       "       [0.8290789 , 0.8294429 ],\n",
       "       [0.83212745, 0.83087695],\n",
       "       [0.8319455 , 0.8339042 ]], dtype=float32)"
      ]
     },
     "execution_count": 18,
     "metadata": {},
     "output_type": "execute_result"
    }
   ],
   "source": [
    "train_y"
   ]
  },
  {
   "cell_type": "markdown",
   "metadata": {},
   "source": [
    "## Reshape Inputs to fit LSTM type of Network"
   ]
  },
  {
   "cell_type": "markdown",
   "metadata": {},
   "source": [
    "This type of Network Architecture requires the features to be in a 3D shape."
   ]
  },
  {
   "cell_type": "code",
   "execution_count": 19,
   "metadata": {},
   "outputs": [
    {
     "ename": "ValueError",
     "evalue": "cannot reshape array of size 478980 into shape (31932,2,15)",
     "output_type": "error",
     "traceback": [
      "\u001b[0;31m---------------------------------------------------------------------------\u001b[0m",
      "\u001b[0;31mValueError\u001b[0m                                Traceback (most recent call last)",
      "Input \u001b[0;32mIn [19]\u001b[0m, in \u001b[0;36m<module>\u001b[0;34m\u001b[0m\n\u001b[1;32m      1\u001b[0m \u001b[38;5;66;03m# reshape input to be 3D [samples, timesteps, features]\u001b[39;00m\n\u001b[0;32m----> 2\u001b[0m train_X \u001b[38;5;241m=\u001b[39m \u001b[43mtrain_X\u001b[49m\u001b[38;5;241;43m.\u001b[39;49m\u001b[43mreshape\u001b[49m\u001b[43m(\u001b[49m\u001b[43m(\u001b[49m\u001b[43mtrain_X\u001b[49m\u001b[38;5;241;43m.\u001b[39;49m\u001b[43mshape\u001b[49m\u001b[43m[\u001b[49m\u001b[38;5;241;43m0\u001b[39;49m\u001b[43m]\u001b[49m\u001b[43m,\u001b[49m\u001b[43m \u001b[49m\u001b[43mNUMBER_OF_LAG_TIMESTEPS\u001b[49m\u001b[43m,\u001b[49m\u001b[43m \u001b[49m\u001b[43mNUMBER_OF_FEATURES\u001b[49m\u001b[43m)\u001b[49m\u001b[43m)\u001b[49m\n\u001b[1;32m      3\u001b[0m test_X \u001b[38;5;241m=\u001b[39m test_X\u001b[38;5;241m.\u001b[39mreshape((test_X\u001b[38;5;241m.\u001b[39mshape[\u001b[38;5;241m0\u001b[39m], NUMBER_OF_LAG_TIMESTEPS, NUMBER_OF_FEATURES))\n",
      "\u001b[0;31mValueError\u001b[0m: cannot reshape array of size 478980 into shape (31932,2,15)"
     ]
    }
   ],
   "source": [
    "# reshape input to be 3D [samples, timesteps, features]\n",
    "train_X = train_X.reshape((train_X.shape[0], NUMBER_OF_LAG_TIMESTEPS, NUMBER_OF_FEATURES))\n",
    "test_X = test_X.reshape((test_X.shape[0], NUMBER_OF_LAG_TIMESTEPS, NUMBER_OF_FEATURES))"
   ]
  },
  {
   "cell_type": "markdown",
   "metadata": {},
   "source": [
    "## Network Architecture"
   ]
  },
  {
   "cell_type": "markdown",
   "metadata": {},
   "source": [
    "Here we are using an LSTM architecture for our neural network. This is the type of architecture usually used for problems involving time-series."
   ]
  },
  {
   "cell_type": "code",
   "execution_count": null,
   "metadata": {},
   "outputs": [],
   "source": [
    "# design network\n",
    "model = Sequential()\n",
    "model.add(LSTM(NUMBER_OF_LSTM_NEURONS, input_shape=(train_X.shape[1], train_X.shape[2])))\n",
    "model.add(Dense(NUMBER_OF_LABELS))\n",
    "model.compile(loss='mae', optimizer='adam')"
   ]
  },
  {
   "cell_type": "markdown",
   "metadata": {},
   "source": [
    "## Fit the Model"
   ]
  },
  {
   "cell_type": "markdown",
   "metadata": {},
   "source": [
    "We print this output so that the caller program can get the results in a JSON object."
   ]
  },
  {
   "cell_type": "code",
   "execution_count": null,
   "metadata": {},
   "outputs": [],
   "source": [
    "print('{')\n",
    "print('\"trainingOutput\": \"')"
   ]
  },
  {
   "cell_type": "markdown",
   "metadata": {},
   "source": [
    "This is the actual process of training the neural network. "
   ]
  },
  {
   "cell_type": "code",
   "execution_count": null,
   "metadata": {
    "scrolled": true
   },
   "outputs": [],
   "source": [
    "# fit network\n",
    "history = model.fit(\n",
    "    train_X, \n",
    "    train_y, \n",
    "    epochs=NUMBER_OF_EPOCHS, \n",
    "    batch_size=72, \n",
    "    validation_data=(test_X, test_y), \n",
    "    verbose=2, \n",
    "    shuffle=False\n",
    ")"
   ]
  },
  {
   "cell_type": "code",
   "execution_count": null,
   "metadata": {},
   "outputs": [],
   "source": [
    "print('\"')"
   ]
  },
  {
   "cell_type": "markdown",
   "metadata": {},
   "source": [
    "## Plot Fitting History"
   ]
  },
  {
   "cell_type": "code",
   "execution_count": null,
   "metadata": {},
   "outputs": [],
   "source": [
    "# plot history\n",
    "pyplot.plot(history.history['loss'], label='train')\n",
    "pyplot.plot(history.history['val_loss'], label='test')\n",
    "pyplot.legend()\n",
    "pyplot.show()"
   ]
  },
  {
   "cell_type": "markdown",
   "metadata": {},
   "source": [
    "## Batch Prediction of all Test Records"
   ]
  },
  {
   "cell_type": "markdown",
   "metadata": {},
   "source": [
    "Here we take all Test Records and get a prediction for each one of them. "
   ]
  },
  {
   "cell_type": "code",
   "execution_count": null,
   "metadata": {},
   "outputs": [],
   "source": [
    "# make a prediction\n",
    "yhat = model.predict(test_X)\n",
    "test_X = test_X.reshape((test_X.shape[0], NUMBER_OF_LAG_TIMESTEPS*NUMBER_OF_FEATURES))"
   ]
  },
  {
   "cell_type": "code",
   "execution_count": null,
   "metadata": {},
   "outputs": [],
   "source": [
    "yhat"
   ]
  },
  {
   "cell_type": "markdown",
   "metadata": {},
   "source": [
    "## Reversing Normalization\n",
    "\n",
    "For inverting the scale (denormalize) of a test record, we need first to unframe the test_X values so as the get the original record. Since the label was the first colum of the record, we concatenate the prediction to the last columns of the framed record."
   ]
  },
  {
   "cell_type": "code",
   "execution_count": null,
   "metadata": {},
   "outputs": [],
   "source": [
    "# invert scaling for forecast\n",
    "inv_yhat = concatenate((yhat, test_X[:, -(NUMBER_OF_FEATURES - NUMBER_OF_LABELS):]), axis=1)\n",
    "inv_yhat = scaler.inverse_transform(inv_yhat)\n",
    "inv_yhat = inv_yhat[:,:NUMBER_OF_LABELS]\n",
    "inv_yhat"
   ]
  },
  {
   "cell_type": "code",
   "execution_count": null,
   "metadata": {
    "scrolled": true
   },
   "outputs": [],
   "source": [
    "# invert scaling for actual\n",
    "inv_y = concatenate((test_y, test_X[:, -(NUMBER_OF_FEATURES - NUMBER_OF_LABELS):]), axis=1)\n",
    "inv_y = scaler.inverse_transform(inv_y)\n",
    "inv_y = inv_y[:,:NUMBER_OF_LABELS]\n",
    "inv_y"
   ]
  },
  {
   "cell_type": "markdown",
   "metadata": {},
   "source": [
    "## Error Calculations"
   ]
  },
  {
   "cell_type": "markdown",
   "metadata": {},
   "source": [
    "### Main Error Value"
   ]
  },
  {
   "cell_type": "code",
   "execution_count": null,
   "metadata": {},
   "outputs": [],
   "source": [
    "# calculate RMSE\n",
    "rmse = sqrt(mean_squared_error(inv_y, inv_yhat))"
   ]
  },
  {
   "cell_type": "markdown",
   "metadata": {},
   "source": [
    "This is the main value we use to know how much error there is. We need this value to go as down as possible."
   ]
  },
  {
   "cell_type": "markdown",
   "metadata": {},
   "source": [
    "### Alternative Error Analisys"
   ]
  },
  {
   "cell_type": "code",
   "execution_count": null,
   "metadata": {},
   "outputs": [],
   "source": [
    "# my way to calculating Errors\n",
    "errors = (inv_yhat - inv_y) / inv_y * 10000\n",
    "errors = errors.astype('int') / 100\n",
    "errors"
   ]
  },
  {
   "cell_type": "markdown",
   "metadata": {},
   "source": [
    "### Plot of the % of Error of each Predicted Value "
   ]
  },
  {
   "cell_type": "code",
   "execution_count": null,
   "metadata": {},
   "outputs": [],
   "source": [
    "# plot errors\n",
    "pyplot.plot(errors)\n",
    "pyplot.show()"
   ]
  },
  {
   "cell_type": "markdown",
   "metadata": {},
   "source": [
    "### Dollar Difference Between Prediction and Actual Value"
   ]
  },
  {
   "cell_type": "markdown",
   "metadata": {},
   "source": [
    "In the context of the Test dataset, this is what we get if we substract the Actual Value to the Predicted Value."
   ]
  },
  {
   "cell_type": "code",
   "execution_count": null,
   "metadata": {},
   "outputs": [],
   "source": [
    "diff = (inv_yhat - inv_y) \n",
    "diff = diff.astype('int')\n",
    "diff"
   ]
  },
  {
   "cell_type": "markdown",
   "metadata": {},
   "source": [
    "## Returning Predictions & Errors"
   ]
  },
  {
   "cell_type": "markdown",
   "metadata": {},
   "source": [
    "Here we are returning the predictions to the caller program. Only the last row of predictions are needed because they belong to the latest closed candle. "
   ]
  },
  {
   "cell_type": "code",
   "execution_count": null,
   "metadata": {},
   "outputs": [],
   "source": [
    "print(',\"predictions\": \"', inv_yhat[-1], '\"' )"
   ]
  },
  {
   "cell_type": "code",
   "execution_count": null,
   "metadata": {},
   "outputs": [],
   "source": [
    "print(',\"actualValues\": \"', inv_y[-1], '\"' )"
   ]
  },
  {
   "cell_type": "code",
   "execution_count": null,
   "metadata": {},
   "outputs": [],
   "source": [
    "print(',\"difference\": \"', diff[-1], '\"' )"
   ]
  },
  {
   "cell_type": "code",
   "execution_count": null,
   "metadata": {},
   "outputs": [],
   "source": [
    "print(',\"errorRMSE\": %.3f' % rmse)\n",
    "print('}')"
   ]
  },
  {
   "cell_type": "markdown",
   "metadata": {},
   "source": [
    "##### "
   ]
  },
  {
   "cell_type": "markdown",
   "metadata": {},
   "source": [
    "###### "
   ]
  }
 ],
 "metadata": {
  "colab": {
   "collapsed_sections": [],
   "name": "Copy of csv.ipynb",
   "provenance": [],
   "toc_visible": true
  },
  "kernelspec": {
   "display_name": "Python 3",
   "language": "python",
   "name": "python3"
  },
  "language_info": {
   "codemirror_mode": {
    "name": "ipython",
    "version": 3
   },
   "file_extension": ".py",
   "mimetype": "text/x-python",
   "name": "python",
   "nbconvert_exporter": "python",
   "pygments_lexer": "ipython3",
   "version": "3.8.10"
  }
 },
 "nbformat": 4,
 "nbformat_minor": 1
}
